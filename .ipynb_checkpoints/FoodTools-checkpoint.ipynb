{
 "cells": [
  {
   "cell_type": "code",
   "execution_count": 23,
   "metadata": {},
   "outputs": [],
   "source": [
    "import pandas as pd\n",
    "\n",
    "# read the csv file and make a unique list of foods\n",
    "df = pd.read_csv('Data.csv').drop('index', 1)\n",
    "foods = list(df['food'].unique()) # a list of unique foods\n",
    "\n",
    "# return the number of times a food appears and the number of time you like it\n",
    "def search():\n",
    "    food_name = input('Search food: ') # works whether you type it uppercase or lowercase\n",
    "    if food_name in foods:\n",
    "        new_df = df.loc[df['food'] == food_name]\n",
    "        total = new_df['food'].count() # total times the food appears\n",
    "        like = new_df.iloc[:, 1].sum(0) # number of times you like it\n",
    "        # TODO: add preference evaluation\n",
    "        print('-' * 50)\n",
    "        print(f'Out of {total} time(s), you like {food_name} {like} time(s).')\n",
    "        print('-' * 50)\n",
    "        \n",
    "    elif food_name not in foods:\n",
    "        tmp = [] # a list to store possible foods\n",
    "        \"\"\"if the user type a part of a food name\n",
    "        it will return the possible food names\"\"\"\n",
    "        \n",
    "        [tmp.append(item) for item in foods if food_name.lower() in item.lower()] # possible food list\n",
    "        l = [i+1 for i in list(range(len(tmp)))] # index list\n",
    "\n",
    "        if len(tmp) == 0:\n",
    "            print(f'No result related to {food_name}. Please try again.')\n",
    "            return None\n",
    "\n",
    "        print('Do you mean:')\n",
    "\n",
    "        food_dict = dict(zip(l, tmp))\n",
    "        for i in food_dict.keys():\n",
    "            print(i, food_dict[i])\n",
    "        print()\n",
    "\n",
    "        # choose the desired food name again\n",
    "        choice = int(input('Enter the index: '))\n",
    "        new_df = df.loc[df['food'] == food_dict[choice]]\n",
    "        total = new_df['food'].count() # total times the food appears\n",
    "        like = new_df.iloc[:, 1].sum(0) # number of times you like it\n",
    "        score = like / total\n",
    "\n",
    "        print('-' * 80)\n",
    "        print(f'Out of {total} time(s), you like [{food_dict[choice]}] {like} time(s).')\n",
    "        print('-' * 80)\n",
    "    "
   ]
  },
  {
   "cell_type": "code",
   "execution_count": 24,
   "metadata": {},
   "outputs": [
    {
     "name": "stdout",
     "output_type": "stream",
     "text": [
      "Search food: Mac & Cheese\n",
      "--------------------------------------------------\n",
      "Out of 1 time(s), you like Mac & Cheese 1 time(s).\n",
      "--------------------------------------------------\n"
     ]
    }
   ],
   "source": [
    "search()"
   ]
  },
  {
   "cell_type": "code",
   "execution_count": 5,
   "metadata": {},
   "outputs": [
    {
     "name": "stdout",
     "output_type": "stream",
     "text": [
      "Food name: cheese\n",
      "Do you mean:\n",
      "1 Atomic Cheese Sauce\n",
      "2 Blueberry Cheese Ring\n",
      "3 Cheddar Cheese\n",
      "4 Cheese Enchiladas\n",
      "5 Cheese Pizza\n",
      "6 Cheese Ravioli\n",
      "7 Cheese Sauce\n",
      "8 Feta Cheese\n",
      "9 French Fried Mac and Cheese Bites\n",
      "10 Mac & Cheese\n",
      "11 Mac and Cheese Bar\n",
      "12 Pizza with Potato, Sausage and Cheese\n",
      "13 Portobello Cheese Quesadilla\n",
      "14 Vegan Macaroni & Cheese\n",
      "\n",
      "Enter the index: 4\n",
      "--------------------------------------------------------------------------------\n",
      "Out of 1 time(s), you like [Cheese Enchiladas] 1 time(s).\n",
      "--------------------------------------------------------------------------------\n"
     ]
    }
   ],
   "source": [
    "score = search()"
   ]
  },
  {
   "cell_type": "code",
   "execution_count": 6,
   "metadata": {},
   "outputs": [
    {
     "data": {
      "text/plain": [
       "1.0"
      ]
     },
     "execution_count": 6,
     "metadata": {},
     "output_type": "execute_result"
    }
   ],
   "source": []
  },
  {
   "cell_type": "code",
   "execution_count": 17,
   "metadata": {},
   "outputs": [],
   "source": []
  },
  {
   "cell_type": "code",
   "execution_count": 20,
   "metadata": {},
   "outputs": [],
   "source": [
    "def report(food_name):\n",
    "    new_df = df.loc[df['food'] == food_name]\n",
    "    total = new_df['food'].count() # total times the food appears\n",
    "    like = new_df.iloc[:, 1].sum(0) # number of times you like it\n",
    "    score = like / total\n",
    "    print(score)"
   ]
  },
  {
   "cell_type": "code",
   "execution_count": 21,
   "metadata": {},
   "outputs": [
    {
     "name": "stdout",
     "output_type": "stream",
     "text": [
      "1.0\n"
     ]
    }
   ],
   "source": [
    "report('Mac & Cheese')"
   ]
  },
  {
   "cell_type": "code",
   "execution_count": null,
   "metadata": {},
   "outputs": [],
   "source": []
  }
 ],
 "metadata": {
  "kernelspec": {
   "display_name": "Python 3",
   "language": "python",
   "name": "python3"
  },
  "language_info": {
   "codemirror_mode": {
    "name": "ipython",
    "version": 3
   },
   "file_extension": ".py",
   "mimetype": "text/x-python",
   "name": "python",
   "nbconvert_exporter": "python",
   "pygments_lexer": "ipython3",
   "version": "3.6.6"
  }
 },
 "nbformat": 4,
 "nbformat_minor": 2
}
