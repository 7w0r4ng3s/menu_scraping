{
 "cells": [
  {
   "cell_type": "code",
   "execution_count": 9,
   "metadata": {},
   "outputs": [],
   "source": [
    "# import dependencies\n",
    "import os\n",
    "import io\n",
    "import bs4\n",
    "import requests\n",
    "from bs4 import BeautifulSoup\n",
    "from urllib.parse import urljoin\n",
    "# from selenium import webdriver\n",
    "# from lxml import html\n",
    "import csv\n",
    "from datetime import datetime\n",
    "from pytz import timezone\n",
    "import pandas as pd\n",
    "import FoodTools"
   ]
  },
  {
   "cell_type": "code",
   "execution_count": 10,
   "metadata": {},
   "outputs": [],
   "source": [
    "# url of ucsc college 9 & 10 dining hall\n",
    "url = 'https://nutrition.sa.ucsc.edu/nutframe.asp?sName=UC+Santa+Cruz+Dining&locationNum=40&locationName=Colleges+Nine+%26+Ten+Dining+Hall&naFlag=1'"
   ]
  },
  {
   "cell_type": "code",
   "execution_count": 11,
   "metadata": {},
   "outputs": [],
   "source": [
    "# scrap the menu data from the webpage\n",
    "# since the menu data is cannot be scrapped from the html file directly\n",
    "# we have to make additional requests to get the frame page contents \n",
    "with requests.Session() as session:\n",
    "    response = session.get(url)\n",
    "    soup = BeautifulSoup(response.content, 'html.parser')\n",
    "\n",
    "    for frame in soup.select(\"frameset frame\"):\n",
    "        frame_url = urljoin(url, frame[\"src\"])\n",
    "        response = session.get(frame_url)\n",
    "        frame_soup = BeautifulSoup(response.content, 'html.parser') \n",
    "        # print(frame_soup.prettify())"
   ]
  },
  {
   "cell_type": "code",
   "execution_count": 12,
   "metadata": {},
   "outputs": [],
   "source": [
    "# extract both the meal name and food name from html\n",
    "meal_name = frame_soup.find_all('div', attrs={'class': 'menusampmeals'})\n",
    "food_name = frame_soup.find_all('div', attrs={'class': 'menusamprecipes'})"
   ]
  },
  {
   "cell_type": "code",
   "execution_count": 13,
   "metadata": {},
   "outputs": [
    {
     "name": "stdout",
     "output_type": "stream",
     "text": [
      "['Breakfast', 'Lunch', 'Dinner', 'Late Night']\n",
      "Length:  4\n"
     ]
    }
   ],
   "source": [
    "# convert the name of the meal type in html form to a list form\n",
    "meal_type = [item.string for item in meal_name]\n",
    "print(meal_type)\n",
    "print('Length: ', len(meal_type))"
   ]
  },
  {
   "cell_type": "code",
   "execution_count": 14,
   "metadata": {},
   "outputs": [
    {
     "name": "stdout",
     "output_type": "stream",
     "text": [
      "['Chicken Apple Sausage', 'Oatmeal Gluten-Free', 'Tator Tots', 'Cage Free Scrambled Eggs', 'Chicken Apple Sausage', 'French Waffles', 'Natural BridgesTofu Scramble', 'Quiche Alsace with Ham', 'Tator Tots', 'Chicken Tortilla Soup', 'Creamy Wild Mushroom Bisque', 'Oven Roasted Chicken Thigh', 'Red Curry Tofu', 'Steamed Rice', 'Thai Red Curry Beef', 'Cheese Pizza', 'Greek Pizza', 'Roasted Seasonal Vegetables', 'Blueberry Coffee Cake Low Fat', 'Cherry Turnovers', 'Lemon almond Muffin', 'Oatbran Cranberry Muffin', 'Old Fashioned Frosted Donut', 'BBQ Shredded Pork', 'Chicken Tenders', 'Chipotle Gardein Strips', 'Mac & Cheese Bar Condiments', 'Mac & Cheese', 'Mac and Cheese Bar', 'Vegan Macaroni & Cheese', 'Chicken Tortilla Soup', 'Creamy Wild Mushroom Bisque', 'Garlic Mashed Potatoes', 'Oven Roasted Chicken Thigh', 'Roast Beef with Sherried Mushroom Sauce', 'Steamed Rice', 'Cheese Pizza', 'Greek Pizza', 'Roasted Seasonal Vegetables', 'Burger Turkey', 'Steak Cut Fries', 'Bread Pudding', 'UCSC Bakery French Rolls', 'BAR Hot Dog', 'Cheese Sauce', 'Chili con Carne', 'French Fried Mac and Cheese Bites', 'Hot Dog All Beef', 'Jalapeno', 'Onions', 'Sauerkraut', 'Sweet Relish', 'Cajun Honey Glazed Chicken Breast', 'Corn and Okra Maque Choux', 'Oven Roasted Chicken Thigh', 'Steamed Rice', 'Tchoupitoulas Potatoes', 'Cheese Pizza', 'Greek Pizza', 'California BLT Wrap', 'Curly Fries', 'BAR Boardwalk Burgers', 'Bacon', 'Burger Beef', 'Burger Turkey', 'Cheese Sauce', 'Chili con Carne', 'Onion Rings', 'Sauteed Mushrooms', 'Vegan Malibu Burger']\n",
      "Length:  70\n"
     ]
    }
   ],
   "source": [
    "# convert the food name in html form to a list form\n",
    "food_list = [item.string for item in food_name]\n",
    "print(food_list)\n",
    "print('Length: ', len(food_list))"
   ]
  },
  {
   "cell_type": "code",
   "execution_count": 15,
   "metadata": {},
   "outputs": [
    {
     "name": "stdout",
     "output_type": "stream",
     "text": [
      "['BAR Boardwalk Burgers', 'BAR Hot Dog', 'BBQ Shredded Pork', 'Bacon', 'Blueberry Coffee Cake Low Fat', 'Bread Pudding', 'Burger Beef', 'Burger Turkey', 'Cage Free Scrambled Eggs', 'Cajun Honey Glazed Chicken Breast', 'California BLT Wrap', 'Cheese Pizza', 'Cheese Sauce', 'Cherry Turnovers', 'Chicken Apple Sausage', 'Chicken Tenders', 'Chicken Tortilla Soup', 'Chili con Carne', 'Chipotle Gardein Strips', 'Corn and Okra Maque Choux', 'Creamy Wild Mushroom Bisque', 'Curly Fries', 'French Fried Mac and Cheese Bites', 'French Waffles', 'Garlic Mashed Potatoes', 'Greek Pizza', 'Hot Dog All Beef', 'Jalapeno', 'Lemon almond Muffin', 'Mac & Cheese', 'Mac & Cheese Bar Condiments', 'Mac and Cheese Bar', 'Natural BridgesTofu Scramble', 'Oatbran Cranberry Muffin', 'Oatmeal Gluten-Free', 'Old Fashioned Frosted Donut', 'Onion Rings', 'Onions', 'Oven Roasted Chicken Thigh', 'Quiche Alsace with Ham', 'Red Curry Tofu', 'Roast Beef with Sherried Mushroom Sauce', 'Roasted Seasonal Vegetables', 'Sauerkraut', 'Sauteed Mushrooms', 'Steak Cut Fries', 'Steamed Rice', 'Sweet Relish', 'Tator Tots', 'Tchoupitoulas Potatoes', 'Thai Red Curry Beef', 'UCSC Bakery French Rolls', 'Vegan Macaroni & Cheese', 'Vegan Malibu Burger']\n",
      "Sorted length:  54\n"
     ]
    }
   ],
   "source": [
    "# In case of dupliate food name, the list should be converted to a set\n",
    "# sort\n",
    "food_list = sorted(list(set(food_list)))\n",
    "print(food_list)\n",
    "print('Sorted length: ', len(food_list))"
   ]
  },
  {
   "cell_type": "code",
   "execution_count": 16,
   "metadata": {
    "scrolled": true
   },
   "outputs": [
    {
     "name": "stdout",
     "output_type": "stream",
     "text": [
      "BAR Boardwalk Burgers\n",
      "0\n",
      "BAR Hot Dog\n",
      "1\n",
      "BBQ Shredded Pork\n",
      "1\n",
      "Bacon\n",
      "1\n",
      "Blueberry Coffee Cake Low Fat\n",
      "0\n",
      "Bread Pudding\n",
      "0\n",
      "Burger Beef\n",
      "1\n",
      "Burger Turkey\n",
      "0\n",
      "Cage Free Scrambled Eggs\n",
      "1\n",
      "Cajun Honey Glazed Chicken Breast\n",
      "0\n",
      "California BLT Wrap\n",
      "0\n",
      "Cheese Pizza\n",
      "0\n",
      "Cheese Sauce\n",
      "0\n",
      "Cherry Turnovers\n",
      "0\n",
      "Chicken Apple Sausage\n",
      "0\n",
      "Chicken Tenders\n",
      "1\n",
      "Chicken Tortilla Soup\n",
      "0\n",
      "Chili con Carne\n",
      "0\n",
      "Chipotle Gardein Strips\n",
      "0\n",
      "Corn and Okra Maque Choux\n",
      "0\n",
      "Creamy Wild Mushroom Bisque\n",
      "0\n",
      "Curly Fries\n",
      "1\n",
      "French Fried Mac and Cheese Bites\n",
      "0\n",
      "French Waffles\n",
      "0\n",
      "Garlic Mashed Potatoes\n",
      "0\n",
      "Greek Pizza\n",
      "0\n",
      "Hot Dog All Beef\n",
      "1\n",
      "Jalapeno\n",
      "0\n",
      "Lemon almond Muffin\n",
      "0\n",
      "Mac & Cheese\n",
      "0\n",
      "Mac & Cheese Bar Condiments\n",
      "0\n",
      "Mac and Cheese Bar\n",
      "0\n",
      "Natural BridgesTofu Scramble\n",
      "0\n",
      "Oatbran Cranberry Muffin\n",
      "0\n",
      "Oatmeal Gluten-Free\n",
      "0\n",
      "Old Fashioned Frosted Donut\n",
      "0\n",
      "Onion Rings\n",
      "1\n",
      "Onions\n",
      "0\n",
      "Oven Roasted Chicken Thigh\n",
      "0\n",
      "Quiche Alsace with Ham\n",
      "0\n",
      "Red Curry Tofu\n",
      "0\n",
      "Roast Beef with Sherried Mushroom Sauce\n",
      "0\n",
      "Roasted Seasonal Vegetables\n",
      "0\n",
      "Sauerkraut\n",
      "0\n",
      "Sauteed Mushrooms\n",
      "0\n",
      "Steak Cut Fries\n",
      "1\n",
      "Steamed Rice\n",
      "1\n",
      "Sweet Relish\n",
      "0\n",
      "Tator Tots\n",
      "1\n",
      "Tchoupitoulas Potatoes\n",
      "0\n",
      "Thai Red Curry Beef\n",
      "0\n",
      "UCSC Bakery French Rolls\n",
      "0\n",
      "Vegan Macaroni & Cheese\n",
      "0\n",
      "Vegan Malibu Burger\n",
      "0\n",
      "[0, 1, 1, 1, 0, 0, 1, 0, 1, 0, 0, 0, 0, 0, 0, 1, 0, 0, 0, 0, 0, 1, 0, 0, 0, 0, 1, 0, 0, 0, 0, 0, 0, 0, 0, 0, 1, 0, 0, 0, 0, 0, 0, 0, 0, 1, 1, 0, 1, 0, 0, 0, 0, 0]\n",
      "Preference length:  54\n"
     ]
    }
   ],
   "source": [
    "# preference list, labeled by myself\n",
    "# pref_1 = [1, 1, 1, 0, 0, 1, 0, 0, 0, 1, 1, 0, 0, 1, 0, 0, 0, 0, 0, 1, 1, 0, 0, 0, 0, 1, 0, 0, 0 ]\n",
    "# pref_2 = [1, 1, 1, 1, 0, 0, 1, 1, 1, 1, 1, 0, 0, 1, 0, 0, 0, 0, 1, 0, 0, 1, 1, 1, 0, 0, 0]\n",
    "# pref_3 = [0, 1, 1, 1, 0, 0, 0, 0, 0, 1, 1, 1, 1, 0, 0, 0, 1, 1, 0, 1, 0, 0, 0, 1]\n",
    "# pref_4 = [0, 0, 1, 1, 0, 0, 1, 1, 1, 0, 1, 0, 0, 0, 0, 1, 0, 0, 1, 1, 0, 1, 1, 1, 0, 0, 1, 0, 1, 0, 1, 1, 1, 0, 0]\n",
    "# pref_5 = [1, 0, 1, 0, 0, 0, 1, 1, 0, 1, 0, 0, 0, 0, 1, 0, 0, 0, 0, 0, 1, 0, 0, 1, 0, 0, 1, 0, 0, 1, 0, 1, 0]\n",
    "pref = []\n",
    "for i in food_list:\n",
    "    print(i)\n",
    "    preference = int(input())\n",
    "    if preference != 0 and preference != 1:\n",
    "        print('Incrorrect input')\n",
    "        break\n",
    "    pref.append(preference)\n",
    "print(pref)\n",
    "print('Preference length: ', len(pref))"
   ]
  },
  {
   "cell_type": "code",
   "execution_count": 17,
   "metadata": {},
   "outputs": [
    {
     "name": "stdout",
     "output_type": "stream",
     "text": [
      "Current US/Pacific time:  2018-09-29\n"
     ]
    }
   ],
   "source": [
    "# timezone setting\n",
    "us_pacific = timezone('US/Pacific')\n",
    "time = datetime.now(us_pacific)\n",
    "us_time = time.strftime('%Y-%m-%d')\n",
    "print('Current US/Pacific time: ', us_time)"
   ]
  },
  {
   "cell_type": "code",
   "execution_count": 18,
   "metadata": {},
   "outputs": [
    {
     "name": "stdout",
     "output_type": "stream",
     "text": [
      "Current path:  /Users/7w0r4ng3s/Documents/menu_scraping/data/2018-09-29.csv\n"
     ]
    }
   ],
   "source": [
    "# write the food list to a csv file\n",
    "path = '/Users/7w0r4ng3s/Documents/menu_scraping/data/{}.csv'.format(us_time)\n",
    "print('Current path: ', path)\n",
    "path_2 = '/Users/7w0r4ng3s/Documents/menu_scraping/data/'"
   ]
  },
  {
   "cell_type": "code",
   "execution_count": 19,
   "metadata": {},
   "outputs": [
    {
     "name": "stdout",
     "output_type": "stream",
     "text": [
      "write_csv: COMPLETED\n",
      "add_column_name: COMPLETED\n"
     ]
    }
   ],
   "source": [
    "def write_data():\n",
    "    with open(path, \"w\") as output:\n",
    "        writer = csv.writer(output, lineterminator='\\n')\n",
    "        for key, val in zip(food_list, pref):\n",
    "            writer.writerow([key, val])\n",
    "    print('write_csv: COMPLETED')\n",
    "    # add index and column names\n",
    "    df = pd.read_csv(path, names=['food', 'pref'])\n",
    "    df.index.names = ['index']\n",
    "    df.to_csv(path)\n",
    "    print('add_column_name: COMPLETED')\n",
    "    \n",
    "write_data()"
   ]
  },
  {
   "cell_type": "code",
   "execution_count": 20,
   "metadata": {},
   "outputs": [],
   "source": [
    "# def merge_data():\n",
    "#     # TODO: Figure out a way to get rid of the unnamed: 0 column\n",
    "#     # TODO: Modify merge_data() so that new data can be append to data.csv\n",
    "#     files = [f for f in os.listdir('.') if os.path.isfile(f)]\n",
    "\n",
    "#     merged = []\n",
    "\n",
    "#     for f in files:\n",
    "#         filename, ext = os.path.splitext(f)\n",
    "#         if ext == '.csv':\n",
    "#             read = pd.read_csv(f)\n",
    "#             merged.append(read)\n",
    "\n",
    "#     result = pd.concat(merged)\n",
    "#     result.to_csv('data.csv')\n",
    "    \n",
    "# merge_data()"
   ]
  },
  {
   "cell_type": "code",
   "execution_count": 21,
   "metadata": {},
   "outputs": [],
   "source": [
    "def append_data():\n",
    "    df1 = pd.read_csv('Data.csv', index_col='index')\n",
    "    df1.index.names = ['index']\n",
    "    df2 = pd.read_csv(path, index_col='index')\n",
    "    df3 = df1.append(df2).reset_index()\n",
    "    df3 = df3.drop('index', 1).sort_values('food').reset_index().drop('index', 1)\n",
    "    df3.index.names = ['index']\n",
    "    df3.to_csv('Data.csv')\n",
    "    \n",
    "append_data()"
   ]
  },
  {
   "cell_type": "code",
   "execution_count": null,
   "metadata": {},
   "outputs": [],
   "source": [
    "FoodTools.search()"
   ]
  },
  {
   "cell_type": "code",
   "execution_count": 17,
   "metadata": {},
   "outputs": [
    {
     "data": {
      "text/plain": [
       "['Atomic Cheese Sauce',\n",
       " 'Bar Indian',\n",
       " 'Bell Peppers',\n",
       " 'Black Beans',\n",
       " 'Bread Bun',\n",
       " 'Burger Turkey',\n",
       " 'Cage Free Eggs',\n",
       " 'Cage Free Omelette Bar',\n",
       " 'Cheddar Cheese',\n",
       " 'Condiments',\n",
       " 'Feta Cheese',\n",
       " 'Fresh Organic Spinach',\n",
       " 'Hawaiian Coleslaw',\n",
       " 'Jalapeno',\n",
       " 'Mexican Rice',\n",
       " 'Oatmeal Gluten-Free',\n",
       " 'Onions',\n",
       " 'Original Naan',\n",
       " 'Oven Roasted Chicken Thigh',\n",
       " 'Pepperoni Pizza',\n",
       " 'Roasted Corn',\n",
       " 'Roasted Seasonal Vegetables',\n",
       " 'Roasted Vegetables',\n",
       " 'Sauteed Mushrooms',\n",
       " 'Sliced Olived',\n",
       " 'Steamed Seasonal Vegetables',\n",
       " 'Stir Fry Vegetables',\n",
       " 'Tuscan Vegetable Soup',\n",
       " 'Vegan Malibu Burger',\n",
       " 'Vegan Peanut Granola',\n",
       " 'Vegan Tenders']"
      ]
     },
     "execution_count": 17,
     "metadata": {},
     "output_type": "execute_result"
    }
   ],
   "source": [
    "FoodTools.never_eat()"
   ]
  },
  {
   "cell_type": "code",
   "execution_count": null,
   "metadata": {},
   "outputs": [],
   "source": []
  }
 ],
 "metadata": {
  "kernelspec": {
   "display_name": "Python 3",
   "language": "python",
   "name": "python3"
  },
  "language_info": {
   "codemirror_mode": {
    "name": "ipython",
    "version": 3
   },
   "file_extension": ".py",
   "mimetype": "text/x-python",
   "name": "python",
   "nbconvert_exporter": "python",
   "pygments_lexer": "ipython3",
   "version": "3.6.6"
  }
 },
 "nbformat": 4,
 "nbformat_minor": 2
}
