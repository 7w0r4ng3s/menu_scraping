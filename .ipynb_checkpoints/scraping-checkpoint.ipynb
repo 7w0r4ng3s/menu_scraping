{
 "cells": [
  {
   "cell_type": "code",
   "execution_count": 22,
   "metadata": {},
   "outputs": [],
   "source": [
    "# import dependencies\n",
    "import os\n",
    "import io\n",
    "import bs4\n",
    "import requests\n",
    "from bs4 import BeautifulSoup\n",
    "from urllib.parse import urljoin\n",
    "# from selenium import webdriver\n",
    "# from lxml import html\n",
    "import csv\n",
    "from datetime import datetime\n",
    "from pytz import timezone\n",
    "import pandas as pd\n",
    "import FoodTools"
   ]
  },
  {
   "cell_type": "code",
   "execution_count": 4,
   "metadata": {},
   "outputs": [],
   "source": [
    "# url of ucsc college 9 & 10 dining hall\n",
    "url = 'https://nutrition.sa.ucsc.edu/nutframe.asp?sName=UC+Santa+Cruz+Dining&locationNum=40&locationName=Colleges+Nine+%26+Ten+Dining+Hall&naFlag=1'"
   ]
  },
  {
   "cell_type": "code",
   "execution_count": 5,
   "metadata": {},
   "outputs": [],
   "source": [
    "# scrap the menu data from the webpage\n",
    "# since the menu data is cannot be scrapped from the html file directly\n",
    "# we have to make additional requests to get the frame page contents \n",
    "with requests.Session() as session:\n",
    "    response = session.get(url)\n",
    "    soup = BeautifulSoup(response.content, 'html.parser')\n",
    "\n",
    "    for frame in soup.select(\"frameset frame\"):\n",
    "        frame_url = urljoin(url, frame[\"src\"])\n",
    "        response = session.get(frame_url)\n",
    "        frame_soup = BeautifulSoup(response.content, 'html.parser') \n",
    "        # print(frame_soup.prettify())"
   ]
  },
  {
   "cell_type": "code",
   "execution_count": 6,
   "metadata": {},
   "outputs": [],
   "source": [
    "# extract both the meal name and food name from html\n",
    "meal_name = frame_soup.find_all('div', attrs={'class': 'menusampmeals'})\n",
    "food_name = frame_soup.find_all('div', attrs={'class': 'menusamprecipes'})"
   ]
  },
  {
   "cell_type": "code",
   "execution_count": 7,
   "metadata": {},
   "outputs": [
    {
     "name": "stdout",
     "output_type": "stream",
     "text": [
      "['Breakfast', 'Lunch', 'Dinner']\n",
      "Length:  3\n"
     ]
    }
   ],
   "source": [
    "# convert the name of the meal type in html form to a list form\n",
    "meal_type = [item.string for item in meal_name]\n",
    "print(meal_type)\n",
    "print('Length: ', len(meal_type))"
   ]
  },
  {
   "cell_type": "code",
   "execution_count": 8,
   "metadata": {},
   "outputs": [
    {
     "name": "stdout",
     "output_type": "stream",
     "text": [
      "['Belgian Waffles', \"Bob's Pancakes\", 'Breakfast Enchiladas', 'Cage Free Scrambled Eggs', 'Crispy Bacon', 'Hard-boiled Cage Free Eggs', 'Oatmeal Gluten-Free', 'Papas Fritas', 'Soyrizo Tofu Scramble', 'Banana Maple Walnut Muffin', 'Blueberry Cheese Ring', 'Strawberry Crunch Muffin', 'Vegan Peanut Granola', 'Bell Peppers', 'Cage Free Eggs', 'Cage Free Omelette Bar', 'Cheddar Cheese', 'Feta Cheese', 'Fresh Organic Spinach', 'Fresh Tomato', 'Jalapeno', 'Onions', 'Oven Roasted Turkey', 'Sliced Olived', 'Smoked Ham', 'Chicken Tortilla Soup', 'Fire Roasted Corn Soup', 'Oven Roasted Chicken Thigh', 'Tamarind BBQ Tempeh', 'Cheese Pizza', 'Combo Meat Pizza', 'Roma Pesto Pizza', 'Baked Sweet Potato', 'Roasted Corn', 'Steamed Rice', 'Roasted Kale and Butternut Squash', 'Bourbon Snicker Peanut Bar', 'Vegan Oatmeal Cookie', 'Cheese Sauce', 'Condiments', 'Jalapeno', 'Nachos Bar', 'Taqueria Chicken', 'Taqueria Ground Beef', 'Tortilla Chips', 'French Fried Mac and Cheese Bites', 'Ranch Chicken Sandwich with Bacon', 'Chicken Tortilla Soup', 'Fire Roasted Corn Soup', 'Chipotle Lime Pork Loin', 'Oven Roasted Chicken Thigh', 'Vegetable Lo Mein', 'Cheese Pizza', 'Papas Bravas', 'Steamed Rice', 'Roasted Seasonal Vegetables', 'Curly Fries', 'Mushroom & Swiss Burger with Onions', 'Portobello Cheese Quesadilla', 'Bourbon Snicker Peanut Bar', 'Chocolate Cream Pie', 'UCSC Bakery French Rolls', 'BAR Wings', 'BBQ Wings', 'Condiments', 'Hawaiian Coleslaw', \"Hot 'N Spicy Wings\", 'Teriyaki Glaze Wings', 'Vegan Baked Beans', 'Vegan Tenders']\n",
      "Length:  70\n"
     ]
    }
   ],
   "source": [
    "# convert the food name in html form to a list form\n",
    "food_list = [item.string for item in food_name]\n",
    "print(food_list)\n",
    "print('Length: ', len(food_list))"
   ]
  },
  {
   "cell_type": "code",
   "execution_count": 9,
   "metadata": {},
   "outputs": [
    {
     "name": "stdout",
     "output_type": "stream",
     "text": [
      "['BAR Wings', 'BBQ Wings', 'Baked Sweet Potato', 'Banana Maple Walnut Muffin', 'Belgian Waffles', 'Bell Peppers', 'Blueberry Cheese Ring', \"Bob's Pancakes\", 'Bourbon Snicker Peanut Bar', 'Breakfast Enchiladas', 'Cage Free Eggs', 'Cage Free Omelette Bar', 'Cage Free Scrambled Eggs', 'Cheddar Cheese', 'Cheese Pizza', 'Cheese Sauce', 'Chicken Tortilla Soup', 'Chipotle Lime Pork Loin', 'Chocolate Cream Pie', 'Combo Meat Pizza', 'Condiments', 'Crispy Bacon', 'Curly Fries', 'Feta Cheese', 'Fire Roasted Corn Soup', 'French Fried Mac and Cheese Bites', 'Fresh Organic Spinach', 'Fresh Tomato', 'Hard-boiled Cage Free Eggs', 'Hawaiian Coleslaw', \"Hot 'N Spicy Wings\", 'Jalapeno', 'Mushroom & Swiss Burger with Onions', 'Nachos Bar', 'Oatmeal Gluten-Free', 'Onions', 'Oven Roasted Chicken Thigh', 'Oven Roasted Turkey', 'Papas Bravas', 'Papas Fritas', 'Portobello Cheese Quesadilla', 'Ranch Chicken Sandwich with Bacon', 'Roasted Corn', 'Roasted Kale and Butternut Squash', 'Roasted Seasonal Vegetables', 'Roma Pesto Pizza', 'Sliced Olived', 'Smoked Ham', 'Soyrizo Tofu Scramble', 'Steamed Rice', 'Strawberry Crunch Muffin', 'Tamarind BBQ Tempeh', 'Taqueria Chicken', 'Taqueria Ground Beef', 'Teriyaki Glaze Wings', 'Tortilla Chips', 'UCSC Bakery French Rolls', 'Vegan Baked Beans', 'Vegan Oatmeal Cookie', 'Vegan Peanut Granola', 'Vegan Tenders', 'Vegetable Lo Mein']\n",
      "Sorted length:  62\n"
     ]
    }
   ],
   "source": [
    "# In case of dupliate food name, the list should be converted to a set\n",
    "# sort\n",
    "food_list = sorted(list(set(food_list)))\n",
    "print(food_list)\n",
    "print('Sorted length: ', len(food_list))"
   ]
  },
  {
   "cell_type": "code",
   "execution_count": 13,
   "metadata": {},
   "outputs": [
    {
     "name": "stdout",
     "output_type": "stream",
     "text": [
      "BAR Wings\n",
      "0\n",
      "BBQ Wings\n",
      "0\n",
      "Baked Sweet Potato\n",
      "0\n",
      "Banana Maple Walnut Muffin\n",
      "0\n",
      "Belgian Waffles\n",
      "1\n",
      "Bell Peppers\n",
      "0\n",
      "Blueberry Cheese Ring\n",
      "1\n",
      "Bob's Pancakes\n",
      "1\n",
      "Bourbon Snicker Peanut Bar\n",
      "0\n",
      "Breakfast Enchiladas\n",
      "0\n",
      "Cage Free Eggs\n",
      "0\n",
      "Cage Free Omelette Bar\n",
      "0\n",
      "Cage Free Scrambled Eggs\n",
      "1\n",
      "Cheddar Cheese\n",
      "0\n",
      "Cheese Pizza\n",
      "1\n",
      "Cheese Sauce\n",
      "1\n",
      "Chicken Tortilla Soup\n",
      "1\n",
      "Chipotle Lime Pork Loin\n",
      "0\n",
      "Chocolate Cream Pie\n",
      "0\n",
      "Combo Meat Pizza\n",
      "0\n",
      "Condiments\n",
      "0\n",
      "Crispy Bacon\n",
      "1\n",
      "Curly Fries\n",
      "1\n",
      "Feta Cheese\n",
      "0\n",
      "Fire Roasted Corn Soup\n",
      "0\n",
      "French Fried Mac and Cheese Bites\n",
      "0\n",
      "Fresh Organic Spinach\n",
      "0\n",
      "Fresh Tomato\n",
      "0\n",
      "Hard-boiled Cage Free Eggs\n",
      "0\n",
      "Hawaiian Coleslaw\n",
      "0\n",
      "Hot 'N Spicy Wings\n",
      "0\n",
      "Jalapeno\n",
      "0\n",
      "Mushroom & Swiss Burger with Onions\n",
      "0\n",
      "Nachos Bar\n",
      "0\n",
      "Oatmeal Gluten-Free\n",
      "0\n",
      "Onions\n",
      "0\n",
      "Oven Roasted Chicken Thigh\n",
      "0\n",
      "Oven Roasted Turkey\n",
      "0\n",
      "Papas Bravas\n",
      "0\n",
      "Papas Fritas\n",
      "0\n",
      "Portobello Cheese Quesadilla\n",
      "0\n",
      "Ranch Chicken Sandwich with Bacon\n",
      "0\n",
      "Roasted Corn\n",
      "0\n",
      "Roasted Kale and Butternut Squash\n",
      "0\n",
      "Roasted Seasonal Vegetables\n",
      "0\n",
      "Roma Pesto Pizza\n",
      "0\n",
      "Sliced Olived\n",
      "0\n",
      "Smoked Ham\n",
      "0\n",
      "Soyrizo Tofu Scramble\n",
      "0\n",
      "Steamed Rice\n",
      "1\n",
      "Strawberry Crunch Muffin\n",
      "1\n",
      "Tamarind BBQ Tempeh\n",
      "0\n",
      "Taqueria Chicken\n",
      "0\n",
      "Taqueria Ground Beef\n",
      "0\n",
      "Teriyaki Glaze Wings\n",
      "0\n",
      "Tortilla Chips\n",
      "0\n",
      "UCSC Bakery French Rolls\n",
      "1\n",
      "Vegan Baked Beans\n",
      "0\n",
      "Vegan Oatmeal Cookie\n",
      "0\n",
      "Vegan Peanut Granola\n",
      "0\n",
      "Vegan Tenders\n",
      "0\n",
      "Vegetable Lo Mein\n",
      "0\n",
      "[0, 0, 0, 0, 1, 0, 1, 1, 0, 0, 0, 0, 1, 0, 1, 1, 1, 0, 0, 0, 0, 1, 1, 0, 0, 0, 0, 0, 0, 0, 0, 0, 0, 0, 0, 0, 0, 0, 0, 0, 0, 0, 0, 0, 0, 0, 0, 0, 0, 1, 1, 0, 0, 0, 0, 0, 1, 0, 0, 0, 0, 0]\n",
      "Preference length:  62\n"
     ]
    }
   ],
   "source": [
    "# preference list, labeled by myself\n",
    "# pref_1 = [1, 1, 1, 0, 0, 1, 0, 0, 0, 1, 1, 0, 0, 1, 0, 0, 0, 0, 0, 1, 1, 0, 0, 0, 0, 1, 0, 0, 0 ]\n",
    "# pref_2 = [1, 1, 1, 1, 0, 0, 1, 1, 1, 1, 1, 0, 0, 1, 0, 0, 0, 0, 1, 0, 0, 1, 1, 1, 0, 0, 0]\n",
    "# pref_3 = [0, 1, 1, 1, 0, 0, 0, 0, 0, 1, 1, 1, 1, 0, 0, 0, 1, 1, 0, 1, 0, 0, 0, 1]\n",
    "# pref_4 = [0, 0, 1, 1, 0, 0, 1, 1, 1, 0, 1, 0, 0, 0, 0, 1, 0, 0, 1, 1, 0, 1, 1, 1, 0, 0, 1, 0, 1, 0, 1, 1, 1, 0, 0]\n",
    "# pref_5 = [1, 0, 1, 0, 0, 0, 1, 1, 0, 1, 0, 0, 0, 0, 1, 0, 0, 0, 0, 0, 1, 0, 0, 1, 0, 0, 1, 0, 0, 1, 0, 1, 0]\n",
    "pref = []\n",
    "for i in food_list:\n",
    "    print(i)\n",
    "    preference = int(input())\n",
    "    pref.append(preference)\n",
    "print(pref)\n",
    "print('Preference length: ', len(pref))"
   ]
  },
  {
   "cell_type": "code",
   "execution_count": 15,
   "metadata": {},
   "outputs": [
    {
     "name": "stdout",
     "output_type": "stream",
     "text": [
      "Current US/Pacific time:  2018-09-18\n"
     ]
    }
   ],
   "source": [
    "# timezone setting\n",
    "us_pacific = timezone('US/Pacific')\n",
    "time = datetime.now(us_pacific)\n",
    "us_time = time.strftime('%Y-%m-%d')\n",
    "print('Current US/Pacific time: ', us_time)"
   ]
  },
  {
   "cell_type": "code",
   "execution_count": 16,
   "metadata": {},
   "outputs": [
    {
     "name": "stdout",
     "output_type": "stream",
     "text": [
      "Current path:  /Users/7w0r4ng3s/Desktop/menu_scraping/data/2018-09-18.csv\n"
     ]
    }
   ],
   "source": [
    "# write the food list to a csv file\n",
    "path = '/Users/7w0r4ng3s/Desktop/menu_scraping/data/{}.csv'.format(us_time)\n",
    "print('Current path: ', path)\n",
    "path_2 = '/Users/7w0r4ng3s/Desktop/menu_scraping/data/'"
   ]
  },
  {
   "cell_type": "code",
   "execution_count": 17,
   "metadata": {},
   "outputs": [
    {
     "name": "stdout",
     "output_type": "stream",
     "text": [
      "write_csv: COMPLETED\n",
      "add_column_name: COMPLETED\n"
     ]
    }
   ],
   "source": [
    "def write_data():\n",
    "    with open(path, \"w\") as output:\n",
    "        writer = csv.writer(output, lineterminator='\\n')\n",
    "        for key, val in zip(food_list, pref):\n",
    "            writer.writerow([key, val])\n",
    "    print('write_csv: COMPLETED')\n",
    "    # add index and column names\n",
    "    df = pd.read_csv(path, names=['food', 'pref'])\n",
    "    df.index.names = ['index']\n",
    "    df.to_csv(path)\n",
    "    print('add_column_name: COMPLETED')\n",
    "    \n",
    "write_data()"
   ]
  },
  {
   "cell_type": "code",
   "execution_count": 18,
   "metadata": {},
   "outputs": [],
   "source": [
    "# def merge_data():\n",
    "#     # TODO: Figure out a way to get rid of the unnamed: 0 column\n",
    "#     # TODO: Modify merge_data() so that new data can be append to data.csv\n",
    "#     files = [f for f in os.listdir('.') if os.path.isfile(f)]\n",
    "\n",
    "#     merged = []\n",
    "\n",
    "#     for f in files:\n",
    "#         filename, ext = os.path.splitext(f)\n",
    "#         if ext == '.csv':\n",
    "#             read = pd.read_csv(f)\n",
    "#             merged.append(read)\n",
    "\n",
    "#     result = pd.concat(merged)\n",
    "#     result.to_csv('data.csv')\n",
    "    \n",
    "# merge_data()"
   ]
  },
  {
   "cell_type": "code",
   "execution_count": 19,
   "metadata": {},
   "outputs": [],
   "source": [
    "def append_data():\n",
    "    df1 = pd.read_csv('Data.csv', index_col='index')\n",
    "    df1.index.names = ['index']\n",
    "    df2 = pd.read_csv(path, index_col='index')\n",
    "    df3 = df1.append(df2).reset_index()\n",
    "    df3 = df3.drop('index', 1).sort_values('food').reset_index().drop('index', 1)\n",
    "    df3.index.names = ['index']\n",
    "    df3.to_csv('Data.csv')\n",
    "    \n",
    "append_data()"
   ]
  },
  {
   "cell_type": "code",
   "execution_count": 23,
   "metadata": {},
   "outputs": [
    {
     "name": "stdout",
     "output_type": "stream",
     "text": [
      "Food name: chicken\n",
      "Do you mean:\n",
      "1 Chicken Apple Sausage\n",
      "2 Chicken Breast Milanese\n",
      "3 Chicken Mango Sausage\n",
      "4 Chicken Noodle Soup\n",
      "5 Chicken Nuggets\n",
      "6 Chicken Tenders\n",
      "7 Chicken Tikka Masala\n",
      "8 Chicken Tortilla Soup\n",
      "9 Cuban Banana BBQ'd Chicken\n",
      "10 Fried Chicken\n",
      "11 Grilled Huli Huli Chicken\n",
      "12 Halal Chicken Patty Sandwich\n",
      "13 Island BBQ Chicken\n",
      "14 Madras Chicken\n",
      "15 Oven Roasted Allergen Free Chicken Thigh\n",
      "16 Oven Roasted Chicken Thigh\n",
      "17 Peanut Kung Pao Chicken\n",
      "18 Pineapple Chicken Curry\n",
      "19 Ranch Chicken Sandwich with Bacon\n",
      "20 Spicy Vegan Chicken and Broccoli Stir Fry\n",
      "21 Taqueria Chicken\n",
      "22 Teriyaki Chicken Shoyu\n",
      "23 Thai Coconut Curry Chicken Soup\n",
      "\n",
      "Enter the index: 10\n",
      "--------------------------------------------------------------------------------\n",
      "Out of 1 time(s), you like [Fried Chicken] 1 time(s).\n",
      "--------------------------------------------------------------------------------\n"
     ]
    },
    {
     "data": {
      "text/plain": [
       "1.0"
      ]
     },
     "execution_count": 23,
     "metadata": {},
     "output_type": "execute_result"
    }
   ],
   "source": [
    "FoodTools.search()"
   ]
  },
  {
   "cell_type": "code",
   "execution_count": null,
   "metadata": {},
   "outputs": [],
   "source": []
  }
 ],
 "metadata": {
  "kernelspec": {
   "display_name": "Python 3",
   "language": "python",
   "name": "python3"
  },
  "language_info": {
   "codemirror_mode": {
    "name": "ipython",
    "version": 3
   },
   "file_extension": ".py",
   "mimetype": "text/x-python",
   "name": "python",
   "nbconvert_exporter": "python",
   "pygments_lexer": "ipython3",
   "version": "3.6.6"
  }
 },
 "nbformat": 4,
 "nbformat_minor": 2
}
