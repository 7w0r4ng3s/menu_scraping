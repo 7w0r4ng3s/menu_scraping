{
 "cells": [
  {
   "cell_type": "code",
   "execution_count": 2,
   "metadata": {},
   "outputs": [],
   "source": [
    "# import dependencies\n",
    "import os\n",
    "import io\n",
    "import bs4\n",
    "import requests\n",
    "from bs4 import BeautifulSoup\n",
    "from urllib.parse import urljoin\n",
    "# from selenium import webdriver\n",
    "# from lxml import html\n",
    "import csv\n",
    "from datetime import datetime\n",
    "from pytz import timezone\n",
    "import pandas as pd\n",
    "import FoodTools"
   ]
  },
  {
   "cell_type": "code",
   "execution_count": 3,
   "metadata": {},
   "outputs": [],
   "source": [
    "# url of ucsc college 9 & 10 dining hall\n",
    "url = 'https://nutrition.sa.ucsc.edu/nutframe.asp?sName=UC+Santa+Cruz+Dining&locationNum=40&locationName=Colleges+Nine+%26+Ten+Dining+Hall&naFlag=1'"
   ]
  },
  {
   "cell_type": "code",
   "execution_count": 5,
   "metadata": {},
   "outputs": [],
   "source": [
    "# scrap the menu data from the webpage\n",
    "# since the menu data is cannot be scrapped from the html file directly\n",
    "# we have to make additional requests to get the frame page contents \n",
    "with requests.Session() as session:\n",
    "    response = session.get(url)\n",
    "    soup = BeautifulSoup(response.content, 'html.parser')\n",
    "\n",
    "    for frame in soup.select(\"frameset frame\"):\n",
    "        frame_url = urljoin(url, frame[\"src\"])\n",
    "        response = session.get(frame_url)\n",
    "        frame_soup = BeautifulSoup(response.content, 'html.parser') \n",
    "        # print(frame_soup.prettify())"
   ]
  },
  {
   "cell_type": "code",
   "execution_count": 6,
   "metadata": {},
   "outputs": [],
   "source": [
    "# extract both the meal name and food name from html\n",
    "meal_name = frame_soup.find_all('div', attrs={'class': 'menusampmeals'})\n",
    "food_name = frame_soup.find_all('div', attrs={'class': 'menusamprecipes'})"
   ]
  },
  {
   "cell_type": "code",
   "execution_count": 7,
   "metadata": {},
   "outputs": [
    {
     "name": "stdout",
     "output_type": "stream",
     "text": [
      "['Breakfast', 'Lunch', 'Dinner']\n",
      "Length:  3\n"
     ]
    }
   ],
   "source": [
    "# convert the name of the meal type in html form to a list form\n",
    "meal_type = [item.string for item in meal_name]\n",
    "print(meal_type)\n",
    "print('Length: ', len(meal_type))"
   ]
  },
  {
   "cell_type": "code",
   "execution_count": 8,
   "metadata": {},
   "outputs": [
    {
     "name": "stdout",
     "output_type": "stream",
     "text": [
      "['Belgian Waffles', 'Blueberry Pancakes', 'Cage Free Scrambled Eggs', 'Chicken Apple Sausage', 'Cinnamon Roasted Butternut Squash', 'Hard-boiled Cage Free Eggs', 'Natural BridgesTofu Scramble', 'Oatmeal Gluten-Free', 'Spicy Gold Potatoes', 'Cake Donut', 'Mocha Chip Muffin', 'Pumpkin Pecan Muffin', 'Vegan Peanut Granola', 'Bell Peppers', 'Cage Free Eggs', 'Cage Free Omelette Bar', 'Cheddar Cheese', 'Feta Cheese', 'Fresh Organic Spinach', 'Fresh Tomato', 'Jalapeno', 'Onions', 'Oven Roasted Turkey', 'Sliced Olived', 'Smoked Ham', 'Chicken Ortega Soup', 'Creamy Broccoli Cheddar Soup', 'Farfalle Rustiche', 'Oven Roasted Chicken Thigh', 'Thai Style Sustainable Pacific Cod', 'Cheese Pizza', 'Hanalei Pizza with Chicken and Bacon', 'Brown Rice Pilaf', 'Steamed Rice', 'Roasted Seasonal Vegetables', 'Maple Walnut Cookies', 'Truffle Peanut Brownie', 'UCSC Bakery French Rolls', 'Vegan BlackberryTurnovers', 'Atomic Cheese Sauce', 'BAR Boardwalk Burgers', 'Bacon', 'Bread Bun', 'Burger Beef', 'Burger Turkey', 'Chili with Beef', 'Sauteed Mushrooms', 'Vegan Malibu Burger', 'Chicken Ortega Soup', 'Creamy Broccoli Cheddar Soup', 'Sizzling Buffalo Chicken Salad', 'Sizzling Buffalo Tofu Salad', 'Carne Adobo Verde', 'Oven Roasted Chicken Thigh', 'Steamed Rice', 'Cheese Pizza', 'Hanalei Pizza with Chicken and Bacon', 'Oven Roasted Herbed Potatoes', 'Roasted Seasonal Vegetables', 'French Fries', 'Strawberry Mousse', 'Truffle Peanut Brownie', 'UCSC Bakery French Rolls', 'BAR Yakisoba Noodles', 'Char Siu Chicken', 'Char Siu Sauce', 'Char Siu Seitan', 'Condiments', 'Sesame Yakisoba Noodles', 'Stir Fry Vegetables', 'Szechuan Sweet Chili Sauce', 'Crispy Tostada', 'Rodeo Burger']\n",
      "Length:  73\n"
     ]
    }
   ],
   "source": [
    "# convert the food name in html form to a list form\n",
    "food_list = [item.string for item in food_name]\n",
    "print(food_list)\n",
    "print('Length: ', len(food_list))"
   ]
  },
  {
   "cell_type": "code",
   "execution_count": 9,
   "metadata": {},
   "outputs": [
    {
     "name": "stdout",
     "output_type": "stream",
     "text": [
      "['Atomic Cheese Sauce', 'BAR Boardwalk Burgers', 'BAR Yakisoba Noodles', 'Bacon', 'Belgian Waffles', 'Bell Peppers', 'Blueberry Pancakes', 'Bread Bun', 'Brown Rice Pilaf', 'Burger Beef', 'Burger Turkey', 'Cage Free Eggs', 'Cage Free Omelette Bar', 'Cage Free Scrambled Eggs', 'Cake Donut', 'Carne Adobo Verde', 'Char Siu Chicken', 'Char Siu Sauce', 'Char Siu Seitan', 'Cheddar Cheese', 'Cheese Pizza', 'Chicken Apple Sausage', 'Chicken Ortega Soup', 'Chili with Beef', 'Cinnamon Roasted Butternut Squash', 'Condiments', 'Creamy Broccoli Cheddar Soup', 'Crispy Tostada', 'Farfalle Rustiche', 'Feta Cheese', 'French Fries', 'Fresh Organic Spinach', 'Fresh Tomato', 'Hanalei Pizza with Chicken and Bacon', 'Hard-boiled Cage Free Eggs', 'Jalapeno', 'Maple Walnut Cookies', 'Mocha Chip Muffin', 'Natural BridgesTofu Scramble', 'Oatmeal Gluten-Free', 'Onions', 'Oven Roasted Chicken Thigh', 'Oven Roasted Herbed Potatoes', 'Oven Roasted Turkey', 'Pumpkin Pecan Muffin', 'Roasted Seasonal Vegetables', 'Rodeo Burger', 'Sauteed Mushrooms', 'Sesame Yakisoba Noodles', 'Sizzling Buffalo Chicken Salad', 'Sizzling Buffalo Tofu Salad', 'Sliced Olived', 'Smoked Ham', 'Spicy Gold Potatoes', 'Steamed Rice', 'Stir Fry Vegetables', 'Strawberry Mousse', 'Szechuan Sweet Chili Sauce', 'Thai Style Sustainable Pacific Cod', 'Truffle Peanut Brownie', 'UCSC Bakery French Rolls', 'Vegan BlackberryTurnovers', 'Vegan Malibu Burger', 'Vegan Peanut Granola']\n",
      "Sorted length:  64\n"
     ]
    }
   ],
   "source": [
    "# In case of dupliate food name, the list should be converted to a set\n",
    "# sort\n",
    "food_list = sorted(list(set(food_list)))\n",
    "print(food_list)\n",
    "print('Sorted length: ', len(food_list))"
   ]
  },
  {
   "cell_type": "code",
   "execution_count": 10,
   "metadata": {
    "scrolled": true
   },
   "outputs": [
    {
     "name": "stdout",
     "output_type": "stream",
     "text": [
      "Atomic Cheese Sauce\n",
      "0\n",
      "BAR Boardwalk Burgers\n",
      "1\n",
      "BAR Yakisoba Noodles\n",
      "1\n",
      "Bacon\n",
      "1\n",
      "Belgian Waffles\n",
      "0\n",
      "Bell Peppers\n",
      "0\n",
      "Blueberry Pancakes\n",
      "1\n",
      "Bread Bun\n",
      "0\n",
      "Brown Rice Pilaf\n",
      "0\n",
      "Burger Beef\n",
      "1\n",
      "Burger Turkey\n",
      "0\n",
      "Cage Free Eggs\n",
      "0\n",
      "Cage Free Omelette Bar\n",
      "0\n",
      "Cage Free Scrambled Eggs\n",
      "1\n",
      "Cake Donut\n",
      "0\n",
      "Carne Adobo Verde\n",
      "0\n",
      "Char Siu Chicken\n",
      "1\n",
      "Char Siu Sauce\n",
      "1\n",
      "Char Siu Seitan\n",
      "1\n",
      "Cheddar Cheese\n",
      "0\n",
      "Cheese Pizza\n",
      "1\n",
      "Chicken Apple Sausage\n",
      "0\n",
      "Chicken Ortega Soup\n",
      "0\n",
      "Chili with Beef\n",
      "1\n",
      "Cinnamon Roasted Butternut Squash\n",
      "0\n",
      "Condiments\n",
      "0\n",
      "Creamy Broccoli Cheddar Soup\n",
      "0\n",
      "Crispy Tostada\n",
      "0\n",
      "Farfalle Rustiche\n",
      "0\n",
      "Feta Cheese\n",
      "0\n",
      "French Fries\n",
      "1\n",
      "Fresh Organic Spinach\n",
      "0\n",
      "Fresh Tomato\n",
      "1\n",
      "Hanalei Pizza with Chicken and Bacon\n",
      "1\n",
      "Hard-boiled Cage Free Eggs\n",
      "0\n",
      "Jalapeno\n",
      "0\n",
      "Maple Walnut Cookies\n",
      "0\n",
      "Mocha Chip Muffin\n",
      "0\n",
      "Natural BridgesTofu Scramble\n",
      "1\n",
      "Oatmeal Gluten-Free\n",
      "0\n",
      "Onions\n",
      "0\n",
      "Oven Roasted Chicken Thigh\n",
      "0\n",
      "Oven Roasted Herbed Potatoes\n",
      "0\n",
      "Oven Roasted Turkey\n",
      "0\n",
      "Pumpkin Pecan Muffin\n",
      "0\n",
      "Roasted Seasonal Vegetables\n",
      "0\n",
      "Rodeo Burger\n",
      "0\n",
      "Sauteed Mushrooms\n",
      "0\n",
      "Sesame Yakisoba Noodles\n",
      "1\n",
      "Sizzling Buffalo Chicken Salad\n",
      "0\n",
      "Sizzling Buffalo Tofu Salad\n",
      "0\n",
      "Sliced Olived\n",
      "0\n",
      "Smoked Ham\n",
      "1\n",
      "Spicy Gold Potatoes\n",
      "0\n",
      "Steamed Rice\n",
      "1\n",
      "Stir Fry Vegetables\n",
      "0\n",
      "Strawberry Mousse\n",
      "0\n",
      "Szechuan Sweet Chili Sauce\n",
      "1\n",
      "Thai Style Sustainable Pacific Cod\n",
      "0\n",
      "Truffle Peanut Brownie\n",
      "0\n",
      "UCSC Bakery French Rolls\n",
      "0\n",
      "Vegan BlackberryTurnovers\n",
      "0\n",
      "Vegan Malibu Burger\n",
      "0\n",
      "Vegan Peanut Granola\n",
      "0\n",
      "[0, 1, 1, 1, 0, 0, 1, 0, 0, 1, 0, 0, 0, 1, 0, 0, 1, 1, 1, 0, 1, 0, 0, 1, 0, 0, 0, 0, 0, 0, 1, 0, 1, 1, 0, 0, 0, 0, 1, 0, 0, 0, 0, 0, 0, 0, 0, 0, 1, 0, 0, 0, 1, 0, 1, 0, 0, 1, 0, 0, 0, 0, 0, 0]\n",
      "Preference length:  64\n"
     ]
    }
   ],
   "source": [
    "# preference list, labeled by myself\n",
    "# pref_1 = [1, 1, 1, 0, 0, 1, 0, 0, 0, 1, 1, 0, 0, 1, 0, 0, 0, 0, 0, 1, 1, 0, 0, 0, 0, 1, 0, 0, 0 ]\n",
    "# pref_2 = [1, 1, 1, 1, 0, 0, 1, 1, 1, 1, 1, 0, 0, 1, 0, 0, 0, 0, 1, 0, 0, 1, 1, 1, 0, 0, 0]\n",
    "# pref_3 = [0, 1, 1, 1, 0, 0, 0, 0, 0, 1, 1, 1, 1, 0, 0, 0, 1, 1, 0, 1, 0, 0, 0, 1]\n",
    "# pref_4 = [0, 0, 1, 1, 0, 0, 1, 1, 1, 0, 1, 0, 0, 0, 0, 1, 0, 0, 1, 1, 0, 1, 1, 1, 0, 0, 1, 0, 1, 0, 1, 1, 1, 0, 0]\n",
    "# pref_5 = [1, 0, 1, 0, 0, 0, 1, 1, 0, 1, 0, 0, 0, 0, 1, 0, 0, 0, 0, 0, 1, 0, 0, 1, 0, 0, 1, 0, 0, 1, 0, 1, 0]\n",
    "pref = []\n",
    "for i in food_list:\n",
    "    print(i)\n",
    "    preference = int(input())\n",
    "    if preference != 0 and preference != 1:\n",
    "        print('Incrorrect input')\n",
    "        break\n",
    "    pref.append(preference)\n",
    "print(pref)\n",
    "print('Preference length: ', len(pref))"
   ]
  },
  {
   "cell_type": "code",
   "execution_count": 11,
   "metadata": {},
   "outputs": [
    {
     "name": "stdout",
     "output_type": "stream",
     "text": [
      "Current US/Pacific time:  2018-09-26\n"
     ]
    }
   ],
   "source": [
    "# timezone setting\n",
    "us_pacific = timezone('US/Pacific')\n",
    "time = datetime.now(us_pacific)\n",
    "us_time = time.strftime('%Y-%m-%d')\n",
    "print('Current US/Pacific time: ', us_time)"
   ]
  },
  {
   "cell_type": "code",
   "execution_count": 12,
   "metadata": {},
   "outputs": [
    {
     "name": "stdout",
     "output_type": "stream",
     "text": [
      "Current path:  /Users/7w0r4ng3s/Desktop/menu_scraping/data/2018-09-26.csv\n"
     ]
    }
   ],
   "source": [
    "# write the food list to a csv file\n",
    "path = '/Users/7w0r4ng3s/Desktop/menu_scraping/data/{}.csv'.format(us_time)\n",
    "print('Current path: ', path)\n",
    "path_2 = '/Users/7w0r4ng3s/Desktop/menu_scraping/data/'"
   ]
  },
  {
   "cell_type": "code",
   "execution_count": 13,
   "metadata": {},
   "outputs": [
    {
     "name": "stdout",
     "output_type": "stream",
     "text": [
      "write_csv: COMPLETED\n",
      "add_column_name: COMPLETED\n"
     ]
    }
   ],
   "source": [
    "def write_data():\n",
    "    with open(path, \"w\") as output:\n",
    "        writer = csv.writer(output, lineterminator='\\n')\n",
    "        for key, val in zip(food_list, pref):\n",
    "            writer.writerow([key, val])\n",
    "    print('write_csv: COMPLETED')\n",
    "    # add index and column names\n",
    "    df = pd.read_csv(path, names=['food', 'pref'])\n",
    "    df.index.names = ['index']\n",
    "    df.to_csv(path)\n",
    "    print('add_column_name: COMPLETED')\n",
    "    \n",
    "write_data()"
   ]
  },
  {
   "cell_type": "code",
   "execution_count": 14,
   "metadata": {},
   "outputs": [],
   "source": [
    "# def merge_data():\n",
    "#     # TODO: Figure out a way to get rid of the unnamed: 0 column\n",
    "#     # TODO: Modify merge_data() so that new data can be append to data.csv\n",
    "#     files = [f for f in os.listdir('.') if os.path.isfile(f)]\n",
    "\n",
    "#     merged = []\n",
    "\n",
    "#     for f in files:\n",
    "#         filename, ext = os.path.splitext(f)\n",
    "#         if ext == '.csv':\n",
    "#             read = pd.read_csv(f)\n",
    "#             merged.append(read)\n",
    "\n",
    "#     result = pd.concat(merged)\n",
    "#     result.to_csv('data.csv')\n",
    "    \n",
    "# merge_data()"
   ]
  },
  {
   "cell_type": "code",
   "execution_count": 15,
   "metadata": {},
   "outputs": [],
   "source": [
    "def append_data():\n",
    "    df1 = pd.read_csv('Data.csv', index_col='index')\n",
    "    df1.index.names = ['index']\n",
    "    df2 = pd.read_csv(path, index_col='index')\n",
    "    df3 = df1.append(df2).reset_index()\n",
    "    df3 = df3.drop('index', 1).sort_values('food').reset_index().drop('index', 1)\n",
    "    df3.index.names = ['index']\n",
    "    df3.to_csv('Data.csv')\n",
    "    \n",
    "append_data()"
   ]
  },
  {
   "cell_type": "code",
   "execution_count": 16,
   "metadata": {},
   "outputs": [
    {
     "name": "stdout",
     "output_type": "stream",
     "text": [
      "Search food: char\n",
      "Do you mean:\n",
      "1 Char Siu Sauce\n",
      "2 Char Siu Seitan\n",
      "3 Charro Beans\n",
      "4 Garlic Rainbow Chard\n",
      "\n",
      "Enter the index: 2\n",
      "--------------------------------------------------------------------------------\n",
      "Out of 1 time(s), you like [Char Siu Seitan] 1 time(s).\n",
      "--------------------------------------------------------------------------------\n"
     ]
    },
    {
     "data": {
      "text/plain": [
       "1.0"
      ]
     },
     "execution_count": 16,
     "metadata": {},
     "output_type": "execute_result"
    }
   ],
   "source": [
    "FoodTools.search()"
   ]
  },
  {
   "cell_type": "code",
   "execution_count": null,
   "metadata": {},
   "outputs": [],
   "source": []
  }
 ],
 "metadata": {
  "kernelspec": {
   "display_name": "Python 3",
   "language": "python",
   "name": "python3"
  },
  "language_info": {
   "codemirror_mode": {
    "name": "ipython",
    "version": 3
   },
   "file_extension": ".py",
   "mimetype": "text/x-python",
   "name": "python",
   "nbconvert_exporter": "python",
   "pygments_lexer": "ipython3",
   "version": "3.6.6"
  }
 },
 "nbformat": 4,
 "nbformat_minor": 2
}
