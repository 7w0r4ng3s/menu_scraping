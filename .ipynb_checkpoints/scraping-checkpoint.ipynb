{
 "cells": [
  {
   "cell_type": "code",
   "execution_count": 33,
   "metadata": {},
   "outputs": [],
   "source": [
    "# import dependencies\n",
    "import bs4\n",
    "import requests\n",
    "from bs4 import BeautifulSoup\n",
    "from urllib.parse import urljoin\n",
    "# from selenium import webdriver\n",
    "# from lxml import html\n",
    "import csv\n",
    "from datetime import datetime, date, timedelta\n",
    "from pytz import timezone\n",
    "import pandas as pd\n",
    "from collections import defaultdict"
   ]
  },
  {
   "cell_type": "code",
   "execution_count": 2,
   "metadata": {},
   "outputs": [],
   "source": [
    "# url of ucsc college 9 & 10 dining hall\n",
    "url = 'https://nutrition.sa.ucsc.edu/nutframe.asp?sName=UC+Santa+Cruz+Dining&locationNum=40&locationName=Colleges+Nine+%26+Ten+Dining+Hall&naFlag=1'"
   ]
  },
  {
   "cell_type": "code",
   "execution_count": 3,
   "metadata": {},
   "outputs": [],
   "source": [
    "# scrap the menu data from the webpage\n",
    "# since the menu data is cannot be scrapped from the html file directly\n",
    "# we have to make additional requests to get the frame page contents \n",
    "with requests.Session() as session:\n",
    "    response = session.get(url)\n",
    "    soup = BeautifulSoup(response.content, 'html.parser')\n",
    "\n",
    "    for frame in soup.select(\"frameset frame\"):\n",
    "        frame_url = urljoin(url, frame[\"src\"])\n",
    "        response = session.get(frame_url)\n",
    "        frame_soup = BeautifulSoup(response.content, 'html.parser') \n",
    "        # print(frame_soup.prettify())"
   ]
  },
  {
   "cell_type": "code",
   "execution_count": 4,
   "metadata": {},
   "outputs": [],
   "source": [
    "# extract both the meal name and food name from html\n",
    "meal_name = frame_soup.find_all('div', attrs={'class': 'menusampmeals'})\n",
    "food_name = frame_soup.find_all('div', attrs={'class': 'menusamprecipes'})"
   ]
  },
  {
   "cell_type": "code",
   "execution_count": 5,
   "metadata": {},
   "outputs": [
    {
     "name": "stdout",
     "output_type": "stream",
     "text": [
      "['Breakfast', 'Lunch', 'Dinner']\n"
     ]
    }
   ],
   "source": [
    "# convert the name of the meal type in html form to a list form\n",
    "meal_type = [item.string for item in meal_name]\n",
    "print(meal_type)"
   ]
  },
  {
   "cell_type": "code",
   "execution_count": 8,
   "metadata": {},
   "outputs": [
    {
     "name": "stdout",
     "output_type": "stream",
     "text": [
      "27\n"
     ]
    }
   ],
   "source": [
    "# convert the food name in html form to a list form\n",
    "food_list = [item.string for item in food_name]\n",
    "print(food_list)"
   ]
  },
  {
   "cell_type": "code",
   "execution_count": 56,
   "metadata": {},
   "outputs": [],
   "source": [
    "# preference list, labeled by myself\n",
    "# pref_1 = [1, 1, 1, 0, 0, 1, 0, 0, 0, 1, 1, 0, 0, 1, 0, 0, 0, 0, 0, 1, 1, 0, 0, 0, 0, 1, 0, 0, 0 ]\n",
    "pref_2 = [1, 1, 1, 1, 0, 0, 1, 1, 1, 1, 1, 0, 0, 1, 0, 0, 0, 0, 1, 0, 0, 1, 1, 1, 0, 0, 0]"
   ]
  },
  {
   "cell_type": "code",
   "execution_count": 9,
   "metadata": {},
   "outputs": [
    {
     "data": {
      "text/plain": [
       "'2018-09-08'"
      ]
     },
     "execution_count": 9,
     "metadata": {},
     "output_type": "execute_result"
    }
   ],
   "source": [
    "# timezone setting\n",
    "us_pacific = timezone('US/Pacific')\n",
    "time = datetime.now(us_pacific)\n",
    "us_time = time.strftime('%Y-%m-%d')\n",
    "us_time"
   ]
  },
  {
   "cell_type": "code",
   "execution_count": 11,
   "metadata": {},
   "outputs": [
    {
     "data": {
      "text/plain": [
       "'/Users/7w0r4ng3s/Desktop/menu_scraping/2018-09-08.csv'"
      ]
     },
     "execution_count": 11,
     "metadata": {},
     "output_type": "execute_result"
    }
   ],
   "source": [
    "# write the food list to a csv file\n",
    "csv_path = '/Users/7w0r4ng3s/Desktop/menu_scraping/{}.csv'.format(us_time)\n",
    "csv_path"
   ]
  },
  {
   "cell_type": "code",
   "execution_count": 59,
   "metadata": {},
   "outputs": [],
   "source": [
    "def write_full():\n",
    "    with open(csv_path, \"w\") as output:\n",
    "        writer = csv.writer(output, lineterminator='\\n')\n",
    "        for key, val in zip(food_list, pref_2):\n",
    "            writer.writerow([key, val])\n",
    "write_full()"
   ]
  },
  {
   "cell_type": "code",
   "execution_count": 12,
   "metadata": {},
   "outputs": [],
   "source": [
    "def write_food():\n",
    "    with open(csv_path, 'w') as output:\n",
    "        writer = csv.writer(output, lineterminator='\\n')\n",
    "        for food in food_list:\n",
    "            writer.writerow([food])\n",
    "write_food()"
   ]
  },
  {
   "cell_type": "code",
   "execution_count": 13,
   "metadata": {},
   "outputs": [
    {
     "data": {
      "text/plain": [
       "'2018-09-07'"
      ]
     },
     "execution_count": 13,
     "metadata": {},
     "output_type": "execute_result"
    }
   ],
   "source": [
    "# get the previous date in the US/Pacific\n",
    "prev_date = time - timedelta(1)\n",
    "prev_date = prev_date.strftime('%Y-%m-%d')\n",
    "prev_date"
   ]
  },
  {
   "cell_type": "code",
   "execution_count": 16,
   "metadata": {},
   "outputs": [],
   "source": [
    "# read the csv file of the current day\n",
    "# the dataframe will be compared with the 0th row (food list) of the full data and extract those\n",
    "# which \n",
    "df_today = pd.read_csv('{}.csv'.format(us_time), header=None)\n",
    "df_prev = pd.read_csv('{}.csv'.format(prev_date), header=None)"
   ]
  },
  {
   "cell_type": "code",
   "execution_count": 17,
   "metadata": {},
   "outputs": [
    {
     "data": {
      "text/html": [
       "<div>\n",
       "<style scoped>\n",
       "    .dataframe tbody tr th:only-of-type {\n",
       "        vertical-align: middle;\n",
       "    }\n",
       "\n",
       "    .dataframe tbody tr th {\n",
       "        vertical-align: top;\n",
       "    }\n",
       "\n",
       "    .dataframe thead th {\n",
       "        text-align: right;\n",
       "    }\n",
       "</style>\n",
       "<table border=\"1\" class=\"dataframe\">\n",
       "  <thead>\n",
       "    <tr style=\"text-align: right;\">\n",
       "      <th></th>\n",
       "      <th>0</th>\n",
       "    </tr>\n",
       "  </thead>\n",
       "  <tbody>\n",
       "    <tr>\n",
       "      <th>0</th>\n",
       "      <td>Cage Free Scrambled Eggs</td>\n",
       "    </tr>\n",
       "    <tr>\n",
       "      <th>1</th>\n",
       "      <td>Crispy Bacon</td>\n",
       "    </tr>\n",
       "    <tr>\n",
       "      <th>2</th>\n",
       "      <td>French Toast Sticks</td>\n",
       "    </tr>\n",
       "    <tr>\n",
       "      <th>3</th>\n",
       "      <td>Hard-boiled Cage Free Eggs</td>\n",
       "    </tr>\n",
       "    <tr>\n",
       "      <th>4</th>\n",
       "      <td>Natural BridgesTofu Scramble</td>\n",
       "    </tr>\n",
       "    <tr>\n",
       "      <th>5</th>\n",
       "      <td>Oatmeal Gluten-Free</td>\n",
       "    </tr>\n",
       "    <tr>\n",
       "      <th>6</th>\n",
       "      <td>Steamed Rice</td>\n",
       "    </tr>\n",
       "    <tr>\n",
       "      <th>7</th>\n",
       "      <td>Tator Tots</td>\n",
       "    </tr>\n",
       "    <tr>\n",
       "      <th>8</th>\n",
       "      <td>Chicken Noodle Soup</td>\n",
       "    </tr>\n",
       "    <tr>\n",
       "      <th>9</th>\n",
       "      <td>Oven Roasted Allergen Free Chicken Thigh</td>\n",
       "    </tr>\n",
       "    <tr>\n",
       "      <th>10</th>\n",
       "      <td>Steamed Rice</td>\n",
       "    </tr>\n",
       "    <tr>\n",
       "      <th>11</th>\n",
       "      <td>Steamed Seasonal Vegetables</td>\n",
       "    </tr>\n",
       "    <tr>\n",
       "      <th>12</th>\n",
       "      <td>Charro Beans</td>\n",
       "    </tr>\n",
       "    <tr>\n",
       "      <th>13</th>\n",
       "      <td>Cheese Sauce</td>\n",
       "    </tr>\n",
       "    <tr>\n",
       "      <th>14</th>\n",
       "      <td>Condiments</td>\n",
       "    </tr>\n",
       "    <tr>\n",
       "      <th>15</th>\n",
       "      <td>Jalapeno</td>\n",
       "    </tr>\n",
       "    <tr>\n",
       "      <th>16</th>\n",
       "      <td>Nachos Bar</td>\n",
       "    </tr>\n",
       "    <tr>\n",
       "      <th>17</th>\n",
       "      <td>Taqueria Chicken</td>\n",
       "    </tr>\n",
       "    <tr>\n",
       "      <th>18</th>\n",
       "      <td>Taqueria Ground Beef</td>\n",
       "    </tr>\n",
       "    <tr>\n",
       "      <th>19</th>\n",
       "      <td>BBQ Chicken</td>\n",
       "    </tr>\n",
       "    <tr>\n",
       "      <th>20</th>\n",
       "      <td>Baked Potatoes with Toppings</td>\n",
       "    </tr>\n",
       "    <tr>\n",
       "      <th>21</th>\n",
       "      <td>Oven Roasted Allergen Free Chicken Thigh</td>\n",
       "    </tr>\n",
       "    <tr>\n",
       "      <th>22</th>\n",
       "      <td>Sweet Chili Fried Tofu</td>\n",
       "    </tr>\n",
       "    <tr>\n",
       "      <th>23</th>\n",
       "      <td>Cheese Pizza</td>\n",
       "    </tr>\n",
       "    <tr>\n",
       "      <th>24</th>\n",
       "      <td>Pizza Special</td>\n",
       "    </tr>\n",
       "    <tr>\n",
       "      <th>25</th>\n",
       "      <td>Jasmine Rice</td>\n",
       "    </tr>\n",
       "    <tr>\n",
       "      <th>26</th>\n",
       "      <td>Steamed Seasonal Vegetables</td>\n",
       "    </tr>\n",
       "  </tbody>\n",
       "</table>\n",
       "</div>"
      ],
      "text/plain": [
       "                                           0\n",
       "0                   Cage Free Scrambled Eggs\n",
       "1                               Crispy Bacon\n",
       "2                        French Toast Sticks\n",
       "3                 Hard-boiled Cage Free Eggs\n",
       "4               Natural BridgesTofu Scramble\n",
       "5                        Oatmeal Gluten-Free\n",
       "6                               Steamed Rice\n",
       "7                                 Tator Tots\n",
       "8                        Chicken Noodle Soup\n",
       "9   Oven Roasted Allergen Free Chicken Thigh\n",
       "10                              Steamed Rice\n",
       "11               Steamed Seasonal Vegetables\n",
       "12                              Charro Beans\n",
       "13                              Cheese Sauce\n",
       "14                                Condiments\n",
       "15                                  Jalapeno\n",
       "16                                Nachos Bar\n",
       "17                          Taqueria Chicken\n",
       "18                      Taqueria Ground Beef\n",
       "19                               BBQ Chicken\n",
       "20              Baked Potatoes with Toppings\n",
       "21  Oven Roasted Allergen Free Chicken Thigh\n",
       "22                    Sweet Chili Fried Tofu\n",
       "23                              Cheese Pizza\n",
       "24                             Pizza Special\n",
       "25                              Jasmine Rice\n",
       "26               Steamed Seasonal Vegetables"
      ]
     },
     "execution_count": 17,
     "metadata": {},
     "output_type": "execute_result"
    }
   ],
   "source": [
    "df_today"
   ]
  },
  {
   "cell_type": "code",
   "execution_count": 18,
   "metadata": {},
   "outputs": [
    {
     "data": {
      "text/html": [
       "<div>\n",
       "<style scoped>\n",
       "    .dataframe tbody tr th:only-of-type {\n",
       "        vertical-align: middle;\n",
       "    }\n",
       "\n",
       "    .dataframe tbody tr th {\n",
       "        vertical-align: top;\n",
       "    }\n",
       "\n",
       "    .dataframe thead th {\n",
       "        text-align: right;\n",
       "    }\n",
       "</style>\n",
       "<table border=\"1\" class=\"dataframe\">\n",
       "  <thead>\n",
       "    <tr style=\"text-align: right;\">\n",
       "      <th></th>\n",
       "      <th>0</th>\n",
       "      <th>1</th>\n",
       "    </tr>\n",
       "  </thead>\n",
       "  <tbody>\n",
       "    <tr>\n",
       "      <th>0</th>\n",
       "      <td>Blueberry Pancakes</td>\n",
       "      <td>1</td>\n",
       "    </tr>\n",
       "    <tr>\n",
       "      <th>1</th>\n",
       "      <td>Cage Free Scrambled Eggs</td>\n",
       "      <td>1</td>\n",
       "    </tr>\n",
       "    <tr>\n",
       "      <th>2</th>\n",
       "      <td>Hard-boiled Cage Free Eggs</td>\n",
       "      <td>1</td>\n",
       "    </tr>\n",
       "    <tr>\n",
       "      <th>3</th>\n",
       "      <td>Natural BridgesTofu Scramble</td>\n",
       "      <td>0</td>\n",
       "    </tr>\n",
       "    <tr>\n",
       "      <th>4</th>\n",
       "      <td>Oatmeal Gluten-Free</td>\n",
       "      <td>0</td>\n",
       "    </tr>\n",
       "    <tr>\n",
       "      <th>5</th>\n",
       "      <td>Sausage Patties</td>\n",
       "      <td>1</td>\n",
       "    </tr>\n",
       "    <tr>\n",
       "      <th>6</th>\n",
       "      <td>Steamed Rice</td>\n",
       "      <td>0</td>\n",
       "    </tr>\n",
       "    <tr>\n",
       "      <th>7</th>\n",
       "      <td>Tator Tots</td>\n",
       "      <td>0</td>\n",
       "    </tr>\n",
       "    <tr>\n",
       "      <th>8</th>\n",
       "      <td>N.E.Clam Chowder</td>\n",
       "      <td>0</td>\n",
       "    </tr>\n",
       "    <tr>\n",
       "      <th>9</th>\n",
       "      <td>Baked Salmon with Avocado Chimichurri</td>\n",
       "      <td>1</td>\n",
       "    </tr>\n",
       "    <tr>\n",
       "      <th>10</th>\n",
       "      <td>Black Rice, Beet and Kale Salad</td>\n",
       "      <td>1</td>\n",
       "    </tr>\n",
       "    <tr>\n",
       "      <th>11</th>\n",
       "      <td>Oven Roasted Allergen Free Chicken Thigh</td>\n",
       "      <td>0</td>\n",
       "    </tr>\n",
       "    <tr>\n",
       "      <th>12</th>\n",
       "      <td>Steamed Rice</td>\n",
       "      <td>0</td>\n",
       "    </tr>\n",
       "    <tr>\n",
       "      <th>13</th>\n",
       "      <td>Steamed Seasonal Vegetables</td>\n",
       "      <td>1</td>\n",
       "    </tr>\n",
       "    <tr>\n",
       "      <th>14</th>\n",
       "      <td>Armenian Salad</td>\n",
       "      <td>0</td>\n",
       "    </tr>\n",
       "    <tr>\n",
       "      <th>15</th>\n",
       "      <td>Beef and Lamb Gyro</td>\n",
       "      <td>0</td>\n",
       "    </tr>\n",
       "    <tr>\n",
       "      <th>16</th>\n",
       "      <td>Falafels</td>\n",
       "      <td>0</td>\n",
       "    </tr>\n",
       "    <tr>\n",
       "      <th>17</th>\n",
       "      <td>Tabouleh Salad</td>\n",
       "      <td>0</td>\n",
       "    </tr>\n",
       "    <tr>\n",
       "      <th>18</th>\n",
       "      <td>Tahini Sauce</td>\n",
       "      <td>0</td>\n",
       "    </tr>\n",
       "    <tr>\n",
       "      <th>19</th>\n",
       "      <td>Tzatziki Sauce</td>\n",
       "      <td>1</td>\n",
       "    </tr>\n",
       "    <tr>\n",
       "      <th>20</th>\n",
       "      <td>Chef's Special</td>\n",
       "      <td>1</td>\n",
       "    </tr>\n",
       "    <tr>\n",
       "      <th>21</th>\n",
       "      <td>Oven Roasted Allergen Free Chicken Thigh</td>\n",
       "      <td>0</td>\n",
       "    </tr>\n",
       "    <tr>\n",
       "      <th>22</th>\n",
       "      <td>Steamed Rice</td>\n",
       "      <td>0</td>\n",
       "    </tr>\n",
       "    <tr>\n",
       "      <th>23</th>\n",
       "      <td>Steamed Seasonal Vegetables</td>\n",
       "      <td>0</td>\n",
       "    </tr>\n",
       "    <tr>\n",
       "      <th>24</th>\n",
       "      <td>Cajun Bayou Bar</td>\n",
       "      <td>0</td>\n",
       "    </tr>\n",
       "    <tr>\n",
       "      <th>25</th>\n",
       "      <td>Cajun Coleslaw</td>\n",
       "      <td>1</td>\n",
       "    </tr>\n",
       "    <tr>\n",
       "      <th>26</th>\n",
       "      <td>Cajun Rice</td>\n",
       "      <td>0</td>\n",
       "    </tr>\n",
       "    <tr>\n",
       "      <th>27</th>\n",
       "      <td>Chicken Tenders</td>\n",
       "      <td>0</td>\n",
       "    </tr>\n",
       "    <tr>\n",
       "      <th>28</th>\n",
       "      <td>Corn and Okra Maque Choux</td>\n",
       "      <td>0</td>\n",
       "    </tr>\n",
       "  </tbody>\n",
       "</table>\n",
       "</div>"
      ],
      "text/plain": [
       "                                           0  1\n",
       "0                         Blueberry Pancakes  1\n",
       "1                   Cage Free Scrambled Eggs  1\n",
       "2                 Hard-boiled Cage Free Eggs  1\n",
       "3               Natural BridgesTofu Scramble  0\n",
       "4                        Oatmeal Gluten-Free  0\n",
       "5                            Sausage Patties  1\n",
       "6                               Steamed Rice  0\n",
       "7                                 Tator Tots  0\n",
       "8                           N.E.Clam Chowder  0\n",
       "9      Baked Salmon with Avocado Chimichurri  1\n",
       "10           Black Rice, Beet and Kale Salad  1\n",
       "11  Oven Roasted Allergen Free Chicken Thigh  0\n",
       "12                              Steamed Rice  0\n",
       "13               Steamed Seasonal Vegetables  1\n",
       "14                            Armenian Salad  0\n",
       "15                        Beef and Lamb Gyro  0\n",
       "16                                  Falafels  0\n",
       "17                            Tabouleh Salad  0\n",
       "18                              Tahini Sauce  0\n",
       "19                            Tzatziki Sauce  1\n",
       "20                            Chef's Special  1\n",
       "21  Oven Roasted Allergen Free Chicken Thigh  0\n",
       "22                              Steamed Rice  0\n",
       "23               Steamed Seasonal Vegetables  0\n",
       "24                           Cajun Bayou Bar  0\n",
       "25                            Cajun Coleslaw  1\n",
       "26                                Cajun Rice  0\n",
       "27                           Chicken Tenders  0\n",
       "28                 Corn and Okra Maque Choux  0"
      ]
     },
     "execution_count": 18,
     "metadata": {},
     "output_type": "execute_result"
    }
   ],
   "source": [
    "df_prev"
   ]
  },
  {
   "cell_type": "code",
   "execution_count": 47,
   "metadata": {},
   "outputs": [],
   "source": [
    "# select the first column of both days, type = series\n",
    "prev_col = df_prev.iloc[:, 0]\n",
    "today_col = df_today.iloc[:, 0]"
   ]
  },
  {
   "cell_type": "code",
   "execution_count": 24,
   "metadata": {},
   "outputs": [
    {
     "data": {
      "text/plain": [
       "['Hard-boiled Cage Free Eggs',\n",
       " 'Oatmeal Gluten-Free',\n",
       " 'Oven Roasted Allergen Free Chicken Thigh',\n",
       " 'Natural BridgesTofu Scramble',\n",
       " 'Steamed Rice',\n",
       " 'Cage Free Scrambled Eggs',\n",
       " 'Tator Tots',\n",
       " 'Steamed Seasonal Vegetables']"
      ]
     },
     "execution_count": 24,
     "metadata": {},
     "output_type": "execute_result"
    }
   ],
   "source": [
    "# extract the intersection of both menus and convert it to a list\n",
    "intersec = pd.Series(list(set(today_col).intersection(set(prev_col))))\n",
    "intersec = intersec.tolist()\n",
    "intersec"
   ]
  },
  {
   "cell_type": "code",
   "execution_count": 38,
   "metadata": {},
   "outputs": [],
   "source": [
    "# create a dict of preference for previous day\n",
    "col_2 = df_prev.iloc[:, 1].tolist()\n",
    "col_1 = prev_col.tolist()\n",
    "dict_prev = dict(zip(col_1, col_2))"
   ]
  },
  {
   "cell_type": "code",
   "execution_count": 39,
   "metadata": {},
   "outputs": [
    {
     "data": {
      "text/plain": [
       "{'Blueberry Pancakes': 1,\n",
       " 'Cage Free Scrambled Eggs': 1,\n",
       " 'Hard-boiled Cage Free Eggs': 1,\n",
       " 'Natural BridgesTofu Scramble': 0,\n",
       " 'Oatmeal Gluten-Free': 0,\n",
       " 'Sausage Patties': 1,\n",
       " 'Steamed Rice': 0,\n",
       " 'Tator Tots': 0,\n",
       " 'N.E.Clam Chowder': 0,\n",
       " 'Baked Salmon with Avocado Chimichurri': 1,\n",
       " 'Black Rice, Beet and Kale Salad': 1,\n",
       " 'Oven Roasted Allergen Free Chicken Thigh': 0,\n",
       " 'Steamed Seasonal Vegetables': 0,\n",
       " 'Armenian Salad': 0,\n",
       " 'Beef and Lamb Gyro': 0,\n",
       " 'Falafels': 0,\n",
       " 'Tabouleh Salad': 0,\n",
       " 'Tahini Sauce': 0,\n",
       " 'Tzatziki Sauce': 1,\n",
       " \"Chef's Special\": 1,\n",
       " 'Cajun Bayou Bar': 0,\n",
       " 'Cajun Coleslaw': 1,\n",
       " 'Cajun Rice': 0,\n",
       " 'Chicken Tenders': 0,\n",
       " 'Corn and Okra Maque Choux': 0}"
      ]
     },
     "execution_count": 39,
     "metadata": {},
     "output_type": "execute_result"
    }
   ],
   "source": [
    "dict_prev"
   ]
  },
  {
   "cell_type": "code",
   "execution_count": 51,
   "metadata": {},
   "outputs": [
    {
     "data": {
      "text/plain": [
       "['Cage Free Scrambled Eggs',\n",
       " 'Crispy Bacon',\n",
       " 'French Toast Sticks',\n",
       " 'Hard-boiled Cage Free Eggs',\n",
       " 'Natural BridgesTofu Scramble',\n",
       " 'Oatmeal Gluten-Free',\n",
       " 'Steamed Rice',\n",
       " 'Tator Tots',\n",
       " 'Chicken Noodle Soup',\n",
       " 'Oven Roasted Allergen Free Chicken Thigh',\n",
       " 'Steamed Rice',\n",
       " 'Steamed Seasonal Vegetables',\n",
       " 'Charro Beans',\n",
       " 'Cheese Sauce',\n",
       " 'Condiments',\n",
       " 'Jalapeno',\n",
       " 'Nachos Bar',\n",
       " 'Taqueria Chicken',\n",
       " 'Taqueria Ground Beef',\n",
       " 'BBQ Chicken',\n",
       " 'Baked Potatoes with Toppings',\n",
       " 'Oven Roasted Allergen Free Chicken Thigh',\n",
       " 'Sweet Chili Fried Tofu',\n",
       " 'Cheese Pizza',\n",
       " 'Pizza Special',\n",
       " 'Jasmine Rice',\n",
       " 'Steamed Seasonal Vegetables']"
      ]
     },
     "execution_count": 51,
     "metadata": {},
     "output_type": "execute_result"
    }
   ],
   "source": [
    "today_list = today_col.tolist()\n",
    "today_list"
   ]
  },
  {
   "cell_type": "code",
   "execution_count": 55,
   "metadata": {},
   "outputs": [
    {
     "data": {
      "text/plain": [
       "27"
      ]
     },
     "execution_count": 55,
     "metadata": {},
     "output_type": "execute_result"
    }
   ],
   "source": [
    "default_pref = [0] * len(today_list)\n",
    "pref_list_today = []\n",
    "today_dict = dict\n",
    "# for food in intersec:\n",
    "#     if food in dict_prev.keys():"
   ]
  },
  {
   "cell_type": "code",
   "execution_count": 50,
   "metadata": {},
   "outputs": [
    {
     "data": {
      "text/plain": [
       "['Cage Free Scrambled Eggs',\n",
       " 'Crispy Bacon',\n",
       " 'French Toast Sticks',\n",
       " 'Hard-boiled Cage Free Eggs',\n",
       " 'Natural BridgesTofu Scramble',\n",
       " 'Oatmeal Gluten-Free',\n",
       " 'Steamed Rice',\n",
       " 'Tator Tots',\n",
       " 'Chicken Noodle Soup',\n",
       " 'Oven Roasted Allergen Free Chicken Thigh',\n",
       " 'Steamed Rice',\n",
       " 'Steamed Seasonal Vegetables',\n",
       " 'Charro Beans',\n",
       " 'Cheese Sauce',\n",
       " 'Condiments',\n",
       " 'Jalapeno',\n",
       " 'Nachos Bar',\n",
       " 'Taqueria Chicken',\n",
       " 'Taqueria Ground Beef',\n",
       " 'BBQ Chicken',\n",
       " 'Baked Potatoes with Toppings',\n",
       " 'Oven Roasted Allergen Free Chicken Thigh',\n",
       " 'Sweet Chili Fried Tofu',\n",
       " 'Cheese Pizza',\n",
       " 'Pizza Special',\n",
       " 'Jasmine Rice',\n",
       " 'Steamed Seasonal Vegetables']"
      ]
     },
     "execution_count": 50,
     "metadata": {},
     "output_type": "execute_result"
    }
   ],
   "source": []
  },
  {
   "cell_type": "code",
   "execution_count": null,
   "metadata": {},
   "outputs": [],
   "source": []
  }
 ],
 "metadata": {
  "kernelspec": {
   "display_name": "Python 3",
   "language": "python",
   "name": "python3"
  },
  "language_info": {
   "codemirror_mode": {
    "name": "ipython",
    "version": 3
   },
   "file_extension": ".py",
   "mimetype": "text/x-python",
   "name": "python",
   "nbconvert_exporter": "python",
   "pygments_lexer": "ipython3",
   "version": "3.6.6"
  }
 },
 "nbformat": 4,
 "nbformat_minor": 2
}
