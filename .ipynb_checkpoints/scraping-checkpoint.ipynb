{
 "cells": [
  {
   "cell_type": "code",
   "execution_count": 1,
   "metadata": {},
   "outputs": [],
   "source": [
    "# import dependencies\n",
    "import os\n",
    "import io\n",
    "import bs4\n",
    "import requests\n",
    "from bs4 import BeautifulSoup\n",
    "from urllib.parse import urljoin\n",
    "# from selenium import webdriver\n",
    "# from lxml import html\n",
    "import csv\n",
    "from datetime import datetime\n",
    "from pytz import timezone\n",
    "import pandas as pd\n",
    "import FoodTools"
   ]
  },
  {
   "cell_type": "code",
   "execution_count": 2,
   "metadata": {},
   "outputs": [],
   "source": [
    "# url of ucsc college 9 & 10 dining hall\n",
    "url = 'https://nutrition.sa.ucsc.edu/nutframe.asp?sName=UC+Santa+Cruz+Dining&locationNum=40&locationName=Colleges+Nine+%26+Ten+Dining+Hall&naFlag=1'"
   ]
  },
  {
   "cell_type": "code",
   "execution_count": 3,
   "metadata": {},
   "outputs": [],
   "source": [
    "# scrap the menu data from the webpage\n",
    "# since the menu data is cannot be scrapped from the html file directly\n",
    "# we have to make additional requests to get the frame page contents \n",
    "with requests.Session() as session:\n",
    "    response = session.get(url)\n",
    "    soup = BeautifulSoup(response.content, 'html.parser')\n",
    "\n",
    "    for frame in soup.select(\"frameset frame\"):\n",
    "        frame_url = urljoin(url, frame[\"src\"])\n",
    "        response = session.get(frame_url)\n",
    "        frame_soup = BeautifulSoup(response.content, 'html.parser') \n",
    "        # print(frame_soup.prettify())"
   ]
  },
  {
   "cell_type": "code",
   "execution_count": 4,
   "metadata": {},
   "outputs": [],
   "source": [
    "# extract both the meal name and food name from html\n",
    "meal_name = frame_soup.find_all('div', attrs={'class': 'menusampmeals'})\n",
    "food_name = frame_soup.find_all('div', attrs={'class': 'menusamprecipes'})"
   ]
  },
  {
   "cell_type": "code",
   "execution_count": 5,
   "metadata": {},
   "outputs": [
    {
     "name": "stdout",
     "output_type": "stream",
     "text": [
      "['Breakfast', 'Lunch', 'Dinner', 'Late Night']\n",
      "Length:  4\n"
     ]
    }
   ],
   "source": [
    "# convert the name of the meal type in html form to a list form\n",
    "meal_type = [item.string for item in meal_name]\n",
    "print(meal_type)\n",
    "print('Length: ', len(meal_type))"
   ]
  },
  {
   "cell_type": "code",
   "execution_count": 6,
   "metadata": {},
   "outputs": [
    {
     "name": "stdout",
     "output_type": "stream",
     "text": [
      "['Belgian Waffles', 'Cage Free Scrambled Eggs', 'Hard-boiled Cage Free Eggs', 'Hash Brown Patty', 'Natural BridgesTofu Scramble', 'Oatmeal Gluten-Free', 'Plantain Pancakes', 'Sausage Patties', 'Chocolate Loaf Bread', 'Morning Glory Blueberry Granola Nut Muffin', 'Peach Honey Bran Muffin', 'Vegan Peanut Granola', 'Bell Peppers', 'Cage Free Eggs', 'Cage Free Omelette Bar', 'Cheddar Cheese', 'Feta Cheese', 'Fresh Organic Spinach', 'Fresh Tomato', 'Jalapeno', 'Onions', 'Oven Roasted Turkey', 'Sliced Olived', 'Smoked Ham', 'Carrot Parsnip Soup', 'Pork Pozole', 'Caramelized Chipotle Chicken', 'Green Chili, Zucchini & Cheese Tamales', 'Oven Roasted Chicken Thigh', 'Cheese Pizza', 'Chorizo and Jack Cheese Pizza', 'Charro Beans', 'Mexican Rice', 'Isla Managua Beef Sandwich', 'Roasted Vegetables with Pesto Sandwich', 'Brownie M&M', 'Granola Nut Cookies', 'UCSC Bakery French Rolls', 'BBQ Ginger Soy Chicken', 'BBQ Tofu Chili Garlic', 'Bar Rice Bowl', 'Condiments', 'Kung Pao Sauce', 'Steamed Brown Rice', 'Stir Fry Vegetables', 'Krinkle Cut Fries', 'Carrot Parsnip Soup', 'Pork Pozole', 'Chicken Adobo', 'Filipino Style Pancit', 'Lemon Pepper Sustainable Pacific Cod', 'Oven Roasted Chicken Thigh', 'Rice Pilaf', 'Steamed Rice', 'Cheese Pizza', 'Chorizo and Jack Cheese Pizza', 'Regular Cut Fries', 'Brownie M&M', 'Pumpkin Pie', 'UCSC Bakery French Rolls', 'Armenian Salad', 'BAR Middle Eastern', 'Beef and Lamb Gyro', 'Falafels', 'Malfouf', 'Pita Bread', 'Tabouleh Salad', 'Tzatziki Sauce', 'Halal Chicken Patty Sandwich', 'Roasted Vegetable Quesadilla', 'Big Island Chicken Stir Fry', 'Big Island Tofu Stir Fry', 'Oven Roasted Chicken Thigh', 'Tomato and Pesto Baked Pork Chops', 'Cheese Pizza', 'Chorizo and Jack Cheese Pizza', 'Jasmine Rice', 'Oven Roasted Herbed Potatoes', 'Curly Fries', 'Grilled Reuben Sandwich']\n",
      "Length:  80\n"
     ]
    }
   ],
   "source": [
    "# convert the food name in html form to a list form\n",
    "food_list = [item.string for item in food_name]\n",
    "print(food_list)\n",
    "print('Length: ', len(food_list))"
   ]
  },
  {
   "cell_type": "code",
   "execution_count": 7,
   "metadata": {},
   "outputs": [
    {
     "name": "stdout",
     "output_type": "stream",
     "text": [
      "['Armenian Salad', 'BAR Middle Eastern', 'BBQ Ginger Soy Chicken', 'BBQ Tofu Chili Garlic', 'Bar Rice Bowl', 'Beef and Lamb Gyro', 'Belgian Waffles', 'Bell Peppers', 'Big Island Chicken Stir Fry', 'Big Island Tofu Stir Fry', 'Brownie M&M', 'Cage Free Eggs', 'Cage Free Omelette Bar', 'Cage Free Scrambled Eggs', 'Caramelized Chipotle Chicken', 'Carrot Parsnip Soup', 'Charro Beans', 'Cheddar Cheese', 'Cheese Pizza', 'Chicken Adobo', 'Chocolate Loaf Bread', 'Chorizo and Jack Cheese Pizza', 'Condiments', 'Curly Fries', 'Falafels', 'Feta Cheese', 'Filipino Style Pancit', 'Fresh Organic Spinach', 'Fresh Tomato', 'Granola Nut Cookies', 'Green Chili, Zucchini & Cheese Tamales', 'Grilled Reuben Sandwich', 'Halal Chicken Patty Sandwich', 'Hard-boiled Cage Free Eggs', 'Hash Brown Patty', 'Isla Managua Beef Sandwich', 'Jalapeno', 'Jasmine Rice', 'Krinkle Cut Fries', 'Kung Pao Sauce', 'Lemon Pepper Sustainable Pacific Cod', 'Malfouf', 'Mexican Rice', 'Morning Glory Blueberry Granola Nut Muffin', 'Natural BridgesTofu Scramble', 'Oatmeal Gluten-Free', 'Onions', 'Oven Roasted Chicken Thigh', 'Oven Roasted Herbed Potatoes', 'Oven Roasted Turkey', 'Peach Honey Bran Muffin', 'Pita Bread', 'Plantain Pancakes', 'Pork Pozole', 'Pumpkin Pie', 'Regular Cut Fries', 'Rice Pilaf', 'Roasted Vegetable Quesadilla', 'Roasted Vegetables with Pesto Sandwich', 'Sausage Patties', 'Sliced Olived', 'Smoked Ham', 'Steamed Brown Rice', 'Steamed Rice', 'Stir Fry Vegetables', 'Tabouleh Salad', 'Tomato and Pesto Baked Pork Chops', 'Tzatziki Sauce', 'UCSC Bakery French Rolls', 'Vegan Peanut Granola']\n",
      "Sorted length:  70\n"
     ]
    }
   ],
   "source": [
    "# In case of dupliate food name, the list should be converted to a set\n",
    "# sort\n",
    "food_list = sorted(list(set(food_list)))\n",
    "print(food_list)\n",
    "print('Sorted length: ', len(food_list))"
   ]
  },
  {
   "cell_type": "code",
   "execution_count": 8,
   "metadata": {
    "scrolled": true
   },
   "outputs": [
    {
     "name": "stdout",
     "output_type": "stream",
     "text": [
      "Armenian Salad\n",
      "0\n",
      "BAR Middle Eastern\n",
      "0\n",
      "BBQ Ginger Soy Chicken\n",
      "0\n",
      "BBQ Tofu Chili Garlic\n",
      "0\n",
      "Bar Rice Bowl\n",
      "0\n",
      "Beef and Lamb Gyro\n",
      "0\n",
      "Belgian Waffles\n",
      "0\n",
      "Bell Peppers\n",
      "0\n",
      "Big Island Chicken Stir Fry\n",
      "0\n",
      "Big Island Tofu Stir Fry\n",
      "0\n",
      "Brownie M&M\n",
      "0\n",
      "Cage Free Eggs\n",
      "0\n",
      "Cage Free Omelette Bar\n",
      "0\n",
      "Cage Free Scrambled Eggs\n",
      "1\n",
      "Caramelized Chipotle Chicken\n",
      "0\n",
      "Carrot Parsnip Soup\n",
      "0\n",
      "Charro Beans\n",
      "0\n",
      "Cheddar Cheese\n",
      "0\n",
      "Cheese Pizza\n",
      "1\n",
      "Chicken Adobo\n",
      "0\n",
      "Chocolate Loaf Bread\n",
      "0\n",
      "Chorizo and Jack Cheese Pizza\n",
      "0\n",
      "Condiments\n",
      "0\n",
      "Curly Fries\n",
      "1\n",
      "Falafels\n",
      "0\n",
      "Feta Cheese\n",
      "0\n",
      "Filipino Style Pancit\n",
      "0\n",
      "Fresh Organic Spinach\n",
      "0\n",
      "Fresh Tomato\n",
      "0\n",
      "Granola Nut Cookies\n",
      "0\n",
      "Green Chili, Zucchini & Cheese Tamales\n",
      "0\n",
      "Grilled Reuben Sandwich\n",
      "0\n",
      "Halal Chicken Patty Sandwich\n",
      "0\n",
      "Hard-boiled Cage Free Eggs\n",
      "0\n",
      "Hash Brown Patty\n",
      "1\n",
      "Isla Managua Beef Sandwich\n",
      "0\n",
      "Jalapeno\n",
      "0\n",
      "Jasmine Rice\n",
      "1\n",
      "Krinkle Cut Fries\n",
      "1\n",
      "Kung Pao Sauce\n",
      "1\n",
      "Lemon Pepper Sustainable Pacific Cod\n",
      "0\n",
      "Malfouf\n",
      "0\n",
      "Mexican Rice\n",
      "0\n",
      "Morning Glory Blueberry Granola Nut Muffin\n",
      "0\n",
      "Natural BridgesTofu Scramble\n",
      "0\n",
      "Oatmeal Gluten-Free\n",
      "0\n",
      "Onions\n",
      "0\n",
      "Oven Roasted Chicken Thigh\n",
      "0\n",
      "Oven Roasted Herbed Potatoes\n",
      "0\n",
      "Oven Roasted Turkey\n",
      "1\n",
      "Peach Honey Bran Muffin\n",
      "0\n",
      "Pita Bread\n",
      "0\n",
      "Plantain Pancakes\n",
      "0\n",
      "Pork Pozole\n",
      "0\n",
      "Pumpkin Pie\n",
      "0\n",
      "Regular Cut Fries\n",
      "1\n",
      "Rice Pilaf\n",
      "0\n",
      "Roasted Vegetable Quesadilla\n",
      "0\n",
      "Roasted Vegetables with Pesto Sandwich\n",
      "0\n",
      "Sausage Patties\n",
      "1\n",
      "Sliced Olived\n",
      "0\n",
      "Smoked Ham\n",
      "1\n",
      "Steamed Brown Rice\n",
      "1\n",
      "Steamed Rice\n",
      "1\n",
      "Stir Fry Vegetables\n",
      "0\n",
      "Tabouleh Salad\n",
      "0\n",
      "Tomato and Pesto Baked Pork Chops\n",
      "0\n",
      "Tzatziki Sauce\n",
      "0\n",
      "UCSC Bakery French Rolls\n",
      "0\n",
      "Vegan Peanut Granola\n",
      "0\n",
      "[0, 0, 0, 0, 0, 0, 0, 0, 0, 0, 0, 0, 0, 1, 0, 0, 0, 0, 1, 0, 0, 0, 0, 1, 0, 0, 0, 0, 0, 0, 0, 0, 0, 0, 1, 0, 0, 1, 1, 1, 0, 0, 0, 0, 0, 0, 0, 0, 0, 1, 0, 0, 0, 0, 0, 1, 0, 0, 0, 1, 0, 1, 1, 1, 0, 0, 0, 0, 0, 0]\n",
      "Preference length:  70\n"
     ]
    }
   ],
   "source": [
    "# preference list, labeled by myself\n",
    "# pref_1 = [1, 1, 1, 0, 0, 1, 0, 0, 0, 1, 1, 0, 0, 1, 0, 0, 0, 0, 0, 1, 1, 0, 0, 0, 0, 1, 0, 0, 0 ]\n",
    "# pref_2 = [1, 1, 1, 1, 0, 0, 1, 1, 1, 1, 1, 0, 0, 1, 0, 0, 0, 0, 1, 0, 0, 1, 1, 1, 0, 0, 0]\n",
    "# pref_3 = [0, 1, 1, 1, 0, 0, 0, 0, 0, 1, 1, 1, 1, 0, 0, 0, 1, 1, 0, 1, 0, 0, 0, 1]\n",
    "# pref_4 = [0, 0, 1, 1, 0, 0, 1, 1, 1, 0, 1, 0, 0, 0, 0, 1, 0, 0, 1, 1, 0, 1, 1, 1, 0, 0, 1, 0, 1, 0, 1, 1, 1, 0, 0]\n",
    "# pref_5 = [1, 0, 1, 0, 0, 0, 1, 1, 0, 1, 0, 0, 0, 0, 1, 0, 0, 0, 0, 0, 1, 0, 0, 1, 0, 0, 1, 0, 0, 1, 0, 1, 0]\n",
    "pref = []\n",
    "for i in food_list:\n",
    "    print(i)\n",
    "    preference = int(input())\n",
    "    if preference != 0 and preference != 1:\n",
    "        print('Incrorrect input')\n",
    "        break\n",
    "    pref.append(preference)\n",
    "print(pref)\n",
    "print('Preference length: ', len(pref))"
   ]
  },
  {
   "cell_type": "code",
   "execution_count": 9,
   "metadata": {},
   "outputs": [
    {
     "name": "stdout",
     "output_type": "stream",
     "text": [
      "Current US/Pacific time:  2018-10-01\n"
     ]
    }
   ],
   "source": [
    "# timezone setting\n",
    "us_pacific = timezone('US/Pacific')\n",
    "time = datetime.now(us_pacific)\n",
    "us_time = time.strftime('%Y-%m-%d')\n",
    "print('Current US/Pacific time: ', us_time)"
   ]
  },
  {
   "cell_type": "code",
   "execution_count": 10,
   "metadata": {},
   "outputs": [
    {
     "name": "stdout",
     "output_type": "stream",
     "text": [
      "Current path:  /Users/7w0r4ng3s/Documents/menu_scraping/data/2018-10-01.csv\n"
     ]
    }
   ],
   "source": [
    "# write the food list to a csv file\n",
    "path = '/Users/7w0r4ng3s/Documents/menu_scraping/data/{}.csv'.format(us_time)\n",
    "print('Current path: ', path)\n",
    "path_2 = '/Users/7w0r4ng3s/Documents/menu_scraping/data/'"
   ]
  },
  {
   "cell_type": "code",
   "execution_count": 11,
   "metadata": {},
   "outputs": [
    {
     "name": "stdout",
     "output_type": "stream",
     "text": [
      "write_csv: COMPLETED\n",
      "add_column_name: COMPLETED\n"
     ]
    }
   ],
   "source": [
    "def write_data():\n",
    "    with open(path, \"w\") as output:\n",
    "        writer = csv.writer(output, lineterminator='\\n')\n",
    "        for key, val in zip(food_list, pref):\n",
    "            writer.writerow([key, val])\n",
    "    print('write_csv: COMPLETED')\n",
    "    # add index and column names\n",
    "    df = pd.read_csv(path, names=['food', 'pref'])\n",
    "    df.index.names = ['index']\n",
    "    df.to_csv(path)\n",
    "    print('add_column_name: COMPLETED')\n",
    "    \n",
    "write_data()"
   ]
  },
  {
   "cell_type": "code",
   "execution_count": 12,
   "metadata": {},
   "outputs": [],
   "source": [
    "# def merge_data():\n",
    "#     # TODO: Figure out a way to get rid of the unnamed: 0 column\n",
    "#     # TODO: Modify merge_data() so that new data can be append to data.csv\n",
    "#     files = [f for f in os.listdir('.') if os.path.isfile(f)]\n",
    "\n",
    "#     merged = []\n",
    "\n",
    "#     for f in files:\n",
    "#         filename, ext = os.path.splitext(f)\n",
    "#         if ext == '.csv':\n",
    "#             read = pd.read_csv(f)\n",
    "#             merged.append(read)\n",
    "\n",
    "#     result = pd.concat(merged)\n",
    "#     result.to_csv('data.csv')\n",
    "    \n",
    "# merge_data()"
   ]
  },
  {
   "cell_type": "code",
   "execution_count": 13,
   "metadata": {},
   "outputs": [],
   "source": [
    "def append_data():\n",
    "    df1 = pd.read_csv('Data.csv', index_col='index')\n",
    "    df1.index.names = ['index']\n",
    "    df2 = pd.read_csv(path, index_col='index')\n",
    "    df3 = df1.append(df2).reset_index()\n",
    "    df3 = df3.drop('index', 1).sort_values('food').reset_index().drop('index', 1)\n",
    "    df3.index.names = ['index']\n",
    "    df3.to_csv('Data.csv')\n",
    "    \n",
    "append_data()"
   ]
  },
  {
   "cell_type": "code",
   "execution_count": null,
   "metadata": {},
   "outputs": [],
   "source": [
    "FoodTools.search()"
   ]
  },
  {
   "cell_type": "code",
   "execution_count": 17,
   "metadata": {},
   "outputs": [
    {
     "data": {
      "text/plain": [
       "['Atomic Cheese Sauce',\n",
       " 'Bar Indian',\n",
       " 'Bell Peppers',\n",
       " 'Black Beans',\n",
       " 'Bread Bun',\n",
       " 'Burger Turkey',\n",
       " 'Cage Free Eggs',\n",
       " 'Cage Free Omelette Bar',\n",
       " 'Cheddar Cheese',\n",
       " 'Condiments',\n",
       " 'Feta Cheese',\n",
       " 'Fresh Organic Spinach',\n",
       " 'Hawaiian Coleslaw',\n",
       " 'Jalapeno',\n",
       " 'Mexican Rice',\n",
       " 'Oatmeal Gluten-Free',\n",
       " 'Onions',\n",
       " 'Original Naan',\n",
       " 'Oven Roasted Chicken Thigh',\n",
       " 'Pepperoni Pizza',\n",
       " 'Roasted Corn',\n",
       " 'Roasted Seasonal Vegetables',\n",
       " 'Roasted Vegetables',\n",
       " 'Sauteed Mushrooms',\n",
       " 'Sliced Olived',\n",
       " 'Steamed Seasonal Vegetables',\n",
       " 'Stir Fry Vegetables',\n",
       " 'Tuscan Vegetable Soup',\n",
       " 'Vegan Malibu Burger',\n",
       " 'Vegan Peanut Granola',\n",
       " 'Vegan Tenders']"
      ]
     },
     "execution_count": 17,
     "metadata": {},
     "output_type": "execute_result"
    }
   ],
   "source": [
    "FoodTools.never_eat()"
   ]
  },
  {
   "cell_type": "code",
   "execution_count": null,
   "metadata": {},
   "outputs": [],
   "source": []
  }
 ],
 "metadata": {
  "kernelspec": {
   "display_name": "Python 3",
   "language": "python",
   "name": "python3"
  },
  "language_info": {
   "codemirror_mode": {
    "name": "ipython",
    "version": 3
   },
   "file_extension": ".py",
   "mimetype": "text/x-python",
   "name": "python",
   "nbconvert_exporter": "python",
   "pygments_lexer": "ipython3",
   "version": "3.6.6"
  }
 },
 "nbformat": 4,
 "nbformat_minor": 2
}
