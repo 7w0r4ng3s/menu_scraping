{
 "cells": [
  {
   "cell_type": "code",
   "execution_count": 1,
   "metadata": {},
   "outputs": [],
   "source": [
    "# import dependencies\n",
    "import os\n",
    "import io\n",
    "import bs4\n",
    "import requests\n",
    "from bs4 import BeautifulSoup\n",
    "from urllib.parse import urljoin\n",
    "# from selenium import webdriver\n",
    "# from lxml import html\n",
    "import csv\n",
    "from datetime import datetime\n",
    "from pytz import timezone\n",
    "import pandas as pd\n",
    "import FoodTools"
   ]
  },
  {
   "cell_type": "code",
   "execution_count": 2,
   "metadata": {},
   "outputs": [],
   "source": [
    "# url of ucsc college 9 & 10 dining hall\n",
    "url = 'https://nutrition.sa.ucsc.edu/nutframe.asp?sName=UC+Santa+Cruz+Dining&locationNum=40&locationName=Colleges+Nine+%26+Ten+Dining+Hall&naFlag=1'"
   ]
  },
  {
   "cell_type": "code",
   "execution_count": 3,
   "metadata": {},
   "outputs": [],
   "source": [
    "# scrap the menu data from the webpage\n",
    "# since the menu data is cannot be scrapped from the html file directly\n",
    "# we have to make additional requests to get the frame page contents \n",
    "with requests.Session() as session:\n",
    "    response = session.get(url)\n",
    "    soup = BeautifulSoup(response.content, 'html.parser')\n",
    "\n",
    "    for frame in soup.select(\"frameset frame\"):\n",
    "        frame_url = urljoin(url, frame[\"src\"])\n",
    "        response = session.get(frame_url)\n",
    "        frame_soup = BeautifulSoup(response.content, 'html.parser') \n",
    "        # print(frame_soup.prettify())"
   ]
  },
  {
   "cell_type": "code",
   "execution_count": 4,
   "metadata": {},
   "outputs": [],
   "source": [
    "# extract both the meal name and food name from html\n",
    "meal_name = frame_soup.find_all('div', attrs={'class': 'menusampmeals'})\n",
    "food_name = frame_soup.find_all('div', attrs={'class': 'menusamprecipes'})"
   ]
  },
  {
   "cell_type": "code",
   "execution_count": 5,
   "metadata": {},
   "outputs": [
    {
     "name": "stdout",
     "output_type": "stream",
     "text": [
      "['Breakfast', 'Lunch', 'Dinner']\n",
      "Length:  3\n"
     ]
    }
   ],
   "source": [
    "# convert the name of the meal type in html form to a list form\n",
    "meal_type = [item.string for item in meal_name]\n",
    "print(meal_type)\n",
    "print('Length: ', len(meal_type))"
   ]
  },
  {
   "cell_type": "code",
   "execution_count": 6,
   "metadata": {},
   "outputs": [
    {
     "name": "stdout",
     "output_type": "stream",
     "text": [
      "['Eggs Benedict', 'Ham Steaks', 'Natural BridgesTofu Scramble', 'Oatmeal Gluten-Free', 'Tator Tots', 'Cage Free Scrambled Eggs', 'Eggs Benedict', 'Ham Steaks', 'Natural BridgesTofu Scramble', 'Oatmeal Gluten-Free', 'Tator Tots', 'Creamy Wild Mushroom Bisque', 'Tuscan Vegetable Soup', 'Burgundy Beef Ragout', 'Oven Roasted Chicken Thigh', 'Saffron Orzo', 'Steamed Rice', 'Cheese Pizza', 'Margherita Pizza', 'Roasted Seasonal Vegetables', 'Honey Bran Muffin', 'Muffin Orange Cranberry', 'Old Fashioned Frosted Donut', 'Vegan Apple Strudel', 'Walnut Brownie', 'Asiago Cheese Sauce', 'Chicken Tenders', 'Chipotle Gardein Strips', 'Mac & Cheese Bar Condiments', 'Mac & Cheese', 'Plain Cooked Elbow Pasta', 'Vegan Macaroni & Cheese', 'Creamy Wild Mushroom Bisque', 'Tuscan Vegetable Soup', 'Middle East Apple Roasted Chicken', 'Oven Roasted Chicken Thigh', 'Sesame Chili Ginger Beef', 'Cheese Pizza', 'Margherita Pizza', 'Roasted Red Potatoes Garlic Herb', 'Steamed Rice', 'Roasted Seasonal Vegetables', 'Stir Fry Vegetables', 'Regular Cut Fries', 'Carrot Cake', 'UCSC Bakery French Rolls', 'Walnut Brownie', 'Black Beans', 'Braised Kale with Crispy Shallots', 'Condiments', 'Grilled Chimichurri Tofu', 'Jalapeno Lime Shrimp', 'Peruvian Bar', 'Roasted Corn', 'Cheeseburger', 'Vegan Malibu Burger']\n",
      "Length:  56\n"
     ]
    }
   ],
   "source": [
    "# convert the food name in html form to a list form\n",
    "food_list = [item.string for item in food_name]\n",
    "print(food_list)\n",
    "print('Length: ', len(food_list))"
   ]
  },
  {
   "cell_type": "code",
   "execution_count": 7,
   "metadata": {},
   "outputs": [
    {
     "name": "stdout",
     "output_type": "stream",
     "text": [
      "['Asiago Cheese Sauce', 'Black Beans', 'Braised Kale with Crispy Shallots', 'Burgundy Beef Ragout', 'Cage Free Scrambled Eggs', 'Carrot Cake', 'Cheese Pizza', 'Cheeseburger', 'Chicken Tenders', 'Chipotle Gardein Strips', 'Condiments', 'Creamy Wild Mushroom Bisque', 'Eggs Benedict', 'Grilled Chimichurri Tofu', 'Ham Steaks', 'Honey Bran Muffin', 'Jalapeno Lime Shrimp', 'Mac & Cheese', 'Mac & Cheese Bar Condiments', 'Margherita Pizza', 'Middle East Apple Roasted Chicken', 'Muffin Orange Cranberry', 'Natural BridgesTofu Scramble', 'Oatmeal Gluten-Free', 'Old Fashioned Frosted Donut', 'Oven Roasted Chicken Thigh', 'Peruvian Bar', 'Plain Cooked Elbow Pasta', 'Regular Cut Fries', 'Roasted Corn', 'Roasted Red Potatoes Garlic Herb', 'Roasted Seasonal Vegetables', 'Saffron Orzo', 'Sesame Chili Ginger Beef', 'Steamed Rice', 'Stir Fry Vegetables', 'Tator Tots', 'Tuscan Vegetable Soup', 'UCSC Bakery French Rolls', 'Vegan Apple Strudel', 'Vegan Macaroni & Cheese', 'Vegan Malibu Burger', 'Walnut Brownie']\n",
      "Sorted length:  43\n"
     ]
    }
   ],
   "source": [
    "# In case of dupliate food name, the list should be converted to a set\n",
    "# sort\n",
    "food_list = sorted(list(set(food_list)))\n",
    "print(food_list)\n",
    "print('Sorted length: ', len(food_list))"
   ]
  },
  {
   "cell_type": "code",
   "execution_count": 8,
   "metadata": {
    "scrolled": true
   },
   "outputs": [
    {
     "name": "stdout",
     "output_type": "stream",
     "text": [
      "Asiago Cheese Sauce\n",
      "0\n",
      "Black Beans\n",
      "0\n",
      "Braised Kale with Crispy Shallots\n",
      "0\n",
      "Burgundy Beef Ragout\n",
      "0\n",
      "Cage Free Scrambled Eggs\n",
      "1\n",
      "Carrot Cake\n",
      "0\n",
      "Cheese Pizza\n",
      "1\n",
      "Cheeseburger\n",
      "0\n",
      "Chicken Tenders\n",
      "1\n",
      "Chipotle Gardein Strips\n",
      "0\n",
      "Condiments\n",
      "0\n",
      "Creamy Wild Mushroom Bisque\n",
      "0\n",
      "Eggs Benedict\n",
      "0\n",
      "Grilled Chimichurri Tofu\n",
      "0\n",
      "Ham Steaks\n",
      "0\n",
      "Honey Bran Muffin\n",
      "0\n",
      "Jalapeno Lime Shrimp\n",
      "0\n",
      "Mac & Cheese\n",
      "0\n",
      "Mac & Cheese Bar Condiments\n",
      "0\n",
      "Margherita Pizza\n",
      "0\n",
      "Middle East Apple Roasted Chicken\n",
      "0\n",
      "Muffin Orange Cranberry\n",
      "0\n",
      "Natural BridgesTofu Scramble\n",
      "1\n",
      "Oatmeal Gluten-Free\n",
      "0\n",
      "Old Fashioned Frosted Donut\n",
      "0\n",
      "Oven Roasted Chicken Thigh\n",
      "0\n",
      "Peruvian Bar\n",
      "0\n",
      "Plain Cooked Elbow Pasta\n",
      "0\n",
      "Regular Cut Fries\n",
      "1\n",
      "Roasted Corn\n",
      "0\n",
      "Roasted Red Potatoes Garlic Herb\n",
      "0\n",
      "Roasted Seasonal Vegetables\n",
      "0\n",
      "Saffron Orzo\n",
      "0\n",
      "Sesame Chili Ginger Beef\n",
      "1\n",
      "Steamed Rice\n",
      "1\n",
      "Stir Fry Vegetables\n",
      "0\n",
      "Tator Tots\n",
      "1\n",
      "Tuscan Vegetable Soup\n",
      "0\n",
      "UCSC Bakery French Rolls\n",
      "1\n",
      "Vegan Apple Strudel\n",
      "0\n",
      "Vegan Macaroni & Cheese\n",
      "0\n",
      "Vegan Malibu Burger\n",
      "0\n",
      "Walnut Brownie\n",
      "0\n",
      "[0, 0, 0, 0, 1, 0, 1, 0, 1, 0, 0, 0, 0, 0, 0, 0, 0, 0, 0, 0, 0, 0, 1, 0, 0, 0, 0, 0, 1, 0, 0, 0, 0, 1, 1, 0, 1, 0, 1, 0, 0, 0, 0]\n",
      "Preference length:  43\n"
     ]
    }
   ],
   "source": [
    "# preference list, labeled by myself\n",
    "# pref_1 = [1, 1, 1, 0, 0, 1, 0, 0, 0, 1, 1, 0, 0, 1, 0, 0, 0, 0, 0, 1, 1, 0, 0, 0, 0, 1, 0, 0, 0 ]\n",
    "# pref_2 = [1, 1, 1, 1, 0, 0, 1, 1, 1, 1, 1, 0, 0, 1, 0, 0, 0, 0, 1, 0, 0, 1, 1, 1, 0, 0, 0]\n",
    "# pref_3 = [0, 1, 1, 1, 0, 0, 0, 0, 0, 1, 1, 1, 1, 0, 0, 0, 1, 1, 0, 1, 0, 0, 0, 1]\n",
    "# pref_4 = [0, 0, 1, 1, 0, 0, 1, 1, 1, 0, 1, 0, 0, 0, 0, 1, 0, 0, 1, 1, 0, 1, 1, 1, 0, 0, 1, 0, 1, 0, 1, 1, 1, 0, 0]\n",
    "# pref_5 = [1, 0, 1, 0, 0, 0, 1, 1, 0, 1, 0, 0, 0, 0, 1, 0, 0, 0, 0, 0, 1, 0, 0, 1, 0, 0, 1, 0, 0, 1, 0, 1, 0]\n",
    "pref = []\n",
    "for i in food_list:\n",
    "    print(i)\n",
    "    preference = int(input())\n",
    "    if preference != 0 and preference != 1:\n",
    "        print('Incrorrect input')\n",
    "        break\n",
    "    pref.append(preference)\n",
    "print(pref)\n",
    "print('Preference length: ', len(pref))"
   ]
  },
  {
   "cell_type": "code",
   "execution_count": 9,
   "metadata": {},
   "outputs": [
    {
     "name": "stdout",
     "output_type": "stream",
     "text": [
      "Current US/Pacific time:  2018-09-23\n"
     ]
    }
   ],
   "source": [
    "# timezone setting\n",
    "us_pacific = timezone('US/Pacific')\n",
    "time = datetime.now(us_pacific)\n",
    "us_time = time.strftime('%Y-%m-%d')\n",
    "print('Current US/Pacific time: ', us_time)"
   ]
  },
  {
   "cell_type": "code",
   "execution_count": 10,
   "metadata": {},
   "outputs": [
    {
     "name": "stdout",
     "output_type": "stream",
     "text": [
      "Current path:  /Users/7w0r4ng3s/Desktop/menu_scraping/data/2018-09-23.csv\n"
     ]
    }
   ],
   "source": [
    "# write the food list to a csv file\n",
    "path = '/Users/7w0r4ng3s/Desktop/menu_scraping/data/{}.csv'.format(us_time)\n",
    "print('Current path: ', path)\n",
    "path_2 = '/Users/7w0r4ng3s/Desktop/menu_scraping/data/'"
   ]
  },
  {
   "cell_type": "code",
   "execution_count": 11,
   "metadata": {},
   "outputs": [
    {
     "name": "stdout",
     "output_type": "stream",
     "text": [
      "write_csv: COMPLETED\n",
      "add_column_name: COMPLETED\n"
     ]
    }
   ],
   "source": [
    "def write_data():\n",
    "    with open(path, \"w\") as output:\n",
    "        writer = csv.writer(output, lineterminator='\\n')\n",
    "        for key, val in zip(food_list, pref):\n",
    "            writer.writerow([key, val])\n",
    "    print('write_csv: COMPLETED')\n",
    "    # add index and column names\n",
    "    df = pd.read_csv(path, names=['food', 'pref'])\n",
    "    df.index.names = ['index']\n",
    "    df.to_csv(path)\n",
    "    print('add_column_name: COMPLETED')\n",
    "    \n",
    "write_data()"
   ]
  },
  {
   "cell_type": "code",
   "execution_count": 12,
   "metadata": {},
   "outputs": [],
   "source": [
    "# def merge_data():\n",
    "#     # TODO: Figure out a way to get rid of the unnamed: 0 column\n",
    "#     # TODO: Modify merge_data() so that new data can be append to data.csv\n",
    "#     files = [f for f in os.listdir('.') if os.path.isfile(f)]\n",
    "\n",
    "#     merged = []\n",
    "\n",
    "#     for f in files:\n",
    "#         filename, ext = os.path.splitext(f)\n",
    "#         if ext == '.csv':\n",
    "#             read = pd.read_csv(f)\n",
    "#             merged.append(read)\n",
    "\n",
    "#     result = pd.concat(merged)\n",
    "#     result.to_csv('data.csv')\n",
    "    \n",
    "# merge_data()"
   ]
  },
  {
   "cell_type": "code",
   "execution_count": 13,
   "metadata": {},
   "outputs": [],
   "source": [
    "def append_data():\n",
    "    df1 = pd.read_csv('Data.csv', index_col='index')\n",
    "    df1.index.names = ['index']\n",
    "    df2 = pd.read_csv(path, index_col='index')\n",
    "    df3 = df1.append(df2).reset_index()\n",
    "    df3 = df3.drop('index', 1).sort_values('food').reset_index().drop('index', 1)\n",
    "    df3.index.names = ['index']\n",
    "    df3.to_csv('Data.csv')\n",
    "    \n",
    "append_data()"
   ]
  },
  {
   "cell_type": "code",
   "execution_count": 14,
   "metadata": {},
   "outputs": [
    {
     "name": "stdout",
     "output_type": "stream",
     "text": [
      "Food name: tomato\n",
      "Do you mean:\n",
      "1 Chickpea Curry with Tomato and Kale\n",
      "2 Fresh Tomato\n",
      "3 Sun Dried Tomato Crusted Chicken Breast\n",
      "4 Tomato Bisque Soup\n",
      "\n",
      "Enter the index: 4\n",
      "--------------------------------------------------------------------------------\n",
      "Out of 2 time(s), you like [Tomato Bisque Soup] 1 time(s).\n",
      "--------------------------------------------------------------------------------\n"
     ]
    },
    {
     "data": {
      "text/plain": [
       "0.5"
      ]
     },
     "execution_count": 14,
     "metadata": {},
     "output_type": "execute_result"
    }
   ],
   "source": [
    "FoodTools.search()"
   ]
  },
  {
   "cell_type": "code",
   "execution_count": null,
   "metadata": {},
   "outputs": [],
   "source": []
  }
 ],
 "metadata": {
  "kernelspec": {
   "display_name": "Python 3",
   "language": "python",
   "name": "python3"
  },
  "language_info": {
   "codemirror_mode": {
    "name": "ipython",
    "version": 3
   },
   "file_extension": ".py",
   "mimetype": "text/x-python",
   "name": "python",
   "nbconvert_exporter": "python",
   "pygments_lexer": "ipython3",
   "version": "3.6.6"
  }
 },
 "nbformat": 4,
 "nbformat_minor": 2
}
