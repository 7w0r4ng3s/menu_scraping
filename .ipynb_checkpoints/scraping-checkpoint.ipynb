{
 "cells": [
  {
   "cell_type": "code",
   "execution_count": 4,
   "metadata": {},
   "outputs": [],
   "source": [
    "# import dependencies\n",
    "import os\n",
    "import io\n",
    "import bs4\n",
    "import requests\n",
    "from bs4 import BeautifulSoup\n",
    "from urllib.parse import urljoin\n",
    "# from selenium import webdriver\n",
    "# from lxml import html\n",
    "import csv\n",
    "from datetime import datetime\n",
    "from pytz import timezone\n",
    "import pandas as pd\n",
    "import FoodTools"
   ]
  },
  {
   "cell_type": "code",
   "execution_count": 5,
   "metadata": {},
   "outputs": [],
   "source": [
    "# url of ucsc college 9 & 10 dining hall\n",
    "url = 'https://nutrition.sa.ucsc.edu/nutframe.asp?sName=UC+Santa+Cruz+Dining&locationNum=40&locationName=Colleges+Nine+%26+Ten+Dining+Hall&naFlag=1'"
   ]
  },
  {
   "cell_type": "code",
   "execution_count": 7,
   "metadata": {},
   "outputs": [],
   "source": [
    "# scrap the menu data from the webpage\n",
    "# since the menu data is cannot be scrapped from the html file directly\n",
    "# we have to make additional requests to get the frame page contents \n",
    "with requests.Session() as session:\n",
    "    response = session.get(url)\n",
    "    soup = BeautifulSoup(response.content, 'html.parser')\n",
    "\n",
    "    for frame in soup.select(\"frameset frame\"):\n",
    "        frame_url = urljoin(url, frame[\"src\"])\n",
    "        response = session.get(frame_url)\n",
    "        frame_soup = BeautifulSoup(response.content, 'html.parser') \n",
    "        # print(frame_soup.prettify())"
   ]
  },
  {
   "cell_type": "code",
   "execution_count": 8,
   "metadata": {},
   "outputs": [],
   "source": [
    "# extract both the meal name and food name from html\n",
    "meal_name = frame_soup.find_all('div', attrs={'class': 'menusampmeals'})\n",
    "food_name = frame_soup.find_all('div', attrs={'class': 'menusamprecipes'})"
   ]
  },
  {
   "cell_type": "code",
   "execution_count": 9,
   "metadata": {},
   "outputs": [
    {
     "name": "stdout",
     "output_type": "stream",
     "text": [
      "['Breakfast', 'Lunch', 'Dinner']\n",
      "Length:  3\n"
     ]
    }
   ],
   "source": [
    "# convert the name of the meal type in html form to a list form\n",
    "meal_type = [item.string for item in meal_name]\n",
    "print(meal_type)\n",
    "print('Length: ', len(meal_type))"
   ]
  },
  {
   "cell_type": "code",
   "execution_count": 10,
   "metadata": {},
   "outputs": [
    {
     "name": "stdout",
     "output_type": "stream",
     "text": [
      "['Belgian Waffles', 'Cage Free Scrambled Eggs', \"Egg O'Bagel\", 'Hard-boiled Cage Free Eggs', 'Mexican Chorizo Sausage', 'Savory Cheese Grits', 'Soyrizo Tofu Scramble', 'Spicy Gold Potatoes', 'Texas French Toast', 'Lemon Poppyseed Muffin', 'Muffin Orange Cranberry', 'Raspberry Cheese Ring', 'Vegan Peanut Granola', 'Bell Peppers', 'Cage Free Eggs', 'Cage Free Omelette Bar', 'Cheddar Cheese', 'Feta Cheese', 'Fresh Organic Spinach', 'Fresh Tomato', 'Jalapeno', 'Onions', 'Oven Roasted Turkey', 'Sliced Olived', 'Smoked Ham', 'Chicken Ortega Soup', 'White Bean with Kale Soup', 'Oven Roasted Chicken Thigh', 'Oven Roasted Herbed Potatoes', 'Steamed Rice', 'Steamed Seasonal Vegetables', 'Sun Dried Tomato Crusted Chicken Breast', 'Cheese Pizza', 'Roasted Vegetable Pizza', 'Portobella Mushroom Cheese Steak', 'Lemon Bars', 'Peanut Butter Brownie', 'Atomic Cheese Sauce', 'BAR Boardwalk Burgers', 'Bacon', 'Bread Bun', 'Burger Beef', 'Burger Turkey', 'Chili with Beef', 'Onion Rings', 'Sauteed Mushrooms', 'Vegan Malibu Burger', 'Chicken Ortega Soup', 'White Bean with Kale Soup', 'Herbed Pork Chop', 'Oven Roasted Chicken Thigh', 'Quinoa with Butternut Squash and Kale', 'BLT Pizza', 'Cheese Pizza', 'Szechuan Sweet Chili Chicken', 'Szechuan Sweet Chili Tofu', 'Steamed Rice', 'Sauteed Seasonal Vegetable', 'Italian Sausage Sandwich', 'Tahitian Plant Based Wrap', 'Lemon Bars', 'Strawberry Almond Cake', 'UCSC Bakery French Rolls', 'BAR Street Taco', 'BBQ Ginger Soy Chicken', 'BBQ Tofu Chili Garlic', 'Chili Soy Slaw', 'Condiments', 'Korean BBQ Beef', 'Salsa Roja']\n",
      "Length:  70\n"
     ]
    }
   ],
   "source": [
    "# convert the food name in html form to a list form\n",
    "food_list = [item.string for item in food_name]\n",
    "print(food_list)\n",
    "print('Length: ', len(food_list))"
   ]
  },
  {
   "cell_type": "code",
   "execution_count": 11,
   "metadata": {},
   "outputs": [
    {
     "name": "stdout",
     "output_type": "stream",
     "text": [
      "['Atomic Cheese Sauce', 'BAR Boardwalk Burgers', 'BAR Street Taco', 'BBQ Ginger Soy Chicken', 'BBQ Tofu Chili Garlic', 'BLT Pizza', 'Bacon', 'Belgian Waffles', 'Bell Peppers', 'Bread Bun', 'Burger Beef', 'Burger Turkey', 'Cage Free Eggs', 'Cage Free Omelette Bar', 'Cage Free Scrambled Eggs', 'Cheddar Cheese', 'Cheese Pizza', 'Chicken Ortega Soup', 'Chili Soy Slaw', 'Chili with Beef', 'Condiments', \"Egg O'Bagel\", 'Feta Cheese', 'Fresh Organic Spinach', 'Fresh Tomato', 'Hard-boiled Cage Free Eggs', 'Herbed Pork Chop', 'Italian Sausage Sandwich', 'Jalapeno', 'Korean BBQ Beef', 'Lemon Bars', 'Lemon Poppyseed Muffin', 'Mexican Chorizo Sausage', 'Muffin Orange Cranberry', 'Onion Rings', 'Onions', 'Oven Roasted Chicken Thigh', 'Oven Roasted Herbed Potatoes', 'Oven Roasted Turkey', 'Peanut Butter Brownie', 'Portobella Mushroom Cheese Steak', 'Quinoa with Butternut Squash and Kale', 'Raspberry Cheese Ring', 'Roasted Vegetable Pizza', 'Salsa Roja', 'Sauteed Mushrooms', 'Sauteed Seasonal Vegetable', 'Savory Cheese Grits', 'Sliced Olived', 'Smoked Ham', 'Soyrizo Tofu Scramble', 'Spicy Gold Potatoes', 'Steamed Rice', 'Steamed Seasonal Vegetables', 'Strawberry Almond Cake', 'Sun Dried Tomato Crusted Chicken Breast', 'Szechuan Sweet Chili Chicken', 'Szechuan Sweet Chili Tofu', 'Tahitian Plant Based Wrap', 'Texas French Toast', 'UCSC Bakery French Rolls', 'Vegan Malibu Burger', 'Vegan Peanut Granola', 'White Bean with Kale Soup']\n",
      "Sorted length:  64\n"
     ]
    }
   ],
   "source": [
    "# In case of dupliate food name, the list should be converted to a set\n",
    "# sort\n",
    "food_list = sorted(list(set(food_list)))\n",
    "print(food_list)\n",
    "print('Sorted length: ', len(food_list))"
   ]
  },
  {
   "cell_type": "code",
   "execution_count": 12,
   "metadata": {
    "scrolled": true
   },
   "outputs": [
    {
     "name": "stdout",
     "output_type": "stream",
     "text": [
      "Atomic Cheese Sauce\n",
      "0\n",
      "BAR Boardwalk Burgers\n",
      "1\n",
      "BAR Street Taco\n",
      "0\n",
      "BBQ Ginger Soy Chicken\n",
      "1\n",
      "BBQ Tofu Chili Garlic\n",
      "0\n",
      "BLT Pizza\n",
      "0\n",
      "Bacon\n",
      "1\n",
      "Belgian Waffles\n",
      "0\n",
      "Bell Peppers\n",
      "0\n",
      "Bread Bun\n",
      "0\n",
      "Burger Beef\n",
      "1\n",
      "Burger Turkey\n",
      "0\n",
      "Cage Free Eggs\n",
      "0\n",
      "Cage Free Omelette Bar\n",
      "0\n",
      "Cage Free Scrambled Eggs\n",
      "1\n",
      "Cheddar Cheese\n",
      "0\n",
      "Cheese Pizza\n",
      "1\n",
      "Chicken Ortega Soup\n",
      "1\n",
      "Chili Soy Slaw\n",
      "0\n",
      "Chili with Beef\n",
      "1\n",
      "Condiments\n",
      "0\n",
      "Egg O'Bagel\n",
      "0\n",
      "Feta Cheese\n",
      "0\n",
      "Fresh Organic Spinach\n",
      "0\n",
      "Fresh Tomato\n",
      "0\n",
      "Hard-boiled Cage Free Eggs\n",
      "0\n",
      "Herbed Pork Chop\n",
      "0\n",
      "Italian Sausage Sandwich\n",
      "0\n",
      "Jalapeno\n",
      "0\n",
      "Korean BBQ Beef\n",
      "1\n",
      "Lemon Bars\n",
      "0\n",
      "Lemon Poppyseed Muffin\n",
      "0\n",
      "Mexican Chorizo Sausage\n",
      "0\n",
      "Muffin Orange Cranberry\n",
      "0\n",
      "Onion Rings\n",
      "0\n",
      "Onions\n",
      "0\n",
      "Oven Roasted Chicken Thigh\n",
      "0\n",
      "Oven Roasted Herbed Potatoes\n",
      "0\n",
      "Oven Roasted Turkey\n",
      "0\n",
      "Peanut Butter Brownie\n",
      "0\n",
      "Portobella Mushroom Cheese Steak\n",
      "0\n",
      "Quinoa with Butternut Squash and Kale\n",
      "0\n",
      "Raspberry Cheese Ring\n",
      "0\n",
      "Roasted Vegetable Pizza\n",
      "0\n",
      "Salsa Roja\n",
      "0\n",
      "Sauteed Mushrooms\n",
      "0\n",
      "Sauteed Seasonal Vegetable\n",
      "0\n",
      "Savory Cheese Grits\n",
      "0\n",
      "Sliced Olived\n",
      "0\n",
      "Smoked Ham\n",
      "0\n",
      "Soyrizo Tofu Scramble\n",
      "0\n",
      "Spicy Gold Potatoes\n",
      "0\n",
      "Steamed Rice\n",
      "1\n",
      "Steamed Seasonal Vegetables\n",
      "0\n",
      "Strawberry Almond Cake\n",
      "0\n",
      "Sun Dried Tomato Crusted Chicken Breast\n",
      "0\n",
      "Szechuan Sweet Chili Chicken\n",
      "1\n",
      "Szechuan Sweet Chili Tofu\n",
      "1\n",
      "Tahitian Plant Based Wrap\n",
      "0\n",
      "Texas French Toast\n",
      "0\n",
      "UCSC Bakery French Rolls\n",
      "0\n",
      "Vegan Malibu Burger\n",
      "0\n",
      "Vegan Peanut Granola\n",
      "0\n",
      "White Bean with Kale Soup\n",
      "0\n",
      "[0, 1, 0, 1, 0, 0, 1, 0, 0, 0, 1, 0, 0, 0, 1, 0, 1, 1, 0, 1, 0, 0, 0, 0, 0, 0, 0, 0, 0, 1, 0, 0, 0, 0, 0, 0, 0, 0, 0, 0, 0, 0, 0, 0, 0, 0, 0, 0, 0, 0, 0, 0, 1, 0, 0, 0, 1, 1, 0, 0, 0, 0, 0, 0]\n",
      "Preference length:  64\n"
     ]
    }
   ],
   "source": [
    "# preference list, labeled by myself\n",
    "# pref_1 = [1, 1, 1, 0, 0, 1, 0, 0, 0, 1, 1, 0, 0, 1, 0, 0, 0, 0, 0, 1, 1, 0, 0, 0, 0, 1, 0, 0, 0 ]\n",
    "# pref_2 = [1, 1, 1, 1, 0, 0, 1, 1, 1, 1, 1, 0, 0, 1, 0, 0, 0, 0, 1, 0, 0, 1, 1, 1, 0, 0, 0]\n",
    "# pref_3 = [0, 1, 1, 1, 0, 0, 0, 0, 0, 1, 1, 1, 1, 0, 0, 0, 1, 1, 0, 1, 0, 0, 0, 1]\n",
    "# pref_4 = [0, 0, 1, 1, 0, 0, 1, 1, 1, 0, 1, 0, 0, 0, 0, 1, 0, 0, 1, 1, 0, 1, 1, 1, 0, 0, 1, 0, 1, 0, 1, 1, 1, 0, 0]\n",
    "# pref_5 = [1, 0, 1, 0, 0, 0, 1, 1, 0, 1, 0, 0, 0, 0, 1, 0, 0, 0, 0, 0, 1, 0, 0, 1, 0, 0, 1, 0, 0, 1, 0, 1, 0]\n",
    "pref = []\n",
    "for i in food_list:\n",
    "    print(i)\n",
    "    preference = int(input())\n",
    "    if preference != 0 and preference != 1:\n",
    "        print('Incrorrect input')\n",
    "        break\n",
    "    pref.append(preference)\n",
    "print(pref)\n",
    "print('Preference length: ', len(pref))"
   ]
  },
  {
   "cell_type": "code",
   "execution_count": 13,
   "metadata": {},
   "outputs": [
    {
     "name": "stdout",
     "output_type": "stream",
     "text": [
      "Current US/Pacific time:  2018-09-20\n"
     ]
    }
   ],
   "source": [
    "# timezone setting\n",
    "us_pacific = timezone('US/Pacific')\n",
    "time = datetime.now(us_pacific)\n",
    "us_time = time.strftime('%Y-%m-%d')\n",
    "print('Current US/Pacific time: ', us_time)"
   ]
  },
  {
   "cell_type": "code",
   "execution_count": 14,
   "metadata": {},
   "outputs": [
    {
     "name": "stdout",
     "output_type": "stream",
     "text": [
      "Current path:  /Users/7w0r4ng3s/Desktop/menu_scraping/data/2018-09-20.csv\n"
     ]
    }
   ],
   "source": [
    "# write the food list to a csv file\n",
    "path = '/Users/7w0r4ng3s/Desktop/menu_scraping/data/{}.csv'.format(us_time)\n",
    "print('Current path: ', path)\n",
    "path_2 = '/Users/7w0r4ng3s/Desktop/menu_scraping/data/'"
   ]
  },
  {
   "cell_type": "code",
   "execution_count": 15,
   "metadata": {},
   "outputs": [
    {
     "name": "stdout",
     "output_type": "stream",
     "text": [
      "write_csv: COMPLETED\n",
      "add_column_name: COMPLETED\n"
     ]
    }
   ],
   "source": [
    "def write_data():\n",
    "    with open(path, \"w\") as output:\n",
    "        writer = csv.writer(output, lineterminator='\\n')\n",
    "        for key, val in zip(food_list, pref):\n",
    "            writer.writerow([key, val])\n",
    "    print('write_csv: COMPLETED')\n",
    "    # add index and column names\n",
    "    df = pd.read_csv(path, names=['food', 'pref'])\n",
    "    df.index.names = ['index']\n",
    "    df.to_csv(path)\n",
    "    print('add_column_name: COMPLETED')\n",
    "    \n",
    "write_data()"
   ]
  },
  {
   "cell_type": "code",
   "execution_count": 16,
   "metadata": {},
   "outputs": [],
   "source": [
    "# def merge_data():\n",
    "#     # TODO: Figure out a way to get rid of the unnamed: 0 column\n",
    "#     # TODO: Modify merge_data() so that new data can be append to data.csv\n",
    "#     files = [f for f in os.listdir('.') if os.path.isfile(f)]\n",
    "\n",
    "#     merged = []\n",
    "\n",
    "#     for f in files:\n",
    "#         filename, ext = os.path.splitext(f)\n",
    "#         if ext == '.csv':\n",
    "#             read = pd.read_csv(f)\n",
    "#             merged.append(read)\n",
    "\n",
    "#     result = pd.concat(merged)\n",
    "#     result.to_csv('data.csv')\n",
    "    \n",
    "# merge_data()"
   ]
  },
  {
   "cell_type": "code",
   "execution_count": 17,
   "metadata": {},
   "outputs": [],
   "source": [
    "def append_data():\n",
    "    df1 = pd.read_csv('Data.csv', index_col='index')\n",
    "    df1.index.names = ['index']\n",
    "    df2 = pd.read_csv(path, index_col='index')\n",
    "    df3 = df1.append(df2).reset_index()\n",
    "    df3 = df3.drop('index', 1).sort_values('food').reset_index().drop('index', 1)\n",
    "    df3.index.names = ['index']\n",
    "    df3.to_csv('Data.csv')\n",
    "    \n",
    "append_data()"
   ]
  },
  {
   "cell_type": "code",
   "execution_count": 18,
   "metadata": {},
   "outputs": [
    {
     "name": "stdout",
     "output_type": "stream",
     "text": [
      "Food name: chili\n",
      "Do you mean:\n",
      "1 BBQ Tofu Chili Garlic\n",
      "2 Chili con Carne\n",
      "3 Szechuan Sweet Chili Sauce\n",
      "\n",
      "Enter the index: 3\n",
      "--------------------------------------------------------------------------------\n",
      "Out of 2 time(s), you like [Szechuan Sweet Chili Sauce] 2 time(s).\n",
      "--------------------------------------------------------------------------------\n"
     ]
    },
    {
     "data": {
      "text/plain": [
       "1.0"
      ]
     },
     "execution_count": 18,
     "metadata": {},
     "output_type": "execute_result"
    }
   ],
   "source": [
    "FoodTools.search()"
   ]
  },
  {
   "cell_type": "code",
   "execution_count": null,
   "metadata": {},
   "outputs": [],
   "source": []
  }
 ],
 "metadata": {
  "kernelspec": {
   "display_name": "Python 3",
   "language": "python",
   "name": "python3"
  }
 },
 "nbformat": 4,
 "nbformat_minor": 2
}
