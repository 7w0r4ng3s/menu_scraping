{
 "cells": [
  {
   "cell_type": "code",
   "execution_count": 1,
   "metadata": {},
   "outputs": [],
   "source": [
    "import pandas as pd"
   ]
  },
  {
   "cell_type": "code",
   "execution_count": 2,
   "metadata": {},
   "outputs": [],
   "source": [
    "df = pd.read_csv('Data.csv').drop('index', 1)\n",
    "foods = df['food'].unique()"
   ]
  },
  {
   "cell_type": "code",
   "execution_count": 16,
   "metadata": {},
   "outputs": [
    {
     "name": "stdout",
     "output_type": "stream",
     "text": [
      "Food name: \n",
      "cheese pizza\n",
      "--------------------------------------------------\n",
      "Out of 5 time(s), you like Cheese Pizza 5 time(s).\n",
      "--------------------------------------------------\n"
     ]
    }
   ],
   "source": [
    "# return the number of times a food appears and the number of time you like it\n",
    "def num_like():\n",
    "    food_name=input('Food name: \\n').title() # works whether you type it uppercase or lowercase\n",
    "    new_df = df.loc[df['food'] == food_name]\n",
    "    num_like = new_df['food'].count() # total times the food appears\n",
    "    score = new_df.iloc[:, 1].sum(0) # number of times you like it\n",
    "    # TODO: add preference evaluation\n",
    "    print('-' * 50)\n",
    "    print(f'Out of {num_like} time(s), you like {food_name} {score} time(s).')\n",
    "    print('-' * 50)\n",
    "    \n",
    "num_like()"
   ]
  },
  {
   "cell_type": "code",
   "execution_count": null,
   "metadata": {},
   "outputs": [],
   "source": []
  }
 ],
 "metadata": {
  "kernelspec": {
   "display_name": "Python 3",
   "language": "python",
   "name": "python3"
  },
  "language_info": {
   "codemirror_mode": {
    "name": "ipython",
    "version": 3
   },
   "file_extension": ".py",
   "mimetype": "text/x-python",
   "name": "python",
   "nbconvert_exporter": "python",
   "pygments_lexer": "ipython3",
   "version": "3.6.6"
  }
 },
 "nbformat": 4,
 "nbformat_minor": 2
}
