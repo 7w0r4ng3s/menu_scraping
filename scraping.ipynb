{
 "cells": [
  {
   "cell_type": "code",
   "execution_count": 1,
   "metadata": {},
   "outputs": [],
   "source": [
    "# import dependencies\n",
    "import os\n",
    "import io\n",
    "import bs4\n",
    "import requests\n",
    "from bs4 import BeautifulSoup\n",
    "from urllib.parse import urljoin\n",
    "# from selenium import webdriver\n",
    "# from lxml import html\n",
    "import csv\n",
    "from datetime import datetime\n",
    "from pytz import timezone\n",
    "import pandas as pd"
   ]
  },
  {
   "cell_type": "code",
   "execution_count": 2,
   "metadata": {},
   "outputs": [],
   "source": [
    "# url of ucsc college 9 & 10 dining hall\n",
    "url = 'https://nutrition.sa.ucsc.edu/nutframe.asp?sName=UC+Santa+Cruz+Dining&locationNum=40&locationName=Colleges+Nine+%26+Ten+Dining+Hall&naFlag=1'"
   ]
  },
  {
   "cell_type": "code",
   "execution_count": 3,
   "metadata": {},
   "outputs": [],
   "source": [
    "# scrap the menu data from the webpage\n",
    "# since the menu data is cannot be scrapped from the html file directly\n",
    "# we have to make additional requests to get the frame page contents \n",
    "with requests.Session() as session:\n",
    "    response = session.get(url)\n",
    "    soup = BeautifulSoup(response.content, 'html.parser')\n",
    "\n",
    "    for frame in soup.select(\"frameset frame\"):\n",
    "        frame_url = urljoin(url, frame[\"src\"])\n",
    "        response = session.get(frame_url)\n",
    "        frame_soup = BeautifulSoup(response.content, 'html.parser') \n",
    "        # print(frame_soup.prettify())"
   ]
  },
  {
   "cell_type": "code",
   "execution_count": 4,
   "metadata": {},
   "outputs": [],
   "source": [
    "# extract both the meal name and food name from html\n",
    "meal_name = frame_soup.find_all('div', attrs={'class': 'menusampmeals'})\n",
    "food_name = frame_soup.find_all('div', attrs={'class': 'menusamprecipes'})"
   ]
  },
  {
   "cell_type": "code",
   "execution_count": 5,
   "metadata": {},
   "outputs": [
    {
     "name": "stdout",
     "output_type": "stream",
     "text": [
      "['Breakfast', 'Lunch', 'Dinner']\n",
      "Length:  3\n"
     ]
    }
   ],
   "source": [
    "# convert the name of the meal type in html form to a list form\n",
    "meal_type = [item.string for item in meal_name]\n",
    "print(meal_type)\n",
    "print('Length: ', len(meal_type))"
   ]
  },
  {
   "cell_type": "code",
   "execution_count": 6,
   "metadata": {},
   "outputs": [
    {
     "name": "stdout",
     "output_type": "stream",
     "text": [
      "['Cage Free Scrambled Eggs', 'Crispy Bacon', 'Hard-boiled Cage Free Eggs', 'Hash Brown Patty', 'Natural BridgesTofu Scramble', 'Oatmeal Gluten-Free', 'Steamed Rice', 'Texas French Toast', 'Creamy Broccoli Cheddar Soup', 'N.E.Clam Chowder', 'Chicken Nuggets', 'Oven Roasted Allergen Free Chicken Thigh', 'Portabello Tofu Fried Rice', 'Roasted Vegetables', 'BAR Boardwalk Burgers', 'Burger Bar #2 Condiments', 'Burger Beef', 'Grilled Pineapple Rings', 'Sauteed Mushrooms', 'Steak Cut Fries', 'Szechuan Sweet Chili Sauce', 'Teriyaki Sauce (Gluten Free)', 'Vegan Malibu Burger', 'Cheese Enchiladas', 'Oven Roasted Allergen Free Chicken Thigh', 'Black Beans', 'Mexican Rice', 'Steamed Seasonal Vegetables', 'BAR Yakisoba Noodles', 'Char Siu Sauce', 'Char Siu Seitan', 'Condiments', 'Island BBQ Chicken', 'Sesame Yakisoba Noodles', 'Stir Fry Vegetables']\n",
      "Length:  35\n"
     ]
    }
   ],
   "source": [
    "# convert the food name in html form to a list form\n",
    "food_list = [item.string for item in food_name]\n",
    "print(food_list)\n",
    "print('Length: ', len(food_list))"
   ]
  },
  {
   "cell_type": "code",
   "execution_count": 7,
   "metadata": {},
   "outputs": [
    {
     "name": "stdout",
     "output_type": "stream",
     "text": [
      "['BAR Boardwalk Burgers', 'BAR Yakisoba Noodles', 'Black Beans', 'Burger Bar #2 Condiments', 'Burger Beef', 'Cage Free Scrambled Eggs', 'Char Siu Sauce', 'Char Siu Seitan', 'Cheese Enchiladas', 'Chicken Nuggets', 'Condiments', 'Creamy Broccoli Cheddar Soup', 'Crispy Bacon', 'Grilled Pineapple Rings', 'Hard-boiled Cage Free Eggs', 'Hash Brown Patty', 'Island BBQ Chicken', 'Mexican Rice', 'N.E.Clam Chowder', 'Natural BridgesTofu Scramble', 'Oatmeal Gluten-Free', 'Oven Roasted Allergen Free Chicken Thigh', 'Portabello Tofu Fried Rice', 'Roasted Vegetables', 'Sauteed Mushrooms', 'Sesame Yakisoba Noodles', 'Steak Cut Fries', 'Steamed Rice', 'Steamed Seasonal Vegetables', 'Stir Fry Vegetables', 'Szechuan Sweet Chili Sauce', 'Teriyaki Sauce (Gluten Free)', 'Texas French Toast', 'Vegan Malibu Burger']\n",
      "Sorted length:  34\n"
     ]
    }
   ],
   "source": [
    "# In case of dupliate food name, the list should be converted to a set\n",
    "# sort\n",
    "food_list = sorted(list(set(food_list)))\n",
    "print(food_list)\n",
    "print('Sorted length: ', len(food_list))"
   ]
  },
  {
   "cell_type": "code",
   "execution_count": 9,
   "metadata": {},
   "outputs": [
    {
     "name": "stdout",
     "output_type": "stream",
     "text": [
      "BAR Boardwalk Burgers\n",
      "1\n",
      "BAR Yakisoba Noodles\n",
      "0\n",
      "Black Beans\n",
      "0\n",
      "Burger Bar #2 Condiments\n",
      "0\n",
      "Burger Beef\n",
      "1\n",
      "Cage Free Scrambled Eggs\n",
      "1\n",
      "Char Siu Sauce\n",
      "1\n",
      "Char Siu Seitan\n",
      "1\n",
      "Cheese Enchiladas\n",
      "1\n",
      "Chicken Nuggets\n",
      "1\n",
      "Condiments\n",
      "0\n",
      "Creamy Broccoli Cheddar Soup\n",
      "0\n",
      "Crispy Bacon\n",
      "1\n",
      "Grilled Pineapple Rings\n",
      "0\n",
      "Hard-boiled Cage Free Eggs\n",
      "0\n",
      "Hash Brown Patty\n",
      "1\n",
      "Island BBQ Chicken\n",
      "1\n",
      "Mexican Rice\n",
      "0\n",
      "N.E.Clam Chowder\n",
      "0\n",
      "Natural BridgesTofu Scramble\n",
      "0\n",
      "Oatmeal Gluten-Free\n",
      "0\n",
      "Oven Roasted Allergen Free Chicken Thigh\n",
      "0\n",
      "Portabello Tofu Fried Rice\n",
      "1\n",
      "Roasted Vegetables\n",
      "0\n",
      "Sauteed Mushrooms\n",
      "0\n",
      "Sesame Yakisoba Noodles\n",
      "1\n",
      "Steak Cut Fries\n",
      "1\n",
      "Steamed Rice\n",
      "1\n",
      "Steamed Seasonal Vegetables\n",
      "0\n",
      "Stir Fry Vegetables\n",
      "0\n",
      "Szechuan Sweet Chili Sauce\n",
      "1\n",
      "Teriyaki Sauce (Gluten Free)\n",
      "1\n",
      "Texas French Toast\n",
      "1\n",
      "Vegan Malibu Burger\n",
      "0\n",
      "[1, 0, 0, 0, 1, 1, 1, 1, 1, 1, 0, 0, 1, 0, 0, 1, 1, 0, 0, 0, 0, 0, 1, 0, 0, 1, 1, 1, 0, 0, 1, 1, 1, 0]\n",
      "Preference length:  34\n"
     ]
    }
   ],
   "source": [
    "# preference list, labeled by myself\n",
    "# pref_1 = [1, 1, 1, 0, 0, 1, 0, 0, 0, 1, 1, 0, 0, 1, 0, 0, 0, 0, 0, 1, 1, 0, 0, 0, 0, 1, 0, 0, 0 ]\n",
    "# pref_2 = [1, 1, 1, 1, 0, 0, 1, 1, 1, 1, 1, 0, 0, 1, 0, 0, 0, 0, 1, 0, 0, 1, 1, 1, 0, 0, 0]\n",
    "# pref_3 = [0, 1, 1, 1, 0, 0, 0, 0, 0, 1, 1, 1, 1, 0, 0, 0, 1, 1, 0, 1, 0, 0, 0, 1]\n",
    "# pref_4 = [0, 0, 1, 1, 0, 0, 1, 1, 1, 0, 1, 0, 0, 0, 0, 1, 0, 0, 1, 1, 0, 1, 1, 1, 0, 0, 1, 0, 1, 0, 1, 1, 1, 0, 0]\n",
    "# pref_5 = [1, 0, 1, 0, 0, 0, 1, 1, 0, 1, 0, 0, 0, 0, 1, 0, 0, 0, 0, 0, 1, 0, 0, 1, 0, 0, 1, 0, 0, 1, 0, 1, 0]\n",
    "pref_6 = []\n",
    "for i in food_list:\n",
    "    print(i)\n",
    "    preference = int(input())\n",
    "    pref_6.append(preference)\n",
    "print(pref_6)\n",
    "print('Preference length: ', len(pref_6))"
   ]
  },
  {
   "cell_type": "code",
   "execution_count": 10,
   "metadata": {},
   "outputs": [
    {
     "name": "stdout",
     "output_type": "stream",
     "text": [
      "Current US/Pacific time:  2018-09-14\n"
     ]
    }
   ],
   "source": [
    "# timezone setting\n",
    "us_pacific = timezone('US/Pacific')\n",
    "time = datetime.now(us_pacific)\n",
    "us_time = time.strftime('%Y-%m-%d')\n",
    "print('Current US/Pacific time: ', us_time)"
   ]
  },
  {
   "cell_type": "code",
   "execution_count": 11,
   "metadata": {},
   "outputs": [
    {
     "name": "stdout",
     "output_type": "stream",
     "text": [
      "Current path:  /Users/7w0r4ng3s/Desktop/menu_scraping/data/2018-09-14.csv\n"
     ]
    }
   ],
   "source": [
    "# write the food list to a csv file\n",
    "path = '/Users/7w0r4ng3s/Desktop/menu_scraping/data/{}.csv'.format(us_time)\n",
    "print('Current path: ', path)\n",
    "path_2 = '/Users/7w0r4ng3s/Desktop/menu_scraping/data/'"
   ]
  },
  {
   "cell_type": "code",
   "execution_count": 12,
   "metadata": {},
   "outputs": [
    {
     "name": "stdout",
     "output_type": "stream",
     "text": [
      "write_csv: COMPLETED\n",
      "add_column_name: COMPLETED\n"
     ]
    }
   ],
   "source": [
    "def write_data():\n",
    "    with open(path, \"w\") as output:\n",
    "        writer = csv.writer(output, lineterminator='\\n')\n",
    "        for key, val in zip(food_list, pref_6):\n",
    "            writer.writerow([key, val])\n",
    "    print('write_csv: COMPLETED')\n",
    "    # add index and column names\n",
    "    df = pd.read_csv(path, names=['food', 'pref'])\n",
    "    df.index.names = ['index']\n",
    "    df.to_csv(path)\n",
    "    print('add_column_name: COMPLETED')\n",
    "    \n",
    "write_data()"
   ]
  },
  {
   "cell_type": "code",
   "execution_count": 13,
   "metadata": {},
   "outputs": [],
   "source": [
    "# def merge_data():\n",
    "#     # TODO: Figure out a way to get rid of the unnamed: 0 column\n",
    "#     # TODO: Modify merge_data() so that new data can be append to data.csv\n",
    "#     files = [f for f in os.listdir('.') if os.path.isfile(f)]\n",
    "\n",
    "#     merged = []\n",
    "\n",
    "#     for f in files:\n",
    "#         filename, ext = os.path.splitext(f)\n",
    "#         if ext == '.csv':\n",
    "#             read = pd.read_csv(f)\n",
    "#             merged.append(read)\n",
    "\n",
    "#     result = pd.concat(merged)\n",
    "#     result.to_csv('data.csv')\n",
    "    \n",
    "# merge_data()"
   ]
  },
  {
   "cell_type": "code",
   "execution_count": 14,
   "metadata": {},
   "outputs": [],
   "source": [
    "def append_data():\n",
    "    df1 = pd.read_csv('Data.csv', index_col='index')\n",
    "    df1.index.names = ['index']\n",
    "    df2 = pd.read_csv(path, index_col='index')\n",
    "    df3 = df1.append(df2).reset_index()\n",
    "    df3 = df3.drop('index', 1).sort_values('food').reset_index().drop('index', 1)\n",
    "    df3.index.names = ['index']\n",
    "    df3.to_csv('Data.csv')\n",
    "    \n",
    "append_data()"
   ]
  },
  {
   "cell_type": "code",
   "execution_count": null,
   "metadata": {},
   "outputs": [],
   "source": []
  }
 ],
 "metadata": {
  "kernelspec": {
   "display_name": "Python 3",
   "language": "python",
   "name": "python3"
  },
  "language_info": {
   "codemirror_mode": {
    "name": "ipython",
    "version": 3
   },
   "file_extension": ".py",
   "mimetype": "text/x-python",
   "name": "python",
   "nbconvert_exporter": "python",
   "pygments_lexer": "ipython3",
   "version": "3.6.6"
  }
 },
 "nbformat": 4,
 "nbformat_minor": 2
}
