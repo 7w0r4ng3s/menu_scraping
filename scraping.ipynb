{
 "cells": [
  {
   "cell_type": "code",
   "execution_count": 4,
   "metadata": {},
   "outputs": [],
   "source": [
    "# import dependencies\n",
    "import os\n",
    "import io\n",
    "import bs4\n",
    "import requests\n",
    "from bs4 import BeautifulSoup\n",
    "from urllib.parse import urljoin\n",
    "# from selenium import webdriver\n",
    "# from lxml import html\n",
    "import csv\n",
    "from datetime import datetime\n",
    "from pytz import timezone\n",
    "import pandas as pd\n",
    "import FoodTools"
   ]
  },
  {
   "cell_type": "code",
   "execution_count": 5,
   "metadata": {},
   "outputs": [],
   "source": [
    "# url of ucsc college 9 & 10 dining hall\n",
    "url = 'https://nutrition.sa.ucsc.edu/nutframe.asp?sName=UC+Santa+Cruz+Dining&locationNum=40&locationName=Colleges+Nine+%26+Ten+Dining+Hall&naFlag=1'"
   ]
  },
  {
   "cell_type": "code",
   "execution_count": 6,
   "metadata": {},
   "outputs": [],
   "source": [
    "# scrap the menu data from the webpage\n",
    "# since the menu data is cannot be scrapped from the html file directly\n",
    "# we have to make additional requests to get the frame page contents \n",
    "with requests.Session() as session:\n",
    "    response = session.get(url)\n",
    "    soup = BeautifulSoup(response.content, 'html.parser')\n",
    "\n",
    "    for frame in soup.select(\"frameset frame\"):\n",
    "        frame_url = urljoin(url, frame[\"src\"])\n",
    "        response = session.get(frame_url)\n",
    "        frame_soup = BeautifulSoup(response.content, 'html.parser') \n",
    "        # print(frame_soup.prettify())"
   ]
  },
  {
   "cell_type": "code",
   "execution_count": 7,
   "metadata": {},
   "outputs": [],
   "source": [
    "# extract both the meal name and food name from html\n",
    "meal_name = frame_soup.find_all('div', attrs={'class': 'menusampmeals'})\n",
    "food_name = frame_soup.find_all('div', attrs={'class': 'menusamprecipes'})"
   ]
  },
  {
   "cell_type": "code",
   "execution_count": 8,
   "metadata": {},
   "outputs": [
    {
     "name": "stdout",
     "output_type": "stream",
     "text": [
      "['Breakfast', 'Lunch', 'Dinner', 'Late Night']\n",
      "Length:  4\n"
     ]
    }
   ],
   "source": [
    "# convert the name of the meal type in html form to a list form\n",
    "meal_type = [item.string for item in meal_name]\n",
    "print(meal_type)\n",
    "print('Length: ', len(meal_type))"
   ]
  },
  {
   "cell_type": "code",
   "execution_count": 9,
   "metadata": {},
   "outputs": [
    {
     "name": "stdout",
     "output_type": "stream",
     "text": [
      "['Belgian Waffles', 'Cage Free Scrambled Eggs', 'Crispy Bacon', 'Eggbeaters Scramble', 'French Toast Sticks', 'Hard-boiled Cage Free Eggs', 'Natural BridgesTofu Scramble', 'Oatmeal Gluten-Free', 'Quinoa Fruit Salad', 'Tator Tots', 'Almond Allspice Coffecake', 'Carrot Raisin Muffin', 'Morning Glory Blueberry Granola Nut Muffin', 'Vegan Peanut Granola', 'Bell Peppers', 'Cage Free Eggs', 'Cage Free Omelette Bar', 'Cheddar Cheese', 'Feta Cheese', 'Fresh Organic Spinach', 'Fresh Tomato', 'Jalapeno', 'Onions', 'Oven Roasted Turkey', 'Sliced Olived', 'Smoked Ham', 'Green Pozole', 'Tomato Bisque Soup', 'Oven Roasted Chicken Thigh', 'Spice Crusted Pork Loin', 'Sweet & Sour Tofu', 'Sweet and Sour Shrimp', 'Cheese Pizza', 'Chicken Club Pizza', 'Roasted Yams', 'Steamed Rice', 'Sauteed Seasonal Vegetable', 'Rice Krispy Treats', 'Vegan Chocolate Cup Cakes', 'Cajun Bayou Bar', 'Cajun Rice with Red Beans', 'Chicken Honey Mustard', 'Chipotle BBQ Sauce', 'Corn Cobbettes', 'Jalapeno Corn Cakes', 'Sausage Andouille', 'Sloppy Joe Sandwich', 'Sweet Potato Fries', 'Tofu Baton Rouge Stroller', 'Green Pozole', 'Tomato Bisque Soup', 'Butternut Squash with Chile Yogurt', 'Chicken Korma', 'Oven Roasted Chicken Thigh', 'Penne with Sun Dried Tomato, Spinach and Portabella', 'Cheese Pizza', 'Chicken Club Pizza', 'Organic Brown Basmati Rice', 'Sauteed Seasonal Vegetable', 'Cheese Quesadilla', 'Onion Rings', 'Ranch Chicken Sandwich with Bacon', 'Boston Cream Cake', 'Rice Krispy Treats', 'UCSC Bakery French Rolls', 'Bar Taqueria', 'Charro Beans', 'Condiments', 'Mexican Rice', 'Pork Carnitas', 'Soyrizo and Potatoes', 'Taqueria Chicken', 'Orange Glazed Pork', 'Orange Glazed Vegan Chicken', 'Oven Roasted Chicken Thigh', 'Steamed Brown Rice', 'Cheese Pizza', 'Chicken Club Pizza', 'Steak Cut Fries', 'Tavern Battered Pollock', 'Cheese Sauce', 'Condiments', 'Jalapeno', 'Nachos Bar', 'Refried Beans', 'Taqueria Chicken', 'Taqueria Ground Beef']\n",
      "Length:  87\n"
     ]
    }
   ],
   "source": [
    "# convert the food name in html form to a list form\n",
    "food_list = [item.string for item in food_name]\n",
    "print(food_list)\n",
    "print('Length: ', len(food_list))"
   ]
  },
  {
   "cell_type": "code",
   "execution_count": 10,
   "metadata": {},
   "outputs": [
    {
     "name": "stdout",
     "output_type": "stream",
     "text": [
      "['Almond Allspice Coffecake', 'Bar Taqueria', 'Belgian Waffles', 'Bell Peppers', 'Boston Cream Cake', 'Butternut Squash with Chile Yogurt', 'Cage Free Eggs', 'Cage Free Omelette Bar', 'Cage Free Scrambled Eggs', 'Cajun Bayou Bar', 'Cajun Rice with Red Beans', 'Carrot Raisin Muffin', 'Charro Beans', 'Cheddar Cheese', 'Cheese Pizza', 'Cheese Quesadilla', 'Cheese Sauce', 'Chicken Club Pizza', 'Chicken Honey Mustard', 'Chicken Korma', 'Chipotle BBQ Sauce', 'Condiments', 'Corn Cobbettes', 'Crispy Bacon', 'Eggbeaters Scramble', 'Feta Cheese', 'French Toast Sticks', 'Fresh Organic Spinach', 'Fresh Tomato', 'Green Pozole', 'Hard-boiled Cage Free Eggs', 'Jalapeno', 'Jalapeno Corn Cakes', 'Mexican Rice', 'Morning Glory Blueberry Granola Nut Muffin', 'Nachos Bar', 'Natural BridgesTofu Scramble', 'Oatmeal Gluten-Free', 'Onion Rings', 'Onions', 'Orange Glazed Pork', 'Orange Glazed Vegan Chicken', 'Organic Brown Basmati Rice', 'Oven Roasted Chicken Thigh', 'Oven Roasted Turkey', 'Penne with Sun Dried Tomato, Spinach and Portabella', 'Pork Carnitas', 'Quinoa Fruit Salad', 'Ranch Chicken Sandwich with Bacon', 'Refried Beans', 'Rice Krispy Treats', 'Roasted Yams', 'Sausage Andouille', 'Sauteed Seasonal Vegetable', 'Sliced Olived', 'Sloppy Joe Sandwich', 'Smoked Ham', 'Soyrizo and Potatoes', 'Spice Crusted Pork Loin', 'Steak Cut Fries', 'Steamed Brown Rice', 'Steamed Rice', 'Sweet & Sour Tofu', 'Sweet Potato Fries', 'Sweet and Sour Shrimp', 'Taqueria Chicken', 'Taqueria Ground Beef', 'Tator Tots', 'Tavern Battered Pollock', 'Tofu Baton Rouge Stroller', 'Tomato Bisque Soup', 'UCSC Bakery French Rolls', 'Vegan Chocolate Cup Cakes', 'Vegan Peanut Granola']\n",
      "Sorted length:  74\n"
     ]
    }
   ],
   "source": [
    "# In case of dupliate food name, the list should be converted to a set\n",
    "# sort\n",
    "food_list = sorted(list(set(food_list)))\n",
    "print(food_list)\n",
    "print('Sorted length: ', len(food_list))"
   ]
  },
  {
   "cell_type": "code",
   "execution_count": null,
   "metadata": {
    "scrolled": true
   },
   "outputs": [
    {
     "name": "stdout",
     "output_type": "stream",
     "text": [
      "Almond Allspice Coffecake\n",
      "0\n",
      "Bar Taqueria\n",
      "0\n",
      "Belgian Waffles\n",
      "1\n",
      "Bell Peppers\n",
      "0\n",
      "Boston Cream Cake\n",
      "1\n",
      "Butternut Squash with Chile Yogurt\n",
      "0\n",
      "Cage Free Eggs\n",
      "0\n",
      "Cage Free Omelette Bar\n",
      "0\n",
      "Cage Free Scrambled Eggs\n",
      "1\n",
      "Cajun Bayou Bar\n",
      "0\n",
      "Cajun Rice with Red Beans\n",
      "0\n",
      "Carrot Raisin Muffin\n",
      "0\n",
      "Charro Beans\n",
      "0\n",
      "Cheddar Cheese\n",
      "0\n",
      "Cheese Pizza\n",
      "1\n",
      "Cheese Quesadilla\n",
      "0\n",
      "Cheese Sauce\n",
      "0\n",
      "Chicken Club Pizza\n",
      "1\n",
      "Chicken Honey Mustard\n",
      "0\n",
      "Chicken Korma\n",
      "0\n",
      "Chipotle BBQ Sauce\n",
      "1\n",
      "Condiments\n",
      "0\n",
      "Corn Cobbettes\n",
      "0\n",
      "Crispy Bacon\n",
      "1\n",
      "Eggbeaters Scramble\n",
      "0\n",
      "Feta Cheese\n",
      "0\n",
      "French Toast Sticks\n",
      "1\n",
      "Fresh Organic Spinach\n",
      "0\n",
      "Fresh Tomato\n",
      "1\n",
      "Green Pozole\n",
      "0\n",
      "Hard-boiled Cage Free Eggs\n",
      "0\n",
      "Jalapeno\n",
      "0\n",
      "Jalapeno Corn Cakes\n",
      "0\n",
      "Mexican Rice\n",
      "0\n",
      "Morning Glory Blueberry Granola Nut Muffin\n",
      "0\n",
      "Nachos Bar\n",
      "0\n",
      "Natural BridgesTofu Scramble\n",
      "0\n",
      "Oatmeal Gluten-Free\n",
      "0\n",
      "Onion Rings\n",
      "1\n",
      "Onions\n",
      "0\n",
      "Orange Glazed Pork\n",
      "1\n",
      "Orange Glazed Vegan Chicken\n",
      "0\n",
      "Organic Brown Basmati Rice\n",
      "0\n",
      "Oven Roasted Chicken Thigh\n",
      "0\n",
      "Oven Roasted Turkey\n",
      "0\n",
      "Penne with Sun Dried Tomato, Spinach and Portabella\n",
      "0\n",
      "Pork Carnitas\n",
      "0\n",
      "Quinoa Fruit Salad\n",
      "0\n",
      "Ranch Chicken Sandwich with Bacon\n",
      "0\n",
      "Refried Beans\n",
      "0\n",
      "Rice Krispy Treats\n",
      "0\n",
      "Roasted Yams\n",
      "0\n",
      "Sausage Andouille\n",
      "0\n",
      "Sauteed Seasonal Vegetable\n",
      "0\n",
      "Sliced Olived\n",
      "0\n",
      "Sloppy Joe Sandwich\n",
      "0\n",
      "Smoked Ham\n",
      "1\n",
      "Soyrizo and Potatoes\n",
      "0\n",
      "Spice Crusted Pork Loin\n",
      "0\n",
      "Steak Cut Fries\n",
      "1\n",
      "Steamed Brown Rice\n",
      "1\n",
      "Steamed Rice\n",
      "1\n",
      "Sweet & Sour Tofu\n",
      "1\n",
      "Sweet Potato Fries\n",
      "0\n",
      "Sweet and Sour Shrimp\n",
      "1\n",
      "Taqueria Chicken\n",
      "1\n",
      "Taqueria Ground Beef\n",
      "1\n",
      "Tator Tots\n",
      "1\n",
      "Tavern Battered Pollock\n",
      "0\n",
      "Tofu Baton Rouge Stroller\n",
      "0\n",
      "Tomato Bisque Soup\n"
     ]
    }
   ],
   "source": [
    "# preference list, labeled by myself\n",
    "# pref_1 = [1, 1, 1, 0, 0, 1, 0, 0, 0, 1, 1, 0, 0, 1, 0, 0, 0, 0, 0, 1, 1, 0, 0, 0, 0, 1, 0, 0, 0 ]\n",
    "# pref_2 = [1, 1, 1, 1, 0, 0, 1, 1, 1, 1, 1, 0, 0, 1, 0, 0, 0, 0, 1, 0, 0, 1, 1, 1, 0, 0, 0]\n",
    "# pref_3 = [0, 1, 1, 1, 0, 0, 0, 0, 0, 1, 1, 1, 1, 0, 0, 0, 1, 1, 0, 1, 0, 0, 0, 1]\n",
    "# pref_4 = [0, 0, 1, 1, 0, 0, 1, 1, 1, 0, 1, 0, 0, 0, 0, 1, 0, 0, 1, 1, 0, 1, 1, 1, 0, 0, 1, 0, 1, 0, 1, 1, 1, 0, 0]\n",
    "# pref_5 = [1, 0, 1, 0, 0, 0, 1, 1, 0, 1, 0, 0, 0, 0, 1, 0, 0, 0, 0, 0, 1, 0, 0, 1, 0, 0, 1, 0, 0, 1, 0, 1, 0]\n",
    "pref = []\n",
    "for i in food_list:\n",
    "    print(i)\n",
    "    preference = int(input())\n",
    "    if preference != 0 and preference != 1:\n",
    "        print('Incrorrect input')\n",
    "        break\n",
    "    pref.append(preference)\n",
    "print(pref)\n",
    "print('Preference length: ', len(pref))"
   ]
  },
  {
   "cell_type": "code",
   "execution_count": 11,
   "metadata": {},
   "outputs": [
    {
     "name": "stdout",
     "output_type": "stream",
     "text": [
      "Current US/Pacific time:  2018-09-26\n"
     ]
    }
   ],
   "source": [
    "# timezone setting\n",
    "us_pacific = timezone('US/Pacific')\n",
    "time = datetime.now(us_pacific)\n",
    "us_time = time.strftime('%Y-%m-%d')\n",
    "print('Current US/Pacific time: ', us_time)"
   ]
  },
  {
   "cell_type": "code",
   "execution_count": 12,
   "metadata": {},
   "outputs": [
    {
     "name": "stdout",
     "output_type": "stream",
     "text": [
      "Current path:  /Users/7w0r4ng3s/Desktop/menu_scraping/data/2018-09-26.csv\n"
     ]
    }
   ],
   "source": [
    "# write the food list to a csv file\n",
    "path = '/Users/7w0r4ng3s/Desktop/menu_scraping/data/{}.csv'.format(us_time)\n",
    "print('Current path: ', path)\n",
    "path_2 = '/Users/7w0r4ng3s/Desktop/menu_scraping/data/'"
   ]
  },
  {
   "cell_type": "code",
   "execution_count": 13,
   "metadata": {},
   "outputs": [
    {
     "name": "stdout",
     "output_type": "stream",
     "text": [
      "write_csv: COMPLETED\n",
      "add_column_name: COMPLETED\n"
     ]
    }
   ],
   "source": [
    "def write_data():\n",
    "    with open(path, \"w\") as output:\n",
    "        writer = csv.writer(output, lineterminator='\\n')\n",
    "        for key, val in zip(food_list, pref):\n",
    "            writer.writerow([key, val])\n",
    "    print('write_csv: COMPLETED')\n",
    "    # add index and column names\n",
    "    df = pd.read_csv(path, names=['food', 'pref'])\n",
    "    df.index.names = ['index']\n",
    "    df.to_csv(path)\n",
    "    print('add_column_name: COMPLETED')\n",
    "    \n",
    "write_data()"
   ]
  },
  {
   "cell_type": "code",
   "execution_count": 14,
   "metadata": {},
   "outputs": [],
   "source": [
    "# def merge_data():\n",
    "#     # TODO: Figure out a way to get rid of the unnamed: 0 column\n",
    "#     # TODO: Modify merge_data() so that new data can be append to data.csv\n",
    "#     files = [f for f in os.listdir('.') if os.path.isfile(f)]\n",
    "\n",
    "#     merged = []\n",
    "\n",
    "#     for f in files:\n",
    "#         filename, ext = os.path.splitext(f)\n",
    "#         if ext == '.csv':\n",
    "#             read = pd.read_csv(f)\n",
    "#             merged.append(read)\n",
    "\n",
    "#     result = pd.concat(merged)\n",
    "#     result.to_csv('data.csv')\n",
    "    \n",
    "# merge_data()"
   ]
  },
  {
   "cell_type": "code",
   "execution_count": 15,
   "metadata": {},
   "outputs": [],
   "source": [
    "def append_data():\n",
    "    df1 = pd.read_csv('Data.csv', index_col='index')\n",
    "    df1.index.names = ['index']\n",
    "    df2 = pd.read_csv(path, index_col='index')\n",
    "    df3 = df1.append(df2).reset_index()\n",
    "    df3 = df3.drop('index', 1).sort_values('food').reset_index().drop('index', 1)\n",
    "    df3.index.names = ['index']\n",
    "    df3.to_csv('Data.csv')\n",
    "    \n",
    "append_data()"
   ]
  },
  {
   "cell_type": "code",
   "execution_count": 16,
   "metadata": {},
   "outputs": [
    {
     "name": "stdout",
     "output_type": "stream",
     "text": [
      "Search food: char\n",
      "Do you mean:\n",
      "1 Char Siu Sauce\n",
      "2 Char Siu Seitan\n",
      "3 Charro Beans\n",
      "4 Garlic Rainbow Chard\n",
      "\n",
      "Enter the index: 2\n",
      "--------------------------------------------------------------------------------\n",
      "Out of 1 time(s), you like [Char Siu Seitan] 1 time(s).\n",
      "--------------------------------------------------------------------------------\n"
     ]
    },
    {
     "data": {
      "text/plain": [
       "1.0"
      ]
     },
     "execution_count": 16,
     "metadata": {},
     "output_type": "execute_result"
    }
   ],
   "source": [
    "FoodTools.search()"
   ]
  },
  {
   "cell_type": "code",
   "execution_count": null,
   "metadata": {},
   "outputs": [],
   "source": []
  }
 ],
 "metadata": {
  "kernelspec": {
   "display_name": "Python 3",
   "language": "python",
   "name": "python3"
  },
  "language_info": {
   "codemirror_mode": {
    "name": "ipython",
    "version": 3
   },
   "file_extension": ".py",
   "mimetype": "text/x-python",
   "name": "python",
   "nbconvert_exporter": "python",
   "pygments_lexer": "ipython3",
   "version": "3.6.6"
  }
 },
 "nbformat": 4,
 "nbformat_minor": 2
}
