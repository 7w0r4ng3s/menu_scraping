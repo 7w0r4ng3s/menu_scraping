{
 "cells": [
  {
   "cell_type": "code",
   "execution_count": 1,
   "metadata": {},
   "outputs": [],
   "source": [
    "# import dependencies\n",
    "import os\n",
    "import io\n",
    "import bs4\n",
    "import requests\n",
    "from bs4 import BeautifulSoup\n",
    "from urllib.parse import urljoin\n",
    "# from selenium import webdriver\n",
    "# from lxml import html\n",
    "import csv\n",
    "from datetime import datetime\n",
    "from pytz import timezone\n",
    "import pandas as pd\n",
    "import FoodTools"
   ]
  },
  {
   "cell_type": "code",
   "execution_count": 2,
   "metadata": {},
   "outputs": [],
   "source": [
    "# url of ucsc college 9 & 10 dining hall\n",
    "url = 'https://nutrition.sa.ucsc.edu/nutframe.asp?sName=UC+Santa+Cruz+Dining&locationNum=40&locationName=Colleges+Nine+%26+Ten+Dining+Hall&naFlag=1'"
   ]
  },
  {
   "cell_type": "code",
   "execution_count": 3,
   "metadata": {},
   "outputs": [],
   "source": [
    "# scrap the menu data from the webpage\n",
    "# since the menu data is cannot be scrapped from the html file directly\n",
    "# we have to make additional requests to get the frame page contents \n",
    "with requests.Session() as session:\n",
    "    response = session.get(url)\n",
    "    soup = BeautifulSoup(response.content, 'html.parser')\n",
    "\n",
    "    for frame in soup.select(\"frameset frame\"):\n",
    "        frame_url = urljoin(url, frame[\"src\"])\n",
    "        response = session.get(frame_url)\n",
    "        frame_soup = BeautifulSoup(response.content, 'html.parser') \n",
    "        # print(frame_soup.prettify())"
   ]
  },
  {
   "cell_type": "code",
   "execution_count": 4,
   "metadata": {},
   "outputs": [],
   "source": [
    "# extract both the meal name and food name from html\n",
    "meal_name = frame_soup.find_all('div', attrs={'class': 'menusampmeals'})\n",
    "food_name = frame_soup.find_all('div', attrs={'class': 'menusamprecipes'})"
   ]
  },
  {
   "cell_type": "code",
   "execution_count": 5,
   "metadata": {},
   "outputs": [
    {
     "name": "stdout",
     "output_type": "stream",
     "text": [
      "['Breakfast', 'Lunch', 'Dinner']\n",
      "Length:  3\n"
     ]
    }
   ],
   "source": [
    "# convert the name of the meal type in html form to a list form\n",
    "meal_type = [item.string for item in meal_name]\n",
    "print(meal_type)\n",
    "print('Length: ', len(meal_type))"
   ]
  },
  {
   "cell_type": "code",
   "execution_count": 6,
   "metadata": {},
   "outputs": [
    {
     "name": "stdout",
     "output_type": "stream",
     "text": [
      "['Banana and Coconut Pancakes', 'Belgian Waffles', 'Cage Free Scrambled Eggs', 'Coconut Syrup', 'Hard-boiled Cage Free Eggs', 'Natural BridgesTofu Scramble', 'Oatmeal Gluten-Free', 'Sausage Patties', 'Shredded Hash Browns', 'Chocolate Muffin', 'Nutella Hazelnut Cheese Ring', 'Oatbran Apple Muffin', 'Vegan Peanut Granola', 'Bell Peppers', 'Cage Free Eggs', 'Cage Free Omelette Bar', 'Cheddar Cheese', 'Feta Cheese', 'Fresh Organic Spinach', 'Fresh Tomato', 'Jalapeno', 'Onions', 'Oven Roasted Turkey', 'Sliced Olived', 'Smoked Ham', 'N.E.Clam Chowder', 'Tuscan Vegetable Soup', 'Baked Salmon with Avocado Chimichurri', 'Black Rice, Beet and Kale Salad', 'Oven Roasted Chicken Thigh', 'Sesame Chili Ginger Beef', 'Sesame Chow Mein Noodles', 'Steamed Rice', 'Szechuan Sweet Chili Tofu', 'Cheese Pizza', 'Roasted Seasonal Vegetables', 'Mint Chip Brownie', \"Paul's Vegan Macadamia Nut Cookies\", 'BAR Wings', 'BBQ Wings', 'Condiments', 'Hawaiian Coleslaw', \"Hot 'N Spicy Wings\", 'Teriyaki Glaze Wings', 'Vegan Baked Beans', 'Vegan Tenders', 'N.E.Clam Chowder', 'Tuscan Vegetable Soup', 'California Pasta', 'Oven Roasted Chicken Thigh', 'Steamed Rice', 'Cheese Pizza', 'Roasted Seasonal Vegetables', 'Vegan Malibu Burger', 'Torta Ahogada', 'Heath Bar Almond Pie', 'UCSC Bakery French Rolls', 'Bar Indian', 'Basmati Rice Pullao', 'Condiments', 'Dal Saag', 'Masala Vegetables', 'Original Naan', 'Tandoori Chicken']\n",
      "Length:  64\n"
     ]
    }
   ],
   "source": [
    "# convert the food name in html form to a list form\n",
    "food_list = [item.string for item in food_name]\n",
    "print(food_list)\n",
    "print('Length: ', len(food_list))"
   ]
  },
  {
   "cell_type": "code",
   "execution_count": 7,
   "metadata": {},
   "outputs": [
    {
     "name": "stdout",
     "output_type": "stream",
     "text": [
      "['BAR Wings', 'BBQ Wings', 'Baked Salmon with Avocado Chimichurri', 'Banana and Coconut Pancakes', 'Bar Indian', 'Basmati Rice Pullao', 'Belgian Waffles', 'Bell Peppers', 'Black Rice, Beet and Kale Salad', 'Cage Free Eggs', 'Cage Free Omelette Bar', 'Cage Free Scrambled Eggs', 'California Pasta', 'Cheddar Cheese', 'Cheese Pizza', 'Chocolate Muffin', 'Coconut Syrup', 'Condiments', 'Dal Saag', 'Feta Cheese', 'Fresh Organic Spinach', 'Fresh Tomato', 'Hard-boiled Cage Free Eggs', 'Hawaiian Coleslaw', 'Heath Bar Almond Pie', \"Hot 'N Spicy Wings\", 'Jalapeno', 'Masala Vegetables', 'Mint Chip Brownie', 'N.E.Clam Chowder', 'Natural BridgesTofu Scramble', 'Nutella Hazelnut Cheese Ring', 'Oatbran Apple Muffin', 'Oatmeal Gluten-Free', 'Onions', 'Original Naan', 'Oven Roasted Chicken Thigh', 'Oven Roasted Turkey', \"Paul's Vegan Macadamia Nut Cookies\", 'Roasted Seasonal Vegetables', 'Sausage Patties', 'Sesame Chili Ginger Beef', 'Sesame Chow Mein Noodles', 'Shredded Hash Browns', 'Sliced Olived', 'Smoked Ham', 'Steamed Rice', 'Szechuan Sweet Chili Tofu', 'Tandoori Chicken', 'Teriyaki Glaze Wings', 'Torta Ahogada', 'Tuscan Vegetable Soup', 'UCSC Bakery French Rolls', 'Vegan Baked Beans', 'Vegan Malibu Burger', 'Vegan Peanut Granola', 'Vegan Tenders']\n",
      "Sorted length:  57\n"
     ]
    }
   ],
   "source": [
    "# In case of dupliate food name, the list should be converted to a set\n",
    "# sort\n",
    "food_list = sorted(list(set(food_list)))\n",
    "print(food_list)\n",
    "print('Sorted length: ', len(food_list))"
   ]
  },
  {
   "cell_type": "code",
   "execution_count": 8,
   "metadata": {
    "scrolled": true
   },
   "outputs": [
    {
     "name": "stdout",
     "output_type": "stream",
     "text": [
      "BAR Wings\n",
      "0\n",
      "BBQ Wings\n",
      "0\n",
      "Baked Salmon with Avocado Chimichurri\n",
      "0\n",
      "Banana and Coconut Pancakes\n",
      "1\n",
      "Bar Indian\n",
      "0\n",
      "Basmati Rice Pullao\n",
      "0\n",
      "Belgian Waffles\n",
      "0\n",
      "Bell Peppers\n",
      "0\n",
      "Black Rice, Beet and Kale Salad\n",
      "0\n",
      "Cage Free Eggs\n",
      "0\n",
      "Cage Free Omelette Bar\n",
      "0\n",
      "Cage Free Scrambled Eggs\n",
      "1\n",
      "California Pasta\n",
      "1\n",
      "Cheddar Cheese\n",
      "0\n",
      "Cheese Pizza\n",
      "1\n",
      "Chocolate Muffin\n",
      "0\n",
      "Coconut Syrup\n",
      "0\n",
      "Condiments\n",
      "0\n",
      "Dal Saag\n",
      "0\n",
      "Feta Cheese\n",
      "0\n",
      "Fresh Organic Spinach\n",
      "0\n",
      "Fresh Tomato\n",
      "0\n",
      "Hard-boiled Cage Free Eggs\n",
      "0\n",
      "Hawaiian Coleslaw\n",
      "0\n",
      "Heath Bar Almond Pie\n",
      "0\n",
      "Hot 'N Spicy Wings\n",
      "0\n",
      "Jalapeno\n",
      "0\n",
      "Masala Vegetables\n",
      "0\n",
      "Mint Chip Brownie\n",
      "0\n",
      "N.E.Clam Chowder\n",
      "0\n",
      "Natural BridgesTofu Scramble\n",
      "0\n",
      "Nutella Hazelnut Cheese Ring\n",
      "0\n",
      "Oatbran Apple Muffin\n",
      "0\n",
      "Oatmeal Gluten-Free\n",
      "0\n",
      "Onions\n",
      "0\n",
      "Original Naan\n",
      "0\n",
      "Oven Roasted Chicken Thigh\n",
      "0\n",
      "Oven Roasted Turkey\n",
      "1\n",
      "Paul's Vegan Macadamia Nut Cookies\n",
      "0\n",
      "Roasted Seasonal Vegetables\n",
      "0\n",
      "Sausage Patties\n",
      "1\n",
      "Sesame Chili Ginger Beef\n",
      "1\n",
      "Sesame Chow Mein Noodles\n",
      "1\n",
      "Shredded Hash Browns\n",
      "0\n",
      "Sliced Olived\n",
      "0\n",
      "Smoked Ham\n",
      "0\n",
      "Steamed Rice\n",
      "1\n",
      "Szechuan Sweet Chili Tofu\n",
      "1\n",
      "Tandoori Chicken\n",
      "0\n",
      "Teriyaki Glaze Wings\n",
      "0\n",
      "Torta Ahogada\n",
      "0\n",
      "Tuscan Vegetable Soup\n",
      "0\n",
      "UCSC Bakery French Rolls\n",
      "0\n",
      "Vegan Baked Beans\n",
      "0\n",
      "Vegan Malibu Burger\n",
      "0\n",
      "Vegan Peanut Granola\n",
      "0\n",
      "Vegan Tenders\n",
      "0\n",
      "[0, 0, 0, 1, 0, 0, 0, 0, 0, 0, 0, 1, 1, 0, 1, 0, 0, 0, 0, 0, 0, 0, 0, 0, 0, 0, 0, 0, 0, 0, 0, 0, 0, 0, 0, 0, 0, 1, 0, 0, 1, 1, 1, 0, 0, 0, 1, 1, 0, 0, 0, 0, 0, 0, 0, 0, 0]\n",
      "Preference length:  57\n"
     ]
    }
   ],
   "source": [
    "# preference list, labeled by myself\n",
    "# pref_1 = [1, 1, 1, 0, 0, 1, 0, 0, 0, 1, 1, 0, 0, 1, 0, 0, 0, 0, 0, 1, 1, 0, 0, 0, 0, 1, 0, 0, 0 ]\n",
    "# pref_2 = [1, 1, 1, 1, 0, 0, 1, 1, 1, 1, 1, 0, 0, 1, 0, 0, 0, 0, 1, 0, 0, 1, 1, 1, 0, 0, 0]\n",
    "# pref_3 = [0, 1, 1, 1, 0, 0, 0, 0, 0, 1, 1, 1, 1, 0, 0, 0, 1, 1, 0, 1, 0, 0, 0, 1]\n",
    "# pref_4 = [0, 0, 1, 1, 0, 0, 1, 1, 1, 0, 1, 0, 0, 0, 0, 1, 0, 0, 1, 1, 0, 1, 1, 1, 0, 0, 1, 0, 1, 0, 1, 1, 1, 0, 0]\n",
    "# pref_5 = [1, 0, 1, 0, 0, 0, 1, 1, 0, 1, 0, 0, 0, 0, 1, 0, 0, 0, 0, 0, 1, 0, 0, 1, 0, 0, 1, 0, 0, 1, 0, 1, 0]\n",
    "pref = []\n",
    "for i in food_list:\n",
    "    print(i)\n",
    "    preference = int(input())\n",
    "    if preference != 0 and preference != 1:\n",
    "        print('Incrorrect input')\n",
    "        break\n",
    "    pref.append(preference)\n",
    "print(pref)\n",
    "print('Preference length: ', len(pref))"
   ]
  },
  {
   "cell_type": "code",
   "execution_count": 9,
   "metadata": {},
   "outputs": [
    {
     "name": "stdout",
     "output_type": "stream",
     "text": [
      "Current US/Pacific time:  2018-09-21\n"
     ]
    }
   ],
   "source": [
    "# timezone setting\n",
    "us_pacific = timezone('US/Pacific')\n",
    "time = datetime.now(us_pacific)\n",
    "us_time = time.strftime('%Y-%m-%d')\n",
    "print('Current US/Pacific time: ', us_time)"
   ]
  },
  {
   "cell_type": "code",
   "execution_count": 10,
   "metadata": {},
   "outputs": [
    {
     "name": "stdout",
     "output_type": "stream",
     "text": [
      "Current path:  /Users/7w0r4ng3s/Desktop/menu_scraping/data/2018-09-21.csv\n"
     ]
    }
   ],
   "source": [
    "# write the food list to a csv file\n",
    "path = '/Users/7w0r4ng3s/Desktop/menu_scraping/data/{}.csv'.format(us_time)\n",
    "print('Current path: ', path)\n",
    "path_2 = '/Users/7w0r4ng3s/Desktop/menu_scraping/data/'"
   ]
  },
  {
   "cell_type": "code",
   "execution_count": 11,
   "metadata": {},
   "outputs": [
    {
     "name": "stdout",
     "output_type": "stream",
     "text": [
      "write_csv: COMPLETED\n",
      "add_column_name: COMPLETED\n"
     ]
    }
   ],
   "source": [
    "def write_data():\n",
    "    with open(path, \"w\") as output:\n",
    "        writer = csv.writer(output, lineterminator='\\n')\n",
    "        for key, val in zip(food_list, pref):\n",
    "            writer.writerow([key, val])\n",
    "    print('write_csv: COMPLETED')\n",
    "    # add index and column names\n",
    "    df = pd.read_csv(path, names=['food', 'pref'])\n",
    "    df.index.names = ['index']\n",
    "    df.to_csv(path)\n",
    "    print('add_column_name: COMPLETED')\n",
    "    \n",
    "write_data()"
   ]
  },
  {
   "cell_type": "code",
   "execution_count": 12,
   "metadata": {},
   "outputs": [],
   "source": [
    "# def merge_data():\n",
    "#     # TODO: Figure out a way to get rid of the unnamed: 0 column\n",
    "#     # TODO: Modify merge_data() so that new data can be append to data.csv\n",
    "#     files = [f for f in os.listdir('.') if os.path.isfile(f)]\n",
    "\n",
    "#     merged = []\n",
    "\n",
    "#     for f in files:\n",
    "#         filename, ext = os.path.splitext(f)\n",
    "#         if ext == '.csv':\n",
    "#             read = pd.read_csv(f)\n",
    "#             merged.append(read)\n",
    "\n",
    "#     result = pd.concat(merged)\n",
    "#     result.to_csv('data.csv')\n",
    "    \n",
    "# merge_data()"
   ]
  },
  {
   "cell_type": "code",
   "execution_count": 13,
   "metadata": {},
   "outputs": [],
   "source": [
    "def append_data():\n",
    "    df1 = pd.read_csv('Data.csv', index_col='index')\n",
    "    df1.index.names = ['index']\n",
    "    df2 = pd.read_csv(path, index_col='index')\n",
    "    df3 = df1.append(df2).reset_index()\n",
    "    df3 = df3.drop('index', 1).sort_values('food').reset_index().drop('index', 1)\n",
    "    df3.index.names = ['index']\n",
    "    df3.to_csv('Data.csv')\n",
    "    \n",
    "append_data()"
   ]
  },
  {
   "cell_type": "code",
   "execution_count": 18,
   "metadata": {},
   "outputs": [
    {
     "name": "stdout",
     "output_type": "stream",
     "text": [
      "Food name: chili\n",
      "Do you mean:\n",
      "1 BBQ Tofu Chili Garlic\n",
      "2 Chili con Carne\n",
      "3 Szechuan Sweet Chili Sauce\n",
      "\n",
      "Enter the index: 3\n",
      "--------------------------------------------------------------------------------\n",
      "Out of 2 time(s), you like [Szechuan Sweet Chili Sauce] 2 time(s).\n",
      "--------------------------------------------------------------------------------\n"
     ]
    },
    {
     "data": {
      "text/plain": [
       "1.0"
      ]
     },
     "execution_count": 18,
     "metadata": {},
     "output_type": "execute_result"
    }
   ],
   "source": [
    "FoodTools.search()"
   ]
  },
  {
   "cell_type": "code",
   "execution_count": null,
   "metadata": {},
   "outputs": [],
   "source": []
  }
 ],
 "metadata": {
  "kernelspec": {
   "display_name": "Python 3",
   "language": "python",
   "name": "python3"
  },
  "language_info": {
   "codemirror_mode": {
    "name": "ipython",
    "version": 3
   },
   "file_extension": ".py",
   "mimetype": "text/x-python",
   "name": "python",
   "nbconvert_exporter": "python",
   "pygments_lexer": "ipython3",
   "version": "3.6.6"
  }
 },
 "nbformat": 4,
 "nbformat_minor": 2
}
