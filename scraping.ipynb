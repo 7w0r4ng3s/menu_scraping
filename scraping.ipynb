{
 "cells": [
  {
   "cell_type": "code",
   "execution_count": 1,
   "metadata": {},
   "outputs": [],
   "source": [
    "# import dependencies\n",
    "import os\n",
    "import io\n",
    "import bs4\n",
    "import requests\n",
    "from bs4 import BeautifulSoup\n",
    "from urllib.parse import urljoin\n",
    "# from selenium import webdriver\n",
    "# from lxml import html\n",
    "import csv\n",
    "from datetime import datetime\n",
    "from pytz import timezone\n",
    "import pandas as pd\n",
    "import FoodTools"
   ]
  },
  {
   "cell_type": "code",
   "execution_count": 2,
   "metadata": {},
   "outputs": [],
   "source": [
    "# url of ucsc college 9 & 10 dining hall\n",
    "url = 'https://nutrition.sa.ucsc.edu/nutframe.asp?sName=UC+Santa+Cruz+Dining&locationNum=40&locationName=Colleges+Nine+%26+Ten+Dining+Hall&naFlag=1'"
   ]
  },
  {
   "cell_type": "code",
   "execution_count": 3,
   "metadata": {},
   "outputs": [],
   "source": [
    "# scrap the menu data from the webpage\n",
    "# since the menu data is cannot be scrapped from the html file directly\n",
    "# we have to make additional requests to get the frame page contents \n",
    "with requests.Session() as session:\n",
    "    response = session.get(url)\n",
    "    soup = BeautifulSoup(response.content, 'html.parser')\n",
    "\n",
    "    for frame in soup.select(\"frameset frame\"):\n",
    "        frame_url = urljoin(url, frame[\"src\"])\n",
    "        response = session.get(frame_url)\n",
    "        frame_soup = BeautifulSoup(response.content, 'html.parser') \n",
    "        # print(frame_soup.prettify())"
   ]
  },
  {
   "cell_type": "code",
   "execution_count": 4,
   "metadata": {},
   "outputs": [],
   "source": [
    "# extract both the meal name and food name from html\n",
    "meal_name = frame_soup.find_all('div', attrs={'class': 'menusampmeals'})\n",
    "food_name = frame_soup.find_all('div', attrs={'class': 'menusamprecipes'})"
   ]
  },
  {
   "cell_type": "code",
   "execution_count": 5,
   "metadata": {},
   "outputs": [
    {
     "name": "stdout",
     "output_type": "stream",
     "text": [
      "['Breakfast', 'Lunch', 'Dinner', 'Late Night']\n",
      "Length:  4\n"
     ]
    }
   ],
   "source": [
    "# convert the name of the meal type in html form to a list form\n",
    "meal_type = [item.string for item in meal_name]\n",
    "print(meal_type)\n",
    "print('Length: ', len(meal_type))"
   ]
  },
  {
   "cell_type": "code",
   "execution_count": 6,
   "metadata": {},
   "outputs": [
    {
     "name": "stdout",
     "output_type": "stream",
     "text": [
      "['Belgian Waffles', \"Bob's Pancakes\", 'Cage Free Scrambled Eggs', 'Cajun Roasted Red Potatoes', 'Chicken Bacon', 'Hard-boiled Cage Free Eggs', 'Oatmeal Gluten-Free', 'Soyrizo Tofu Scramble', 'Banana Fritters', 'Banana Walnut Muffin', 'Chocolate Muffin', 'Vegan Peanut Granola', 'Bell Peppers', 'Cage Free Eggs', 'Cage Free Omelette Bar', 'Cheddar Cheese', 'Feta Cheese', 'Fresh Organic Spinach', 'Fresh Tomato', 'Jalapeno', 'Onions', 'Oven Roasted Turkey', 'Sliced Olived', 'Smoked Ham', 'N.E.Clam Chowder', 'Tomato Bisque Soup', 'Island BBQ Chicken', 'Oven Roasted Chicken Thigh', 'Bombay Chicken Pizza', 'Cheese Pizza', 'Steamed Basmati Rice', 'Masala Vegetables', 'Steamed Seasonal Vegetables', 'Chocolate Buttercream Brownie', 'BAR Wings', 'BBQ Wings', 'Condiments', 'Hawaiian Coleslaw', \"Hot 'N Spicy Wings\", 'Teriyaki Glaze Wings', 'Vegan Baked Beans', 'Vegan Tenders', 'N.E.Clam Chowder', 'Tomato Bisque Soup', 'Harissa Roasted Chicken', 'Oven Roasted Chicken Thigh', 'Spam Fried Rice', 'Steamed Rice', 'Bombay Chicken Pizza', 'Cheese Pizza', 'Steamed Seasonal Vegetables', 'Condiments', 'Curly Fries', 'Potato Samosas', 'Whaler Fish Sandwich', 'Apple and Peach Galette', 'Chocolate Buttercream Brownie', 'UCSC Bakery French Rolls', 'Argentinian Roasted Chicken', 'Black Beans', 'Braised Kale with Crispy Shallots', 'Condiments', 'Peruvian Bar', 'Roasted Corn', 'Roasted Sweet Potatoes', 'Cheese Manicotti with Marinara', 'Cheese and Garlic Breadsticks', 'Oven Roasted Chicken Thigh', 'Steamed Rice', 'Cheese Pizza', 'Krinkle Cut Fries', 'Black Beans', 'Caribbean Yellow Rice', 'Carribbean Bar', 'Condiments', 'Crispy Okra', \"Cuban Banana BBQ'd Chicken\", 'Fried Plantains', 'Roasted Kale and Butternut Squash', 'Sugar and Spice Roasted Yams', 'Vegan Spicy Garbanzo Curry', 'Artichoke Pesto Turkey Burger', 'Potato Samosas']\n",
      "Length:  83\n"
     ]
    }
   ],
   "source": [
    "# convert the food name in html form to a list form\n",
    "food_list = [item.string for item in food_name]\n",
    "print(food_list)\n",
    "print('Length: ', len(food_list))"
   ]
  },
  {
   "cell_type": "code",
   "execution_count": 7,
   "metadata": {},
   "outputs": [
    {
     "name": "stdout",
     "output_type": "stream",
     "text": [
      "['Apple and Peach Galette', 'Argentinian Roasted Chicken', 'Artichoke Pesto Turkey Burger', 'BAR Wings', 'BBQ Wings', 'Banana Fritters', 'Banana Walnut Muffin', 'Belgian Waffles', 'Bell Peppers', 'Black Beans', \"Bob's Pancakes\", 'Bombay Chicken Pizza', 'Braised Kale with Crispy Shallots', 'Cage Free Eggs', 'Cage Free Omelette Bar', 'Cage Free Scrambled Eggs', 'Cajun Roasted Red Potatoes', 'Caribbean Yellow Rice', 'Carribbean Bar', 'Cheddar Cheese', 'Cheese Manicotti with Marinara', 'Cheese Pizza', 'Cheese and Garlic Breadsticks', 'Chicken Bacon', 'Chocolate Buttercream Brownie', 'Chocolate Muffin', 'Condiments', 'Crispy Okra', \"Cuban Banana BBQ'd Chicken\", 'Curly Fries', 'Feta Cheese', 'Fresh Organic Spinach', 'Fresh Tomato', 'Fried Plantains', 'Hard-boiled Cage Free Eggs', 'Harissa Roasted Chicken', 'Hawaiian Coleslaw', \"Hot 'N Spicy Wings\", 'Island BBQ Chicken', 'Jalapeno', 'Krinkle Cut Fries', 'Masala Vegetables', 'N.E.Clam Chowder', 'Oatmeal Gluten-Free', 'Onions', 'Oven Roasted Chicken Thigh', 'Oven Roasted Turkey', 'Peruvian Bar', 'Potato Samosas', 'Roasted Corn', 'Roasted Kale and Butternut Squash', 'Roasted Sweet Potatoes', 'Sliced Olived', 'Smoked Ham', 'Soyrizo Tofu Scramble', 'Spam Fried Rice', 'Steamed Basmati Rice', 'Steamed Rice', 'Steamed Seasonal Vegetables', 'Sugar and Spice Roasted Yams', 'Teriyaki Glaze Wings', 'Tomato Bisque Soup', 'UCSC Bakery French Rolls', 'Vegan Baked Beans', 'Vegan Peanut Granola', 'Vegan Spicy Garbanzo Curry', 'Vegan Tenders', 'Whaler Fish Sandwich']\n",
      "Sorted length:  68\n"
     ]
    }
   ],
   "source": [
    "# In case of dupliate food name, the list should be converted to a set\n",
    "# sort\n",
    "food_list = sorted(list(set(food_list)))\n",
    "print(food_list)\n",
    "print('Sorted length: ', len(food_list))"
   ]
  },
  {
   "cell_type": "code",
   "execution_count": 9,
   "metadata": {
    "scrolled": true
   },
   "outputs": [
    {
     "name": "stdout",
     "output_type": "stream",
     "text": [
      "Apple and Peach Galette\n",
      "0\n",
      "Argentinian Roasted Chicken\n",
      "0\n",
      "Artichoke Pesto Turkey Burger\n",
      "0\n",
      "BAR Wings\n",
      "0\n",
      "BBQ Wings\n",
      "0\n",
      "Banana Fritters\n",
      "0\n",
      "Banana Walnut Muffin\n",
      "0\n",
      "Belgian Waffles\n",
      "0\n",
      "Bell Peppers\n",
      "0\n",
      "Black Beans\n",
      "0\n",
      "Bob's Pancakes\n",
      "0\n",
      "Bombay Chicken Pizza\n",
      "1\n",
      "Braised Kale with Crispy Shallots\n",
      "0\n",
      "Cage Free Eggs\n",
      "0\n",
      "Cage Free Omelette Bar\n",
      "0\n",
      "Cage Free Scrambled Eggs\n",
      "1\n",
      "Cajun Roasted Red Potatoes\n",
      "0\n",
      "Caribbean Yellow Rice\n",
      "0\n",
      "Carribbean Bar\n",
      "0\n",
      "Cheddar Cheese\n",
      "0\n",
      "Cheese Manicotti with Marinara\n",
      "0\n",
      "Cheese Pizza\n",
      "1\n",
      "Cheese and Garlic Breadsticks\n",
      "0\n",
      "Chicken Bacon\n",
      "1\n",
      "Chocolate Buttercream Brownie\n",
      "0\n",
      "Chocolate Muffin\n",
      "0\n",
      "Condiments\n",
      "0\n",
      "Crispy Okra\n",
      "0\n",
      "Cuban Banana BBQ'd Chicken\n",
      "0\n",
      "Curly Fries\n",
      "1\n",
      "Feta Cheese\n",
      "0\n",
      "Fresh Organic Spinach\n",
      "0\n",
      "Fresh Tomato\n",
      "0\n",
      "Fried Plantains\n",
      "0\n",
      "Hard-boiled Cage Free Eggs\n",
      "0\n",
      "Harissa Roasted Chicken\n",
      "0\n",
      "Hawaiian Coleslaw\n",
      "0\n",
      "Hot 'N Spicy Wings\n",
      "0\n",
      "Island BBQ Chicken\n",
      "1\n",
      "Jalapeno\n",
      "0\n",
      "Krinkle Cut Fries\n",
      "1\n",
      "Masala Vegetables\n",
      "0\n",
      "N.E.Clam Chowder\n",
      "0\n",
      "Oatmeal Gluten-Free\n",
      "0\n",
      "Onions\n",
      "0\n",
      "Oven Roasted Chicken Thigh\n",
      "0\n",
      "Oven Roasted Turkey\n",
      "0\n",
      "Peruvian Bar\n",
      "0\n",
      "Potato Samosas\n",
      "0\n",
      "Roasted Corn\n",
      "0\n",
      "Roasted Kale and Butternut Squash\n",
      "0\n",
      "Roasted Sweet Potatoes\n",
      "0\n",
      "Sliced Olived\n",
      "0\n",
      "Smoked Ham\n",
      "1\n",
      "Soyrizo Tofu Scramble\n",
      "1\n",
      "Spam Fried Rice\n",
      "1\n",
      "Steamed Basmati Rice\n",
      "0\n",
      "Steamed Rice\n",
      "1\n",
      "Steamed Seasonal Vegetables\n",
      "0\n",
      "Sugar and Spice Roasted Yams\n",
      "0\n",
      "Teriyaki Glaze Wings\n",
      "0\n",
      "Tomato Bisque Soup\n",
      "0\n",
      "UCSC Bakery French Rolls\n",
      "0\n",
      "Vegan Baked Beans\n",
      "0\n",
      "Vegan Peanut Granola\n",
      "0\n",
      "Vegan Spicy Garbanzo Curry\n",
      "0\n",
      "Vegan Tenders\n",
      "0\n",
      "Whaler Fish Sandwich\n",
      "0\n",
      "[0, 0, 0, 0, 0, 0, 0, 0, 0, 0, 0, 1, 0, 0, 0, 1, 0, 0, 0, 0, 0, 1, 0, 1, 0, 0, 0, 0, 0, 1, 0, 0, 0, 0, 0, 0, 0, 0, 1, 0, 1, 0, 0, 0, 0, 0, 0, 0, 0, 0, 0, 0, 0, 1, 1, 1, 0, 1, 0, 0, 0, 0, 0, 0, 0, 0, 0, 0]\n",
      "Preference length:  68\n"
     ]
    }
   ],
   "source": [
    "# preference list, labeled by myself\n",
    "# pref_1 = [1, 1, 1, 0, 0, 1, 0, 0, 0, 1, 1, 0, 0, 1, 0, 0, 0, 0, 0, 1, 1, 0, 0, 0, 0, 1, 0, 0, 0 ]\n",
    "# pref_2 = [1, 1, 1, 1, 0, 0, 1, 1, 1, 1, 1, 0, 0, 1, 0, 0, 0, 0, 1, 0, 0, 1, 1, 1, 0, 0, 0]\n",
    "# pref_3 = [0, 1, 1, 1, 0, 0, 0, 0, 0, 1, 1, 1, 1, 0, 0, 0, 1, 1, 0, 1, 0, 0, 0, 1]\n",
    "# pref_4 = [0, 0, 1, 1, 0, 0, 1, 1, 1, 0, 1, 0, 0, 0, 0, 1, 0, 0, 1, 1, 0, 1, 1, 1, 0, 0, 1, 0, 1, 0, 1, 1, 1, 0, 0]\n",
    "# pref_5 = [1, 0, 1, 0, 0, 0, 1, 1, 0, 1, 0, 0, 0, 0, 1, 0, 0, 0, 0, 0, 1, 0, 0, 1, 0, 0, 1, 0, 0, 1, 0, 1, 0]\n",
    "pref = []\n",
    "for i in food_list:\n",
    "    print(i)\n",
    "    preference = int(input())\n",
    "    if preference != 0 and preference != 1:\n",
    "        print('Incrorrect input')\n",
    "        break\n",
    "    pref.append(preference)\n",
    "print(pref)\n",
    "print('Preference length: ', len(pref))"
   ]
  },
  {
   "cell_type": "code",
   "execution_count": 10,
   "metadata": {},
   "outputs": [
    {
     "name": "stdout",
     "output_type": "stream",
     "text": [
      "Current US/Pacific time:  2018-09-28\n"
     ]
    }
   ],
   "source": [
    "# timezone setting\n",
    "us_pacific = timezone('US/Pacific')\n",
    "time = datetime.now(us_pacific)\n",
    "us_time = time.strftime('%Y-%m-%d')\n",
    "print('Current US/Pacific time: ', us_time)"
   ]
  },
  {
   "cell_type": "code",
   "execution_count": 11,
   "metadata": {},
   "outputs": [
    {
     "name": "stdout",
     "output_type": "stream",
     "text": [
      "Current path:  /Users/7w0r4ng3s/Documents/menu_scraping/data/2018-09-28.csv\n"
     ]
    }
   ],
   "source": [
    "# write the food list to a csv file\n",
    "path = '/Users/7w0r4ng3s/Documents/menu_scraping/data/{}.csv'.format(us_time)\n",
    "print('Current path: ', path)\n",
    "path_2 = '/Users/7w0r4ng3s/Documents/menu_scraping/data/'"
   ]
  },
  {
   "cell_type": "code",
   "execution_count": 12,
   "metadata": {},
   "outputs": [
    {
     "name": "stdout",
     "output_type": "stream",
     "text": [
      "write_csv: COMPLETED\n",
      "add_column_name: COMPLETED\n"
     ]
    }
   ],
   "source": [
    "def write_data():\n",
    "    with open(path, \"w\") as output:\n",
    "        writer = csv.writer(output, lineterminator='\\n')\n",
    "        for key, val in zip(food_list, pref):\n",
    "            writer.writerow([key, val])\n",
    "    print('write_csv: COMPLETED')\n",
    "    # add index and column names\n",
    "    df = pd.read_csv(path, names=['food', 'pref'])\n",
    "    df.index.names = ['index']\n",
    "    df.to_csv(path)\n",
    "    print('add_column_name: COMPLETED')\n",
    "    \n",
    "write_data()"
   ]
  },
  {
   "cell_type": "code",
   "execution_count": 13,
   "metadata": {},
   "outputs": [],
   "source": [
    "# def merge_data():\n",
    "#     # TODO: Figure out a way to get rid of the unnamed: 0 column\n",
    "#     # TODO: Modify merge_data() so that new data can be append to data.csv\n",
    "#     files = [f for f in os.listdir('.') if os.path.isfile(f)]\n",
    "\n",
    "#     merged = []\n",
    "\n",
    "#     for f in files:\n",
    "#         filename, ext = os.path.splitext(f)\n",
    "#         if ext == '.csv':\n",
    "#             read = pd.read_csv(f)\n",
    "#             merged.append(read)\n",
    "\n",
    "#     result = pd.concat(merged)\n",
    "#     result.to_csv('data.csv')\n",
    "    \n",
    "# merge_data()"
   ]
  },
  {
   "cell_type": "code",
   "execution_count": 14,
   "metadata": {},
   "outputs": [],
   "source": [
    "def append_data():\n",
    "    df1 = pd.read_csv('Data.csv', index_col='index')\n",
    "    df1.index.names = ['index']\n",
    "    df2 = pd.read_csv(path, index_col='index')\n",
    "    df3 = df1.append(df2).reset_index()\n",
    "    df3 = df3.drop('index', 1).sort_values('food').reset_index().drop('index', 1)\n",
    "    df3.index.names = ['index']\n",
    "    df3.to_csv('Data.csv')\n",
    "    \n",
    "append_data()"
   ]
  },
  {
   "cell_type": "code",
   "execution_count": 16,
   "metadata": {},
   "outputs": [
    {
     "name": "stdout",
     "output_type": "stream",
     "text": [
      "Search food: char\n",
      "Do you mean:\n",
      "1 Char Siu Sauce\n",
      "2 Char Siu Seitan\n",
      "3 Charro Beans\n",
      "4 Garlic Rainbow Chard\n",
      "\n",
      "Enter the index: 2\n",
      "--------------------------------------------------------------------------------\n",
      "Out of 1 time(s), you like [Char Siu Seitan] 1 time(s).\n",
      "--------------------------------------------------------------------------------\n"
     ]
    },
    {
     "data": {
      "text/plain": [
       "1.0"
      ]
     },
     "execution_count": 16,
     "metadata": {},
     "output_type": "execute_result"
    }
   ],
   "source": [
    "FoodTools.search()"
   ]
  },
  {
   "cell_type": "code",
   "execution_count": null,
   "metadata": {},
   "outputs": [],
   "source": []
  }
 ],
 "metadata": {
  "kernelspec": {
   "display_name": "Python 3",
   "language": "python",
   "name": "python3"
  },
  "language_info": {
   "codemirror_mode": {
    "name": "ipython",
    "version": 3
   },
   "file_extension": ".py",
   "mimetype": "text/x-python",
   "name": "python",
   "nbconvert_exporter": "python",
   "pygments_lexer": "ipython3",
   "version": "3.6.6"
  }
 },
 "nbformat": 4,
 "nbformat_minor": 2
}
