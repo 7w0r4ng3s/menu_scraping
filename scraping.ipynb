{
 "cells": [
  {
   "cell_type": "code",
   "execution_count": 1,
   "metadata": {},
   "outputs": [],
   "source": [
    "# import dependencies\n",
    "import os\n",
    "import io\n",
    "import bs4\n",
    "import requests\n",
    "from bs4 import BeautifulSoup\n",
    "from urllib.parse import urljoin\n",
    "# from selenium import webdriver\n",
    "# from lxml import html\n",
    "import csv\n",
    "from datetime import datetime\n",
    "from pytz import timezone\n",
    "import pandas as pd\n",
    "import FoodTools"
   ]
  },
  {
   "cell_type": "code",
   "execution_count": 2,
   "metadata": {},
   "outputs": [],
   "source": [
    "# url of ucsc college 9 & 10 dining hall\n",
    "url = 'https://nutrition.sa.ucsc.edu/nutframe.asp?sName=UC+Santa+Cruz+Dining&locationNum=40&locationName=Colleges+Nine+%26+Ten+Dining+Hall&naFlag=1'"
   ]
  },
  {
   "cell_type": "code",
   "execution_count": 4,
   "metadata": {},
   "outputs": [],
   "source": [
    "# scrap the menu data from the webpage\n",
    "# since the menu data is cannot be scrapped from the html file directly\n",
    "# we have to make additional requests to get the frame page contents \n",
    "with requests.Session() as session:\n",
    "    response = session.get(url)\n",
    "    soup = BeautifulSoup(response.content, 'html.parser')\n",
    "\n",
    "    for frame in soup.select(\"frameset frame\"):\n",
    "        frame_url = urljoin(url, frame[\"src\"])\n",
    "        response = session.get(frame_url)\n",
    "        frame_soup = BeautifulSoup(response.content, 'html.parser') \n",
    "        # print(frame_soup.prettify())"
   ]
  },
  {
   "cell_type": "code",
   "execution_count": 5,
   "metadata": {},
   "outputs": [],
   "source": [
    "# extract both the meal name and food name from html\n",
    "meal_name = frame_soup.find_all('div', attrs={'class': 'menusampmeals'})\n",
    "food_name = frame_soup.find_all('div', attrs={'class': 'menusamprecipes'})"
   ]
  },
  {
   "cell_type": "code",
   "execution_count": 6,
   "metadata": {},
   "outputs": [
    {
     "name": "stdout",
     "output_type": "stream",
     "text": [
      "['Breakfast', 'Lunch', 'Dinner']\n",
      "Length:  3\n"
     ]
    }
   ],
   "source": [
    "# convert the name of the meal type in html form to a list form\n",
    "meal_type = [item.string for item in meal_name]\n",
    "print(meal_type)\n",
    "print('Length: ', len(meal_type))"
   ]
  },
  {
   "cell_type": "code",
   "execution_count": 7,
   "metadata": {},
   "outputs": [
    {
     "name": "stdout",
     "output_type": "stream",
     "text": [
      "['Avocado Toast with Spicy Fried Egg', 'Belgian Waffles', \"Bob's Pancakes\", 'Cage Free Scrambled Eggs', 'Hard-boiled Cage Free Eggs', 'Hash Brown Patty', 'Mexican Chorizo Sausage', 'Oatmeal Gluten-Free', 'Soyrizo Tofu Scramble', 'Lemon Bread', 'Lemon Raspberry Muffin', 'Maple Pecan Muffin', 'Vegan Peanut Granola', 'Bell Peppers', 'Cage Free Eggs', 'Cage Free Omelette Bar', 'Cheddar Cheese', 'Feta Cheese', 'Fresh Organic Spinach', 'Fresh Tomato', 'Jalapeno', 'Onions', 'Oven Roasted Turkey', 'Sliced Olived', 'Smoked Ham', 'Home Style Ground Beef Chili', 'Tuscan Vegetable Soup', 'Oven Roasted Chicken Thigh', 'Spicy Beef Stew From the Bayou', 'Steamed Rice', 'Cheese Pizza', 'Pizza with Gochujang BBQ Chicken', 'Sauteed Seasonal Vegetable', 'Bakery Coconut Walnut Magic Bar', 'UCSC Bakery French Rolls', 'Hawaiian Bar', 'Hawaiian Macaroni Salad', 'Pork Hawaiian Braised', 'Roasted Yams', 'Spam Fried Rice', 'Teriyaki Chicken Shoyu', 'Teriyaki Tofu', 'Home Style Ground Beef Chili', 'Tuscan Vegetable Soup', 'Orange Glazed Pork', 'Orange Glazed Vegan Chicken', 'Oven Roasted Chicken Thigh', 'Cheese Pizza', 'Pizza with Gochujang BBQ Chicken', 'Steamed Rice', 'Sauteed Seasonal Vegetable', 'Hot Dog Chili Cheese', 'Roasted Vegetable Quesadilla', 'Steak Cut Fries', 'Bakery Coconut Walnut Magic Bar', 'UCSC Bakery French Rolls', 'Yogurt Cheesecake', 'Armanino Alfredo Sauce', 'Bar Pasta', 'Cheese Ravioli', 'Cheesy Garlic Bread Sticks', 'Condiments', 'Marinara Sauce', 'Penne']\n",
      "Length:  64\n"
     ]
    }
   ],
   "source": [
    "# convert the food name in html form to a list form\n",
    "food_list = [item.string for item in food_name]\n",
    "print(food_list)\n",
    "print('Length: ', len(food_list))"
   ]
  },
  {
   "cell_type": "code",
   "execution_count": 8,
   "metadata": {},
   "outputs": [
    {
     "name": "stdout",
     "output_type": "stream",
     "text": [
      "['Armanino Alfredo Sauce', 'Avocado Toast with Spicy Fried Egg', 'Bakery Coconut Walnut Magic Bar', 'Bar Pasta', 'Belgian Waffles', 'Bell Peppers', \"Bob's Pancakes\", 'Cage Free Eggs', 'Cage Free Omelette Bar', 'Cage Free Scrambled Eggs', 'Cheddar Cheese', 'Cheese Pizza', 'Cheese Ravioli', 'Cheesy Garlic Bread Sticks', 'Condiments', 'Feta Cheese', 'Fresh Organic Spinach', 'Fresh Tomato', 'Hard-boiled Cage Free Eggs', 'Hash Brown Patty', 'Hawaiian Bar', 'Hawaiian Macaroni Salad', 'Home Style Ground Beef Chili', 'Hot Dog Chili Cheese', 'Jalapeno', 'Lemon Bread', 'Lemon Raspberry Muffin', 'Maple Pecan Muffin', 'Marinara Sauce', 'Mexican Chorizo Sausage', 'Oatmeal Gluten-Free', 'Onions', 'Orange Glazed Pork', 'Orange Glazed Vegan Chicken', 'Oven Roasted Chicken Thigh', 'Oven Roasted Turkey', 'Penne', 'Pizza with Gochujang BBQ Chicken', 'Pork Hawaiian Braised', 'Roasted Vegetable Quesadilla', 'Roasted Yams', 'Sauteed Seasonal Vegetable', 'Sliced Olived', 'Smoked Ham', 'Soyrizo Tofu Scramble', 'Spam Fried Rice', 'Spicy Beef Stew From the Bayou', 'Steak Cut Fries', 'Steamed Rice', 'Teriyaki Chicken Shoyu', 'Teriyaki Tofu', 'Tuscan Vegetable Soup', 'UCSC Bakery French Rolls', 'Vegan Peanut Granola', 'Yogurt Cheesecake']\n",
      "Sorted length:  55\n"
     ]
    }
   ],
   "source": [
    "# In case of dupliate food name, the list should be converted to a set\n",
    "# sort\n",
    "food_list = sorted(list(set(food_list)))\n",
    "print(food_list)\n",
    "print('Sorted length: ', len(food_list))"
   ]
  },
  {
   "cell_type": "code",
   "execution_count": 9,
   "metadata": {
    "scrolled": true
   },
   "outputs": [
    {
     "name": "stdout",
     "output_type": "stream",
     "text": [
      "Armanino Alfredo Sauce\n",
      "0\n",
      "Avocado Toast with Spicy Fried Egg\n",
      "0\n",
      "Bakery Coconut Walnut Magic Bar\n",
      "0\n",
      "Bar Pasta\n",
      "1\n",
      "Belgian Waffles\n",
      "0\n",
      "Bell Peppers\n",
      "0\n",
      "Bob's Pancakes\n",
      "1\n",
      "Cage Free Eggs\n",
      "0\n",
      "Cage Free Omelette Bar\n",
      "0\n",
      "Cage Free Scrambled Eggs\n",
      "1\n",
      "Cheddar Cheese\n",
      "0\n",
      "Cheese Pizza\n",
      "1\n",
      "Cheese Ravioli\n",
      "0\n",
      "Cheesy Garlic Bread Sticks\n",
      "0\n",
      "Condiments\n",
      "0\n",
      "Feta Cheese\n",
      "0\n",
      "Fresh Organic Spinach\n",
      "0\n",
      "Fresh Tomato\n",
      "0\n",
      "Hard-boiled Cage Free Eggs\n",
      "0\n",
      "Hash Brown Patty\n",
      "1\n",
      "Hawaiian Bar\n",
      "0\n",
      "Hawaiian Macaroni Salad\n",
      "0\n",
      "Home Style Ground Beef Chili\n",
      "1\n",
      "Hot Dog Chili Cheese\n",
      "0\n",
      "Jalapeno\n",
      "0\n",
      "Lemon Bread\n",
      "0\n",
      "Lemon Raspberry Muffin\n",
      "0\n",
      "Maple Pecan Muffin\n",
      "0\n",
      "Marinara Sauce\n",
      "1\n",
      "Mexican Chorizo Sausage\n",
      "0\n",
      "Oatmeal Gluten-Free\n",
      "0\n",
      "Onions\n",
      "0\n",
      "Orange Glazed Pork\n",
      "1\n",
      "Orange Glazed Vegan Chicken\n",
      "0\n",
      "Oven Roasted Chicken Thigh\n",
      "0\n",
      "Oven Roasted Turkey\n",
      "0\n",
      "Penne\n",
      "1\n",
      "Pizza with Gochujang BBQ Chicken\n",
      "1\n",
      "Pork Hawaiian Braised\n",
      "0\n",
      "Roasted Vegetable Quesadilla\n",
      "0\n",
      "Roasted Yams\n",
      "0\n",
      "Sauteed Seasonal Vegetable\n",
      "0\n",
      "Sliced Olived\n",
      "0\n",
      "Smoked Ham\n",
      "0\n",
      "Soyrizo Tofu Scramble\n",
      "0\n",
      "Spam Fried Rice\n",
      "1\n",
      "Spicy Beef Stew From the Bayou\n",
      "1\n",
      "Steak Cut Fries\n",
      "1\n",
      "Steamed Rice\n",
      "1\n",
      "Teriyaki Chicken Shoyu\n",
      "1\n",
      "Teriyaki Tofu\n",
      "1\n",
      "Tuscan Vegetable Soup\n",
      "0\n",
      "UCSC Bakery French Rolls\n",
      "0\n",
      "Vegan Peanut Granola\n",
      "0\n",
      "Yogurt Cheesecake\n",
      "1\n",
      "[0, 0, 0, 1, 0, 0, 1, 0, 0, 1, 0, 1, 0, 0, 0, 0, 0, 0, 0, 1, 0, 0, 1, 0, 0, 0, 0, 0, 1, 0, 0, 0, 1, 0, 0, 0, 1, 1, 0, 0, 0, 0, 0, 0, 0, 1, 1, 1, 1, 1, 1, 0, 0, 0, 1]\n",
      "Preference length:  55\n"
     ]
    }
   ],
   "source": [
    "# preference list, labeled by myself\n",
    "# pref_1 = [1, 1, 1, 0, 0, 1, 0, 0, 0, 1, 1, 0, 0, 1, 0, 0, 0, 0, 0, 1, 1, 0, 0, 0, 0, 1, 0, 0, 0 ]\n",
    "# pref_2 = [1, 1, 1, 1, 0, 0, 1, 1, 1, 1, 1, 0, 0, 1, 0, 0, 0, 0, 1, 0, 0, 1, 1, 1, 0, 0, 0]\n",
    "# pref_3 = [0, 1, 1, 1, 0, 0, 0, 0, 0, 1, 1, 1, 1, 0, 0, 0, 1, 1, 0, 1, 0, 0, 0, 1]\n",
    "# pref_4 = [0, 0, 1, 1, 0, 0, 1, 1, 1, 0, 1, 0, 0, 0, 0, 1, 0, 0, 1, 1, 0, 1, 1, 1, 0, 0, 1, 0, 1, 0, 1, 1, 1, 0, 0]\n",
    "# pref_5 = [1, 0, 1, 0, 0, 0, 1, 1, 0, 1, 0, 0, 0, 0, 1, 0, 0, 0, 0, 0, 1, 0, 0, 1, 0, 0, 1, 0, 0, 1, 0, 1, 0]\n",
    "pref = []\n",
    "for i in food_list:\n",
    "    print(i)\n",
    "    preference = int(input())\n",
    "    if preference != 0 and preference != 1:\n",
    "        print('Incrorrect input')\n",
    "        break\n",
    "    pref.append(preference)\n",
    "print(pref)\n",
    "print('Preference length: ', len(pref))"
   ]
  },
  {
   "cell_type": "code",
   "execution_count": 10,
   "metadata": {},
   "outputs": [
    {
     "name": "stdout",
     "output_type": "stream",
     "text": [
      "Current US/Pacific time:  2018-09-24\n"
     ]
    }
   ],
   "source": [
    "# timezone setting\n",
    "us_pacific = timezone('US/Pacific')\n",
    "time = datetime.now(us_pacific)\n",
    "us_time = time.strftime('%Y-%m-%d')\n",
    "print('Current US/Pacific time: ', us_time)"
   ]
  },
  {
   "cell_type": "code",
   "execution_count": 11,
   "metadata": {},
   "outputs": [
    {
     "name": "stdout",
     "output_type": "stream",
     "text": [
      "Current path:  /Users/7w0r4ng3s/Desktop/menu_scraping/data/2018-09-24.csv\n"
     ]
    }
   ],
   "source": [
    "# write the food list to a csv file\n",
    "path = '/Users/7w0r4ng3s/Desktop/menu_scraping/data/{}.csv'.format(us_time)\n",
    "print('Current path: ', path)\n",
    "path_2 = '/Users/7w0r4ng3s/Desktop/menu_scraping/data/'"
   ]
  },
  {
   "cell_type": "code",
   "execution_count": 12,
   "metadata": {},
   "outputs": [
    {
     "name": "stdout",
     "output_type": "stream",
     "text": [
      "write_csv: COMPLETED\n",
      "add_column_name: COMPLETED\n"
     ]
    }
   ],
   "source": [
    "def write_data():\n",
    "    with open(path, \"w\") as output:\n",
    "        writer = csv.writer(output, lineterminator='\\n')\n",
    "        for key, val in zip(food_list, pref):\n",
    "            writer.writerow([key, val])\n",
    "    print('write_csv: COMPLETED')\n",
    "    # add index and column names\n",
    "    df = pd.read_csv(path, names=['food', 'pref'])\n",
    "    df.index.names = ['index']\n",
    "    df.to_csv(path)\n",
    "    print('add_column_name: COMPLETED')\n",
    "    \n",
    "write_data()"
   ]
  },
  {
   "cell_type": "code",
   "execution_count": 13,
   "metadata": {},
   "outputs": [],
   "source": [
    "# def merge_data():\n",
    "#     # TODO: Figure out a way to get rid of the unnamed: 0 column\n",
    "#     # TODO: Modify merge_data() so that new data can be append to data.csv\n",
    "#     files = [f for f in os.listdir('.') if os.path.isfile(f)]\n",
    "\n",
    "#     merged = []\n",
    "\n",
    "#     for f in files:\n",
    "#         filename, ext = os.path.splitext(f)\n",
    "#         if ext == '.csv':\n",
    "#             read = pd.read_csv(f)\n",
    "#             merged.append(read)\n",
    "\n",
    "#     result = pd.concat(merged)\n",
    "#     result.to_csv('data.csv')\n",
    "    \n",
    "# merge_data()"
   ]
  },
  {
   "cell_type": "code",
   "execution_count": 14,
   "metadata": {},
   "outputs": [],
   "source": [
    "def append_data():\n",
    "    df1 = pd.read_csv('Data.csv', index_col='index')\n",
    "    df1.index.names = ['index']\n",
    "    df2 = pd.read_csv(path, index_col='index')\n",
    "    df3 = df1.append(df2).reset_index()\n",
    "    df3 = df3.drop('index', 1).sort_values('food').reset_index().drop('index', 1)\n",
    "    df3.index.names = ['index']\n",
    "    df3.to_csv('Data.csv')\n",
    "    \n",
    "append_data()"
   ]
  },
  {
   "cell_type": "code",
   "execution_count": 16,
   "metadata": {},
   "outputs": [
    {
     "name": "stdout",
     "output_type": "stream",
     "text": [
      "Food name: thigh\n",
      "Do you mean:\n",
      "1 Oven Roasted Allergen Free Chicken Thigh\n",
      "2 Oven Roasted Chicken Thigh\n",
      "\n",
      "Enter the index: 1\n",
      "--------------------------------------------------------------------------------\n",
      "Out of 9 time(s), you like [Oven Roasted Allergen Free Chicken Thigh] 3 time(s).\n",
      "--------------------------------------------------------------------------------\n"
     ]
    },
    {
     "data": {
      "text/plain": [
       "0.3333333333333333"
      ]
     },
     "execution_count": 16,
     "metadata": {},
     "output_type": "execute_result"
    }
   ],
   "source": [
    "FoodTools.search()"
   ]
  },
  {
   "cell_type": "code",
   "execution_count": null,
   "metadata": {},
   "outputs": [],
   "source": []
  }
 ],
 "metadata": {
  "kernelspec": {
   "display_name": "Python 3",
   "language": "python",
   "name": "python3"
  },
  "language_info": {
   "codemirror_mode": {
    "name": "ipython",
    "version": 3
   },
   "file_extension": ".py",
   "mimetype": "text/x-python",
   "name": "python",
   "nbconvert_exporter": "python",
   "pygments_lexer": "ipython3",
   "version": "3.6.6"
  }
 },
 "nbformat": 4,
 "nbformat_minor": 2
}
