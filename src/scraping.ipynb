{
 "cells": [
  {
   "cell_type": "code",
   "execution_count": 22,
   "metadata": {},
   "outputs": [],
   "source": [
    "# import dependencies\n",
    "import os\n",
    "import io\n",
    "import bs4\n",
    "import requests\n",
    "from bs4 import BeautifulSoup\n",
    "from urllib.parse import urljoin\n",
    "# from selenium import webdriver\n",
    "# from lxml import html\n",
    "import csv\n",
    "from datetime import datetime\n",
    "from pytz import timezone\n",
    "import pandas as pd\n",
    "import FoodTools"
   ]
  },
  {
   "cell_type": "code",
   "execution_count": 2,
   "metadata": {},
   "outputs": [],
   "source": [
    "# url of ucsc college 9 & 10 dining hall\n",
    "url = 'https://nutrition.sa.ucsc.edu/nutframe.asp?sName=UC+Santa+Cruz+Dining&locationNum=40&locationName=Colleges+Nine+%26+Ten+Dining+Hall&naFlag=1'"
   ]
  },
  {
   "cell_type": "code",
   "execution_count": 3,
   "metadata": {},
   "outputs": [],
   "source": [
    "# scrap the menu data from the webpage\n",
    "# since the menu data is cannot be scrapped from the html file directly\n",
    "# we have to make additional requests to get the frame page contents \n",
    "with requests.Session() as session:\n",
    "    response = session.get(url)\n",
    "    soup = BeautifulSoup(response.content, 'html.parser')\n",
    "\n",
    "    for frame in soup.select(\"frameset frame\"):\n",
    "        frame_url = urljoin(url, frame[\"src\"])\n",
    "        response = session.get(frame_url)\n",
    "        frame_soup = BeautifulSoup(response.content, 'html.parser') \n",
    "        # print(frame_soup.prettify())"
   ]
  },
  {
   "cell_type": "code",
   "execution_count": 4,
   "metadata": {},
   "outputs": [],
   "source": [
    "# extract both the meal name and food name from html\n",
    "meal_name = frame_soup.find_all('div', attrs={'class': 'menusampmeals'})\n",
    "food_name = frame_soup.find_all('div', attrs={'class': 'menusamprecipes'})"
   ]
  },
  {
   "cell_type": "code",
   "execution_count": 5,
   "metadata": {},
   "outputs": [
    {
     "name": "stdout",
     "output_type": "stream",
     "text": [
      "['Breakfast', 'Lunch', 'Dinner', 'Late Night']\n",
      "Length:  4\n"
     ]
    }
   ],
   "source": [
    "# convert the name of the meal type in html form to a list form\n",
    "meal_type = [item.string for item in meal_name]\n",
    "print(meal_type)\n",
    "print('Length: ', len(meal_type))"
   ]
  },
  {
   "cell_type": "code",
   "execution_count": 6,
   "metadata": {},
   "outputs": [
    {
     "name": "stdout",
     "output_type": "stream",
     "text": [
      "['Belgian Waffles', \"Bob's Pancakes\", 'Cage Free Scrambled Eggs', 'Cinnamon Roasted Butternut Squash', 'Ham Steaks', 'Hard-boiled Cage Free Eggs', 'Oatmeal Gluten-Free', 'Soyrizo Tofu Scramble', 'Tator Tots', 'Apricot Crunch Muffin', 'Lemon Coffeecake', 'Pumpkin Spice Muffin', 'Vegan Peanut Granola', 'Bell Peppers', 'Cage Free Eggs', 'Cage Free Omelette Bar', 'Cheddar Cheese', 'Feta Cheese', 'Fresh Organic Spinach', 'Fresh Tomato', 'Jalapeno', 'Onions', 'Oven Roasted Turkey', 'Sliced Olived', 'Smoked Ham', 'Chicken and Dumpling Soup', 'Fire Roasted Corn Soup', 'Greek Chicken Saute', 'Greek Vegan Saute', 'Oven Roasted Chicken Thigh', 'Spicy Garbanzo Curry', 'Steamed Rice', 'Cheese Enchilada Pizza', 'Cheese Pizza', 'Steamed Basmati Rice', 'Sauteed Seasonal Vegetable', 'UCSC Bakery French Rolls', 'Vegan Chocolate Cup Cakes', 'BAR Wings', 'BBQ Wings', 'Condiments', \"Hot 'N Spicy Wings\", 'Teriyaki Glaze Wings', 'Vegan Baked Beans', 'Vegan Tenders', 'Vietnamese Pork Banh Mi Sandwich', 'Chicken and Dumpling Soup', 'Fire Roasted Corn Soup', 'Cuban Chicken and Chorizo', 'Eggplant Curry', 'Oven Roasted Chicken Thigh', 'Steamed Rice', 'Thai Red Curry Beef', 'Cheese Enchilada Pizza', 'Cheese Pizza', 'Black Beans', 'Sticky Rice', 'Sauteed Seasonal Vegetable', 'French Fries', 'Pesto Chicken Sandwich', 'Vegan Taquito', 'Peanut Apricot Crunch', 'UCSC Bakery French Rolls', 'Vegan Chocolate Cup Cakes', 'Baked Sweet Potato', 'Chicken Tenders', 'Mashed Potato Bowl Bar', 'Roasted Corn', 'Vegan Garlic Mashed Potatoes', 'Vegan Mushroom Gravy', 'BBQ Pork Ribs', 'Crispy Beef and Bean Tostada', 'Crispy Tostada', 'Oven Roasted Chicken Thigh', 'Cheese Enchilada Pizza', 'Cheese Pizza', 'Oven Roasted Herbed Potatoes', 'Steamed Rice', 'Sauteed Seasonal Vegetable', 'Halal Chicken Patty Sandwich', 'Atomic Cheese Sauce', 'BAR Boardwalk Burgers', 'Bacon', 'Bread Bun', 'Burger Bar #1 Condiments', 'Burger Beef', 'Burger Turkey', 'Chili con Carne', 'Onion Rings', 'Sauteed Mushrooms', 'Vegan Malibu Burger']\n",
      "Length:  91\n"
     ]
    }
   ],
   "source": [
    "# convert the food name in html form to a list form\n",
    "food_list = [item.string for item in food_name]\n",
    "print(food_list)\n",
    "print('Length: ', len(food_list))"
   ]
  },
  {
   "cell_type": "code",
   "execution_count": 7,
   "metadata": {},
   "outputs": [
    {
     "name": "stdout",
     "output_type": "stream",
     "text": [
      "['Apricot Crunch Muffin', 'Atomic Cheese Sauce', 'BAR Boardwalk Burgers', 'BAR Wings', 'BBQ Pork Ribs', 'BBQ Wings', 'Bacon', 'Baked Sweet Potato', 'Belgian Waffles', 'Bell Peppers', 'Black Beans', \"Bob's Pancakes\", 'Bread Bun', 'Burger Bar #1 Condiments', 'Burger Beef', 'Burger Turkey', 'Cage Free Eggs', 'Cage Free Omelette Bar', 'Cage Free Scrambled Eggs', 'Cheddar Cheese', 'Cheese Enchilada Pizza', 'Cheese Pizza', 'Chicken Tenders', 'Chicken and Dumpling Soup', 'Chili con Carne', 'Cinnamon Roasted Butternut Squash', 'Condiments', 'Crispy Beef and Bean Tostada', 'Crispy Tostada', 'Cuban Chicken and Chorizo', 'Eggplant Curry', 'Feta Cheese', 'Fire Roasted Corn Soup', 'French Fries', 'Fresh Organic Spinach', 'Fresh Tomato', 'Greek Chicken Saute', 'Greek Vegan Saute', 'Halal Chicken Patty Sandwich', 'Ham Steaks', 'Hard-boiled Cage Free Eggs', \"Hot 'N Spicy Wings\", 'Jalapeno', 'Lemon Coffeecake', 'Mashed Potato Bowl Bar', 'Oatmeal Gluten-Free', 'Onion Rings', 'Onions', 'Oven Roasted Chicken Thigh', 'Oven Roasted Herbed Potatoes', 'Oven Roasted Turkey', 'Peanut Apricot Crunch', 'Pesto Chicken Sandwich', 'Pumpkin Spice Muffin', 'Roasted Corn', 'Sauteed Mushrooms', 'Sauteed Seasonal Vegetable', 'Sliced Olived', 'Smoked Ham', 'Soyrizo Tofu Scramble', 'Spicy Garbanzo Curry', 'Steamed Basmati Rice', 'Steamed Rice', 'Sticky Rice', 'Tator Tots', 'Teriyaki Glaze Wings', 'Thai Red Curry Beef', 'UCSC Bakery French Rolls', 'Vegan Baked Beans', 'Vegan Chocolate Cup Cakes', 'Vegan Garlic Mashed Potatoes', 'Vegan Malibu Burger', 'Vegan Mushroom Gravy', 'Vegan Peanut Granola', 'Vegan Taquito', 'Vegan Tenders', 'Vietnamese Pork Banh Mi Sandwich']\n",
      "Sorted length:  77\n"
     ]
    }
   ],
   "source": [
    "# In case of dupliate food name, the list should be converted to a set\n",
    "# sort\n",
    "food_list = sorted(list(set(food_list)))\n",
    "print(food_list)\n",
    "print('Sorted length: ', len(food_list))"
   ]
  },
  {
   "cell_type": "code",
   "execution_count": 8,
   "metadata": {
    "scrolled": true
   },
   "outputs": [
    {
     "name": "stdout",
     "output_type": "stream",
     "text": [
      "Apricot Crunch Muffin\n",
      "0\n",
      "Atomic Cheese Sauce\n",
      "0\n",
      "BAR Boardwalk Burgers\n",
      "0\n",
      "BAR Wings\n",
      "0\n",
      "BBQ Pork Ribs\n",
      "1\n",
      "BBQ Wings\n",
      "0\n",
      "Bacon\n",
      "1\n",
      "Baked Sweet Potato\n",
      "0\n",
      "Belgian Waffles\n",
      "0\n",
      "Bell Peppers\n",
      "0\n",
      "Black Beans\n",
      "0\n",
      "Bob's Pancakes\n",
      "0\n",
      "Bread Bun\n",
      "0\n",
      "Burger Bar #1 Condiments\n",
      "0\n",
      "Burger Beef\n",
      "1\n",
      "Burger Turkey\n",
      "0\n",
      "Cage Free Eggs\n",
      "0\n",
      "Cage Free Omelette Bar\n",
      "0\n",
      "Cage Free Scrambled Eggs\n",
      "1\n",
      "Cheddar Cheese\n",
      "0\n",
      "Cheese Enchilada Pizza\n",
      "0\n",
      "Cheese Pizza\n",
      "0\n",
      "Chicken Tenders\n",
      "1\n",
      "Chicken and Dumpling Soup\n",
      "1\n",
      "Chili con Carne\n",
      "0\n",
      "Cinnamon Roasted Butternut Squash\n",
      "0\n",
      "Condiments\n",
      "0\n",
      "Crispy Beef and Bean Tostada\n",
      "0\n",
      "Crispy Tostada\n",
      "0\n",
      "Cuban Chicken and Chorizo\n",
      "0\n",
      "Eggplant Curry\n",
      "0\n",
      "Feta Cheese\n",
      "0\n",
      "Fire Roasted Corn Soup\n",
      "0\n",
      "French Fries\n",
      "1\n",
      "Fresh Organic Spinach\n",
      "0\n",
      "Fresh Tomato\n",
      "0\n",
      "Greek Chicken Saute\n",
      "0\n",
      "Greek Vegan Saute\n",
      "0\n",
      "Halal Chicken Patty Sandwich\n",
      "0\n",
      "Ham Steaks\n",
      "0\n",
      "Hard-boiled Cage Free Eggs\n",
      "0\n",
      "Hot 'N Spicy Wings\n",
      "0\n",
      "Jalapeno\n",
      "0\n",
      "Lemon Coffeecake\n",
      "0\n",
      "Mashed Potato Bowl Bar\n",
      "0\n",
      "Oatmeal Gluten-Free\n",
      "0\n",
      "Onion Rings\n",
      "1\n",
      "Onions\n",
      "0\n",
      "Oven Roasted Chicken Thigh\n",
      "0\n",
      "Oven Roasted Herbed Potatoes\n",
      "0\n",
      "Oven Roasted Turkey\n",
      "0\n",
      "Peanut Apricot Crunch\n",
      "0\n",
      "Pesto Chicken Sandwich\n",
      "0\n",
      "Pumpkin Spice Muffin\n",
      "0\n",
      "Roasted Corn\n",
      "0\n",
      "Sauteed Mushrooms\n",
      "0\n",
      "Sauteed Seasonal Vegetable\n",
      "0\n",
      "Sliced Olived\n",
      "0\n",
      "Smoked Ham\n",
      "0\n",
      "Soyrizo Tofu Scramble\n",
      "0\n",
      "Spicy Garbanzo Curry\n",
      "0\n",
      "Steamed Basmati Rice\n",
      "0\n",
      "Steamed Rice\n",
      "1\n",
      "Sticky Rice\n",
      "1\n",
      "Tator Tots\n",
      "1\n",
      "Teriyaki Glaze Wings\n",
      "0\n",
      "Thai Red Curry Beef\n",
      "0\n",
      "UCSC Bakery French Rolls\n",
      "0\n",
      "Vegan Baked Beans\n",
      "0\n",
      "Vegan Chocolate Cup Cakes\n",
      "0\n",
      "Vegan Garlic Mashed Potatoes\n",
      "0\n",
      "Vegan Malibu Burger\n",
      "0\n",
      "Vegan Mushroom Gravy\n",
      "0\n",
      "Vegan Peanut Granola\n",
      "0\n",
      "Vegan Taquito\n",
      "0\n",
      "Vegan Tenders\n",
      "0\n",
      "Vietnamese Pork Banh Mi Sandwich\n",
      "0\n",
      "[0, 0, 0, 0, 1, 0, 1, 0, 0, 0, 0, 0, 0, 0, 1, 0, 0, 0, 1, 0, 0, 0, 1, 1, 0, 0, 0, 0, 0, 0, 0, 0, 0, 1, 0, 0, 0, 0, 0, 0, 0, 0, 0, 0, 0, 0, 1, 0, 0, 0, 0, 0, 0, 0, 0, 0, 0, 0, 0, 0, 0, 0, 1, 1, 1, 0, 0, 0, 0, 0, 0, 0, 0, 0, 0, 0, 0]\n",
      "Preference length:  77\n"
     ]
    }
   ],
   "source": [
    "# preference list, labeled by myself\n",
    "# pref_1 = [1, 1, 1, 0, 0, 1, 0, 0, 0, 1, 1, 0, 0, 1, 0, 0, 0, 0, 0, 1, 1, 0, 0, 0, 0, 1, 0, 0, 0 ]\n",
    "# pref_2 = [1, 1, 1, 1, 0, 0, 1, 1, 1, 1, 1, 0, 0, 1, 0, 0, 0, 0, 1, 0, 0, 1, 1, 1, 0, 0, 0]\n",
    "# pref_3 = [0, 1, 1, 1, 0, 0, 0, 0, 0, 1, 1, 1, 1, 0, 0, 0, 1, 1, 0, 1, 0, 0, 0, 1]\n",
    "# pref_4 = [0, 0, 1, 1, 0, 0, 1, 1, 1, 0, 1, 0, 0, 0, 0, 1, 0, 0, 1, 1, 0, 1, 1, 1, 0, 0, 1, 0, 1, 0, 1, 1, 1, 0, 0]\n",
    "# pref_5 = [1, 0, 1, 0, 0, 0, 1, 1, 0, 1, 0, 0, 0, 0, 1, 0, 0, 0, 0, 0, 1, 0, 0, 1, 0, 0, 1, 0, 0, 1, 0, 1, 0]\n",
    "pref = []\n",
    "for i in food_list:\n",
    "    print(i)\n",
    "    preference = int(input())\n",
    "    if preference != 0 and preference != 1:\n",
    "        print('Incrorrect input')\n",
    "        break\n",
    "    pref.append(preference)\n",
    "print(pref)\n",
    "print('Preference length: ', len(pref))"
   ]
  },
  {
   "cell_type": "code",
   "execution_count": 9,
   "metadata": {},
   "outputs": [
    {
     "name": "stdout",
     "output_type": "stream",
     "text": [
      "Current US/Pacific time:  2018-10-03\n"
     ]
    }
   ],
   "source": [
    "# timezone setting\n",
    "us_pacific = timezone('US/Pacific')\n",
    "time = datetime.now(us_pacific)\n",
    "us_time = time.strftime('%Y-%m-%d')\n",
    "print('Current US/Pacific time: ', us_time)"
   ]
  },
  {
   "cell_type": "code",
   "execution_count": 10,
   "metadata": {},
   "outputs": [
    {
     "name": "stdout",
     "output_type": "stream",
     "text": [
      "Current path:  /Users/7w0r4ng3s/Documents/menu_scraping/data/2018-10-03.csv\n"
     ]
    }
   ],
   "source": [
    "# write the food list to a csv file\n",
    "path = '/Users/7w0r4ng3s/Documents/menu_scraping/data/{}.csv'.format(us_time)\n",
    "print('Current path: ', path)\n",
    "path_2 = '/Users/7w0r4ng3s/Documents/menu_scraping/data/'"
   ]
  },
  {
   "cell_type": "code",
   "execution_count": 11,
   "metadata": {},
   "outputs": [
    {
     "name": "stdout",
     "output_type": "stream",
     "text": [
      "write_csv: COMPLETED\n",
      "add_column_name: COMPLETED\n"
     ]
    }
   ],
   "source": [
    "def write_data():\n",
    "    with open(path, \"w\") as output:\n",
    "        writer = csv.writer(output, lineterminator='\\n')\n",
    "        for key, val in zip(food_list, pref):\n",
    "            writer.writerow([key, val])\n",
    "    print('write_csv: COMPLETED')\n",
    "    # add index and column names\n",
    "    df = pd.read_csv(path, names=['food', 'pref'])\n",
    "    df.index.names = ['index']\n",
    "    df.to_csv(path)\n",
    "    print('add_column_name: COMPLETED')\n",
    "    \n",
    "write_data()"
   ]
  },
  {
   "cell_type": "code",
   "execution_count": 13,
   "metadata": {},
   "outputs": [],
   "source": [
    "def append_data():\n",
    "    df1 = pd.read_csv('../Data.csv', index_col='index')\n",
    "    df1.index.names = ['index']\n",
    "    df2 = pd.read_csv(path, index_col='index')\n",
    "    df3 = df1.append(df2).reset_index()\n",
    "    df3 = df3.drop('index', 1).sort_values('food').reset_index().drop('index', 1)\n",
    "    df3.index.names = ['index']\n",
    "    df3.to_csv('Data.csv')\n",
    "    \n",
    "append_data()"
   ]
  },
  {
   "cell_type": "code",
   "execution_count": 14,
   "metadata": {},
   "outputs": [
    {
     "name": "stdout",
     "output_type": "stream",
     "text": [
      "Search food: chicken\n",
      "Do you mean:\n",
      "1 Argentinian Roasted Chicken\n",
      "2 BBQ Ginger Soy Chicken\n",
      "3 Big Island Chicken Stir Fry\n",
      "4 Bombay Chicken Pizza\n",
      "5 Buffalo Chicken Pizza\n",
      "6 Cajun Honey Glazed Chicken Breast\n",
      "7 Caramelized Chipotle Chicken\n",
      "8 Char Siu Chicken\n",
      "9 Chicken Adobo\n",
      "10 Chicken Apple Sausage\n",
      "11 Chicken Bacon\n",
      "12 Chicken Breast Milanese\n",
      "13 Chicken Club Pizza\n",
      "14 Chicken Gravy\n",
      "15 Chicken Honey Mustard\n",
      "16 Chicken Korma\n",
      "17 Chicken Mango Sausage\n",
      "18 Chicken Noodle Soup\n",
      "19 Chicken Nuggets\n",
      "20 Chicken Ortega Soup\n",
      "21 Chicken Pozole\n",
      "22 Chicken Sofrito\n",
      "23 Chicken Tenders\n",
      "24 Chicken Teriyaki Stir Fry\n",
      "25 Chicken Tikka Masala\n",
      "26 Chicken Tortilla Soup\n",
      "27 Cuban Banana BBQ'd Chicken\n",
      "28 Fried Chicken\n",
      "29 Grilled Huli Huli Chicken\n",
      "30 Halal Chicken Patty Sandwich\n",
      "31 Hanalei Pizza with Chicken and Bacon\n",
      "32 Harissa Roasted Chicken\n",
      "33 Island BBQ Chicken\n",
      "34 Italian Roasted Chicken\n",
      "35 Madras Chicken\n",
      "36 Middle East Apple Roasted Chicken\n",
      "37 Orange Glazed Vegan Chicken\n",
      "38 Oven Roasted Allergen Free Chicken Thigh\n",
      "39 Oven Roasted Chicken Thigh\n",
      "40 Peanut Kung Pao Chicken\n",
      "41 Pineapple Chicken Curry\n",
      "42 Pizza with Gochujang BBQ Chicken\n",
      "43 Ranch Chicken Sandwich with Bacon\n",
      "44 Sizzling Buffalo Chicken Salad\n",
      "45 Spicy Vegan Chicken and Broccoli Stir Fry\n",
      "46 Sun Dried Tomato Crusted Chicken Breast\n",
      "47 Szechuan Sweet Chili Chicken\n",
      "48 Tandoori Chicken\n",
      "49 Taqueria Chicken\n",
      "50 Teriyaki \"Chicken\" Stir Fry\n",
      "51 Teriyaki Chicken Shoyu\n",
      "52 Thai Coconut Curry Chicken Soup\n",
      "53 Vegan Chicken and Hummus Wrap\n",
      "\n",
      "Enter the index: 13\n",
      "--------------------------------------------------------------------------------\n",
      "Out of 1 time(s), you like [Chicken Club Pizza] 1 time(s).\n",
      "--------------------------------------------------------------------------------\n"
     ]
    },
    {
     "data": {
      "text/plain": [
       "1.0"
      ]
     },
     "execution_count": 14,
     "metadata": {},
     "output_type": "execute_result"
    }
   ],
   "source": [
    "FoodTools.search()"
   ]
  },
  {
   "cell_type": "code",
   "execution_count": 20,
   "metadata": {},
   "outputs": [
    {
     "data": {
      "text/plain": [
       "['Armenian Salad',\n",
       " 'Atomic Cheese Sauce',\n",
       " 'Bar Indian',\n",
       " 'Bell Peppers',\n",
       " 'Black Beans',\n",
       " 'Bread Bun',\n",
       " 'Burger Turkey',\n",
       " 'Cage Free Eggs',\n",
       " 'Cage Free Omelette Bar',\n",
       " 'Cheddar Cheese',\n",
       " 'Cheese Ravioli',\n",
       " 'Condiments',\n",
       " 'Creamy Broccoli Cheddar Soup',\n",
       " 'Feta Cheese',\n",
       " 'Fresh Organic Spinach',\n",
       " 'Hawaiian Coleslaw',\n",
       " 'Jalapeno',\n",
       " 'Mexican Rice',\n",
       " 'Oatmeal Gluten-Free',\n",
       " 'Onions',\n",
       " 'Original Naan',\n",
       " 'Oven Roasted Chicken Thigh',\n",
       " 'Pepperoni Pizza',\n",
       " 'Roasted Corn',\n",
       " 'Roasted Seasonal Vegetables',\n",
       " 'Roasted Vegetables',\n",
       " 'Sauteed Mushrooms',\n",
       " 'Sauteed Seasonal Vegetable',\n",
       " 'Sliced Olived',\n",
       " 'Steamed Seasonal Vegetables',\n",
       " 'Stir Fry Vegetables',\n",
       " 'Tuscan Vegetable Soup',\n",
       " 'Vegan Malibu Burger',\n",
       " 'Vegan Peanut Granola',\n",
       " 'Vegan Tenders']"
      ]
     },
     "execution_count": 20,
     "metadata": {},
     "output_type": "execute_result"
    }
   ],
   "source": [
    "FoodTools.never_eat()"
   ]
  },
  {
   "cell_type": "code",
   "execution_count": 24,
   "metadata": {},
   "outputs": [
    {
     "ename": "AttributeError",
     "evalue": "module 'FoodTools' has no attribute 'always_like'",
     "output_type": "error",
     "traceback": [
      "\u001b[0;31m---------------------------------------------------------------------------\u001b[0m",
      "\u001b[0;31mAttributeError\u001b[0m                            Traceback (most recent call last)",
      "\u001b[0;32m<ipython-input-24-5d50a6de1ea5>\u001b[0m in \u001b[0;36m<module>\u001b[0;34m()\u001b[0m\n\u001b[0;32m----> 1\u001b[0;31m \u001b[0mFoodTools\u001b[0m\u001b[0;34m.\u001b[0m\u001b[0malways_like\u001b[0m\u001b[0;34m(\u001b[0m\u001b[0;34m)\u001b[0m\u001b[0;34m\u001b[0m\u001b[0m\n\u001b[0m",
      "\u001b[0;31mAttributeError\u001b[0m: module 'FoodTools' has no attribute 'always_like'"
     ]
    }
   ],
   "source": [
    "FoodTools.always_like()"
   ]
  },
  {
   "cell_type": "code",
   "execution_count": null,
   "metadata": {},
   "outputs": [],
   "source": []
  },
  {
   "cell_type": "code",
   "execution_count": null,
   "metadata": {},
   "outputs": [],
   "source": []
  }
 ],
 "metadata": {
  "kernelspec": {
   "display_name": "Python 3",
   "language": "python",
   "name": "python3"
  },
  "language_info": {
   "codemirror_mode": {
    "name": "ipython",
    "version": 3
   },
   "file_extension": ".py",
   "mimetype": "text/x-python",
   "name": "python",
   "nbconvert_exporter": "python",
   "pygments_lexer": "ipython3",
   "version": "3.6.6"
  }
 },
 "nbformat": 4,
 "nbformat_minor": 2
}
