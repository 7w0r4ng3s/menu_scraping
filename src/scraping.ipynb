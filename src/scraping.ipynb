{
 "cells": [
  {
   "cell_type": "code",
   "execution_count": 1,
   "metadata": {},
   "outputs": [],
   "source": [
    "# import dependencies\n",
    "import os\n",
    "import io\n",
    "import bs4\n",
    "import requests\n",
    "from bs4 import BeautifulSoup\n",
    "from urllib.parse import urljoin\n",
    "# from selenium import webdriver\n",
    "# from lxml import html\n",
    "import csv\n",
    "from datetime import datetime\n",
    "from pytz import timezone\n",
    "import pandas as pd\n",
    "import FoodTools"
   ]
  },
  {
   "cell_type": "code",
   "execution_count": 2,
   "metadata": {},
   "outputs": [],
   "source": [
    "# url of ucsc college 9 & 10 dining hall\n",
    "url = 'https://nutrition.sa.ucsc.edu/nutframe.asp?sName=UC+Santa+Cruz+Dining&locationNum=40&locationName=Colleges+Nine+%26+Ten+Dining+Hall&naFlag=1'"
   ]
  },
  {
   "cell_type": "code",
   "execution_count": 3,
   "metadata": {},
   "outputs": [],
   "source": [
    "# scrap the menu data from the webpage\n",
    "# since the menu data is cannot be scrapped from the html file directly\n",
    "# we have to make additional requests to get the frame page contents \n",
    "with requests.Session() as session:\n",
    "    response = session.get(url)\n",
    "    soup = BeautifulSoup(response.content, 'html.parser')\n",
    "\n",
    "    for frame in soup.select(\"frameset frame\"):\n",
    "        frame_url = urljoin(url, frame[\"src\"])\n",
    "        response = session.get(frame_url)\n",
    "        frame_soup = BeautifulSoup(response.content, 'html.parser') \n",
    "        # print(frame_soup.prettify())"
   ]
  },
  {
   "cell_type": "code",
   "execution_count": 4,
   "metadata": {},
   "outputs": [],
   "source": [
    "# extract both the meal name and food name from html\n",
    "meal_name = frame_soup.find_all('div', attrs={'class': 'menusampmeals'})\n",
    "food_name = frame_soup.find_all('div', attrs={'class': 'menusamprecipes'})"
   ]
  },
  {
   "cell_type": "code",
   "execution_count": 5,
   "metadata": {},
   "outputs": [
    {
     "name": "stdout",
     "output_type": "stream",
     "text": [
      "['Breakfast', 'Lunch', 'Dinner', 'Late Night']\n",
      "Length:  4\n"
     ]
    }
   ],
   "source": [
    "# convert the name of the meal type in html form to a list form\n",
    "meal_type = [item.string for item in meal_name]\n",
    "print(meal_type)\n",
    "print('Length: ', len(meal_type))"
   ]
  },
  {
   "cell_type": "code",
   "execution_count": 6,
   "metadata": {},
   "outputs": [
    {
     "name": "stdout",
     "output_type": "stream",
     "text": [
      "['Belgian Waffles', \"Bob's Pancakes\", 'Cage Free Scrambled Eggs', 'Chicken Apple Sausage', 'Eggbeaters Scramble', 'Hard-boiled Cage Free Eggs', 'Middle Eastern Shakshuka Eggs', 'Oatmeal Gluten-Free', 'Shredded Hash Browns', 'Soyrizo Tofu Scramble', 'Thai Tofu Scramble', 'Banana Walnut Loaf', 'Jalapeno Cheese Scone', 'Lemon Blueberry Muffin', 'Vegan Peanut Granola', 'Bell Peppers', 'Cage Free Eggs', 'Cage Free Omelette Bar', 'Cheddar Cheese', 'Feta Cheese', 'Fresh Organic Spinach', 'Fresh Tomato', 'Jalapeno', 'Onions', 'Oven Roasted Turkey', 'Sliced Olived', 'Smoked Ham', 'Creamy Broccoli Cheddar Soup', 'N.E.Clam Chowder', 'Enchiladas de Crema', 'Lemon Pepper Cod', 'Oven Roasted Chicken Thigh', 'Steamed Rice', 'Cheese Pizza', 'Cilantro Flatbread with Red Onions and Mushrooms', 'Mexican Rice', 'Roasted Seasonal Vegetables', \"Blackened Catfish Po' Boy Sandwich\", 'Chocolate Blackout Cupcake', 'Argentinian Roasted Chicken', 'Black Beans', 'Braised Kale with Crispy Shallots', 'Condiments', 'Grilled Chimichurri Tofu', 'Peruvian Bar', 'Quinoa with Lemon and Thyme', 'Roasted Sweet Potatoes', 'Creamy Broccoli Cheddar Soup', 'New England Clam Chowder', 'Lasagna Bolognese', 'Oven Roasted Chicken Thigh', 'Steamed Rice', 'Cheese Pizza', 'Cilantro Flatbread with Red Onions and Mushrooms', 'Cheese and Garlic Breadsticks', 'Butter Balls', 'Condiments', 'Crumbled Bacon', 'Isla Managua Beef Sandwich', 'Regular Cut Fries', 'Soyrizo and Potatoes', 'Steak Cut Fries', 'Whaler Fish Sandwich', 'UCSC Bakery French Rolls', 'Vegan Blackberry Pie', 'Baked Potato Bar', 'Baked Potato', 'Baked Sweet Potato', 'Fried Chicken', 'Roasted Seasonal Vegetables', 'Vegan Malibu Burger', 'Chicken Arcadia', 'Dirty Rice', 'Oven Roasted Chicken Thigh', 'Steamed Rice', 'Cheese Pizza', 'Cilantro Flatbread with Red Onions and Mushrooms', 'Beef and Lamb Gyro', 'Sweet Potato Fries', 'BAR Hot Dog', 'Banh Mi Vegan Hot Dog', 'Cheese Sauce', 'Chili con Carne', 'Hot Dog All Beef', 'Jalapeno', 'Onions', 'Sauerkraut', 'Sweet Relish']\n",
      "Length:  88\n"
     ]
    }
   ],
   "source": [
    "# convert the food name in html form to a list form\n",
    "food_list = [item.string for item in food_name]\n",
    "print(food_list)\n",
    "print('Length: ', len(food_list))"
   ]
  },
  {
   "cell_type": "code",
   "execution_count": 7,
   "metadata": {},
   "outputs": [
    {
     "name": "stdout",
     "output_type": "stream",
     "text": [
      "['Argentinian Roasted Chicken', 'BAR Hot Dog', 'Baked Potato', 'Baked Potato Bar', 'Baked Sweet Potato', 'Banana Walnut Loaf', 'Banh Mi Vegan Hot Dog', 'Beef and Lamb Gyro', 'Belgian Waffles', 'Bell Peppers', 'Black Beans', \"Blackened Catfish Po' Boy Sandwich\", \"Bob's Pancakes\", 'Braised Kale with Crispy Shallots', 'Butter Balls', 'Cage Free Eggs', 'Cage Free Omelette Bar', 'Cage Free Scrambled Eggs', 'Cheddar Cheese', 'Cheese Pizza', 'Cheese Sauce', 'Cheese and Garlic Breadsticks', 'Chicken Apple Sausage', 'Chicken Arcadia', 'Chili con Carne', 'Chocolate Blackout Cupcake', 'Cilantro Flatbread with Red Onions and Mushrooms', 'Condiments', 'Creamy Broccoli Cheddar Soup', 'Crumbled Bacon', 'Dirty Rice', 'Eggbeaters Scramble', 'Enchiladas de Crema', 'Feta Cheese', 'Fresh Organic Spinach', 'Fresh Tomato', 'Fried Chicken', 'Grilled Chimichurri Tofu', 'Hard-boiled Cage Free Eggs', 'Hot Dog All Beef', 'Isla Managua Beef Sandwich', 'Jalapeno', 'Jalapeno Cheese Scone', 'Lasagna Bolognese', 'Lemon Blueberry Muffin', 'Lemon Pepper Cod', 'Mexican Rice', 'Middle Eastern Shakshuka Eggs', 'N.E.Clam Chowder', 'New England Clam Chowder', 'Oatmeal Gluten-Free', 'Onions', 'Oven Roasted Chicken Thigh', 'Oven Roasted Turkey', 'Peruvian Bar', 'Quinoa with Lemon and Thyme', 'Regular Cut Fries', 'Roasted Seasonal Vegetables', 'Roasted Sweet Potatoes', 'Sauerkraut', 'Shredded Hash Browns', 'Sliced Olived', 'Smoked Ham', 'Soyrizo Tofu Scramble', 'Soyrizo and Potatoes', 'Steak Cut Fries', 'Steamed Rice', 'Sweet Potato Fries', 'Sweet Relish', 'Thai Tofu Scramble', 'UCSC Bakery French Rolls', 'Vegan Blackberry Pie', 'Vegan Malibu Burger', 'Vegan Peanut Granola', 'Whaler Fish Sandwich']\n",
      "Sorted length:  75\n"
     ]
    }
   ],
   "source": [
    "# In case of dupliate food name, the list should be converted to a set\n",
    "# sort\n",
    "food_list = sorted(list(set(food_list)))\n",
    "print(food_list)\n",
    "print('Sorted length: ', len(food_list))"
   ]
  },
  {
   "cell_type": "code",
   "execution_count": 9,
   "metadata": {
    "scrolled": true
   },
   "outputs": [
    {
     "name": "stdout",
     "output_type": "stream",
     "text": [
      "Argentinian Roasted Chicken\n",
      "0\n",
      "BAR Hot Dog\n",
      "0\n",
      "Baked Potato\n",
      "0\n",
      "Baked Potato Bar\n",
      "0\n",
      "Baked Sweet Potato\n",
      "0\n",
      "Banana Walnut Loaf\n",
      "0\n",
      "Banh Mi Vegan Hot Dog\n",
      "0\n",
      "Beef and Lamb Gyro\n",
      "0\n",
      "Belgian Waffles\n",
      "0\n",
      "Bell Peppers\n",
      "0\n",
      "Black Beans\n",
      "0\n",
      "Blackened Catfish Po' Boy Sandwich\n",
      "0\n",
      "Bob's Pancakes\n",
      "0\n",
      "Braised Kale with Crispy Shallots\n",
      "0\n",
      "Butter Balls\n",
      "0\n",
      "Cage Free Eggs\n",
      "0\n",
      "Cage Free Omelette Bar\n",
      "0\n",
      "Cage Free Scrambled Eggs\n",
      "1\n",
      "Cheddar Cheese\n",
      "0\n",
      "Cheese Pizza\n",
      "0\n",
      "Cheese Sauce\n",
      "0\n",
      "Cheese and Garlic Breadsticks\n",
      "0\n",
      "Chicken Apple Sausage\n",
      "0\n",
      "Chicken Arcadia\n",
      "0\n",
      "Chili con Carne\n",
      "0\n",
      "Chocolate Blackout Cupcake\n",
      "0\n",
      "Cilantro Flatbread with Red Onions and Mushrooms\n",
      "0\n",
      "Condiments\n",
      "0\n",
      "Creamy Broccoli Cheddar Soup\n",
      "0\n",
      "Crumbled Bacon\n",
      "1\n",
      "Dirty Rice\n",
      "0\n",
      "Eggbeaters Scramble\n",
      "0\n",
      "Enchiladas de Crema\n",
      "0\n",
      "Feta Cheese\n",
      "0\n",
      "Fresh Organic Spinach\n",
      "0\n",
      "Fresh Tomato\n",
      "0\n",
      "Fried Chicken\n",
      "1\n",
      "Grilled Chimichurri Tofu\n",
      "0\n",
      "Hard-boiled Cage Free Eggs\n",
      "0\n",
      "Hot Dog All Beef\n",
      "1\n",
      "Isla Managua Beef Sandwich\n",
      "0\n",
      "Jalapeno\n",
      "0\n",
      "Jalapeno Cheese Scone\n",
      "0\n",
      "Lasagna Bolognese\n",
      "0\n",
      "Lemon Blueberry Muffin\n",
      "0\n",
      "Lemon Pepper Cod\n",
      "0\n",
      "Mexican Rice\n",
      "0\n",
      "Middle Eastern Shakshuka Eggs\n",
      "0\n",
      "N.E.Clam Chowder\n",
      "0\n",
      "New England Clam Chowder\n",
      "0\n",
      "Oatmeal Gluten-Free\n",
      "0\n",
      "Onions\n",
      "0\n",
      "Oven Roasted Chicken Thigh\n",
      "0\n",
      "Oven Roasted Turkey\n",
      "0\n",
      "Peruvian Bar\n",
      "0\n",
      "Quinoa with Lemon and Thyme\n",
      "0\n",
      "Regular Cut Fries\n",
      "1\n",
      "Roasted Seasonal Vegetables\n",
      "0\n",
      "Roasted Sweet Potatoes\n",
      "0\n",
      "Sauerkraut\n",
      "0\n",
      "Shredded Hash Browns\n",
      "0\n",
      "Sliced Olived\n",
      "0\n",
      "Smoked Ham\n",
      "0\n",
      "Soyrizo Tofu Scramble\n",
      "0\n",
      "Soyrizo and Potatoes\n",
      "0\n",
      "Steak Cut Fries\n",
      "1\n",
      "Steamed Rice\n",
      "1\n",
      "Sweet Potato Fries\n",
      "0\n",
      "Sweet Relish\n",
      "0\n",
      "Thai Tofu Scramble\n",
      "0\n",
      "UCSC Bakery French Rolls\n",
      "0\n",
      "Vegan Blackberry Pie\n",
      "0\n",
      "Vegan Malibu Burger\n",
      "0\n",
      "Vegan Peanut Granola\n",
      "0\n",
      "Whaler Fish Sandwich\n",
      "0\n",
      "[0, 0, 0, 0, 0, 0, 0, 0, 0, 0, 0, 0, 0, 0, 0, 0, 0, 1, 0, 0, 0, 0, 0, 0, 0, 0, 0, 0, 0, 1, 0, 0, 0, 0, 0, 0, 1, 0, 0, 1, 0, 0, 0, 0, 0, 0, 0, 0, 0, 0, 0, 0, 0, 0, 0, 0, 1, 0, 0, 0, 0, 0, 0, 0, 0, 1, 1, 0, 0, 0, 0, 0, 0, 0, 0]\n",
      "Preference length:  75\n"
     ]
    }
   ],
   "source": [
    "# preference list, labeled by myself\n",
    "# pref_1 = [1, 1, 1, 0, 0, 1, 0, 0, 0, 1, 1, 0, 0, 1, 0, 0, 0, 0, 0, 1, 1, 0, 0, 0, 0, 1, 0, 0, 0 ]\n",
    "# pref_2 = [1, 1, 1, 1, 0, 0, 1, 1, 1, 1, 1, 0, 0, 1, 0, 0, 0, 0, 1, 0, 0, 1, 1, 1, 0, 0, 0]\n",
    "# pref_3 = [0, 1, 1, 1, 0, 0, 0, 0, 0, 1, 1, 1, 1, 0, 0, 0, 1, 1, 0, 1, 0, 0, 0, 1]\n",
    "# pref_4 = [0, 0, 1, 1, 0, 0, 1, 1, 1, 0, 1, 0, 0, 0, 0, 1, 0, 0, 1, 1, 0, 1, 1, 1, 0, 0, 1, 0, 1, 0, 1, 1, 1, 0, 0]\n",
    "# pref_5 = [1, 0, 1, 0, 0, 0, 1, 1, 0, 1, 0, 0, 0, 0, 1, 0, 0, 0, 0, 0, 1, 0, 0, 1, 0, 0, 1, 0, 0, 1, 0, 1, 0]\n",
    "pref = []\n",
    "for i in food_list:\n",
    "    print(i)\n",
    "    preference = int(input())\n",
    "    if preference != 0 and preference != 1:\n",
    "        print('Incrorrect input')\n",
    "        break\n",
    "    pref.append(preference)\n",
    "print(pref)\n",
    "print('Preference length: ', len(pref))"
   ]
  },
  {
   "cell_type": "code",
   "execution_count": 10,
   "metadata": {},
   "outputs": [
    {
     "name": "stdout",
     "output_type": "stream",
     "text": [
      "Current US/Pacific time:  2018-10-05\n"
     ]
    }
   ],
   "source": [
    "# timezone setting\n",
    "us_pacific = timezone('US/Pacific')\n",
    "time = datetime.now(us_pacific)\n",
    "us_time = time.strftime('%Y-%m-%d')\n",
    "print('Current US/Pacific time: ', us_time)"
   ]
  },
  {
   "cell_type": "code",
   "execution_count": 11,
   "metadata": {},
   "outputs": [
    {
     "name": "stdout",
     "output_type": "stream",
     "text": [
      "Current path:  /Users/7w0r4ng3s/Documents/menu_scraping/data/2018-10-05.csv\n"
     ]
    }
   ],
   "source": [
    "# write the food list to a csv file\n",
    "path = '/Users/7w0r4ng3s/Documents/menu_scraping/data/{}.csv'.format(us_time)\n",
    "print('Current path: ', path)\n",
    "path_2 = '/Users/7w0r4ng3s/Documents/menu_scraping/data/'"
   ]
  },
  {
   "cell_type": "code",
   "execution_count": 12,
   "metadata": {},
   "outputs": [
    {
     "name": "stdout",
     "output_type": "stream",
     "text": [
      "write_csv: COMPLETED\n",
      "add_column_name: COMPLETED\n"
     ]
    }
   ],
   "source": [
    "def write_data():\n",
    "    with open(path, \"w\") as output:\n",
    "        writer = csv.writer(output, lineterminator='\\n')\n",
    "        for key, val in zip(food_list, pref):\n",
    "            writer.writerow([key, val])\n",
    "    print('write_csv: COMPLETED')\n",
    "    # add index and column names\n",
    "    df = pd.read_csv(path, names=['food', 'pref'])\n",
    "    df.index.names = ['index']\n",
    "    df.to_csv(path)\n",
    "    print('add_column_name: COMPLETED')\n",
    "    \n",
    "write_data()"
   ]
  },
  {
   "cell_type": "code",
   "execution_count": 13,
   "metadata": {},
   "outputs": [],
   "source": [
    "def append_data():\n",
    "    df1 = pd.read_csv('../Data.csv', index_col='index')\n",
    "    df1.index.names = ['index']\n",
    "    df2 = pd.read_csv(path, index_col='index')\n",
    "    df3 = df1.append(df2).reset_index()\n",
    "    df3 = df3.drop('index', 1).sort_values('food').reset_index().drop('index', 1)\n",
    "    df3.index.names = ['index']\n",
    "    df3.to_csv('Data.csv')\n",
    "    \n",
    "append_data()"
   ]
  },
  {
   "cell_type": "code",
   "execution_count": 14,
   "metadata": {},
   "outputs": [
    {
     "name": "stdout",
     "output_type": "stream",
     "text": [
      "Search food: cheese\n",
      "Do you mean:\n",
      "1 Asiago Cheese Sauce\n",
      "2 Atomic Cheese Sauce\n",
      "3 Blueberry Cheese Ring\n",
      "4 Cheddar Cheese\n",
      "5 Cheese Danish\n",
      "6 Cheese Enchiladas\n",
      "7 Cheese Manicotti with Marinara\n",
      "8 Cheese Pizza\n",
      "9 Cheese Quesadilla\n",
      "10 Cheese Ravioli\n",
      "11 Cheese Sauce\n",
      "12 Cheese Tortellini\n",
      "13 Cheese and Garlic Breadsticks\n",
      "14 Cheeseburger\n",
      "15 Chorizo and Jack Cheese Pizza\n",
      "16 Feta Cheese\n",
      "17 French Fried Mac and Cheese Bites\n",
      "18 Green Chili, Zucchini & Cheese Tamales\n",
      "19 Hot Dog Chili Cheese\n",
      "20 Jalapeno Cheese Scone\n",
      "21 Mac & Cheese\n",
      "22 Mac & Cheese Bar Condiments\n",
      "23 Mac and Cheese Bar\n",
      "24 Nutella Cheese Danish\n",
      "25 Nutella Hazelnut Cheese Ring\n",
      "26 Orange Cream Cheese Spice Cake\n",
      "27 Pizza with Potato, Sausage and Cheese\n",
      "28 Portobella Mushroom Cheese Steak\n",
      "29 Portobello Cheese Quesadilla\n",
      "30 Raspberry Cheese Ring\n",
      "31 Savory Cheese Grits\n",
      "32 Vegan Macaroni & Cheese\n",
      "33 Yogurt Cheesecake\n",
      "\n",
      "Enter the index: 8\n",
      "--------------------------------------------------------------------------------\n",
      "Out of 20 time(s), you like [Cheese Pizza] 19 time(s).\n",
      "--------------------------------------------------------------------------------\n"
     ]
    },
    {
     "data": {
      "text/plain": [
       "0.95"
      ]
     },
     "execution_count": 14,
     "metadata": {},
     "output_type": "execute_result"
    }
   ],
   "source": [
    "FoodTools.search()"
   ]
  },
  {
   "cell_type": "code",
   "execution_count": 15,
   "metadata": {},
   "outputs": [
    {
     "data": {
      "text/plain": [
       "['Armenian Salad',\n",
       " 'Atomic Cheese Sauce',\n",
       " 'Bar Indian',\n",
       " 'Bell Peppers',\n",
       " 'Black Beans',\n",
       " 'Bread Bun',\n",
       " 'Burger Turkey',\n",
       " 'Cage Free Eggs',\n",
       " 'Cage Free Omelette Bar',\n",
       " 'Cheddar Cheese',\n",
       " 'Cheese Ravioli',\n",
       " 'Condiments',\n",
       " 'Creamy Broccoli Cheddar Soup',\n",
       " 'Feta Cheese',\n",
       " 'Fresh Organic Spinach',\n",
       " 'Hawaiian Coleslaw',\n",
       " 'Jalapeno',\n",
       " 'Mexican Rice',\n",
       " 'Oatmeal Gluten-Free',\n",
       " 'Onions',\n",
       " 'Original Naan',\n",
       " 'Oven Roasted Chicken Thigh',\n",
       " 'Pepperoni Pizza',\n",
       " 'Roasted Corn',\n",
       " 'Roasted Seasonal Vegetables',\n",
       " 'Roasted Vegetables',\n",
       " 'Sauteed Mushrooms',\n",
       " 'Sauteed Seasonal Vegetable',\n",
       " 'Sliced Olived',\n",
       " 'Steamed Seasonal Vegetables',\n",
       " 'Stir Fry Vegetables',\n",
       " 'Tuscan Vegetable Soup',\n",
       " 'Vegan Malibu Burger',\n",
       " 'Vegan Peanut Granola',\n",
       " 'Vegan Tenders']"
      ]
     },
     "execution_count": 15,
     "metadata": {},
     "output_type": "execute_result"
    }
   ],
   "source": [
    "FoodTools.never_eat()"
   ]
  },
  {
   "cell_type": "code",
   "execution_count": 16,
   "metadata": {},
   "outputs": [
    {
     "data": {
      "text/plain": [
       "['Apple Pancakes',\n",
       " 'Asian Flank Steak w/Teriyaki',\n",
       " 'Asian Pork Spareribs',\n",
       " 'BAR Hot Dog',\n",
       " 'BBQ Beef Brisket',\n",
       " 'BBQ Shredded Pork',\n",
       " 'Bacon',\n",
       " 'Baja Fish Tacos',\n",
       " 'Baked Potatoes with Toppings',\n",
       " 'Banana and Coconut Pancakes',\n",
       " 'Bar Pasta',\n",
       " 'Blueberry Cheese Ring',\n",
       " 'Blueberry Pancakes',\n",
       " 'Bombay Chicken Pizza',\n",
       " 'Boston Cream Cake',\n",
       " 'Buffalo Chicken Pizza',\n",
       " 'Burger Beef',\n",
       " 'Buttermilk Pancakes',\n",
       " 'Cage Free Scrambled Eggs',\n",
       " 'California Pasta',\n",
       " 'Char Siu Chicken',\n",
       " 'Char Siu Sauce',\n",
       " 'Char Siu Seitan',\n",
       " 'Cheese Enchiladas',\n",
       " 'Chicken Bacon',\n",
       " 'Chicken Club Pizza',\n",
       " 'Chicken Mango Sausage',\n",
       " 'Chicken Noodle Soup',\n",
       " 'Chicken Nuggets',\n",
       " 'Chicken Tenders',\n",
       " 'Chicken Teriyaki Stir Fry',\n",
       " 'Chili with Beef',\n",
       " 'Chipotle BBQ Sauce',\n",
       " 'Crispy Bacon',\n",
       " 'Curly Fries',\n",
       " 'French Fries',\n",
       " 'French Toast Sticks',\n",
       " 'Fried Chicken',\n",
       " 'Garlic Fries',\n",
       " 'Hanalei Pizza with Chicken and Bacon',\n",
       " 'Hash Brown Patty',\n",
       " 'Home Style Ground Beef Chili',\n",
       " 'Hot Dog All Beef',\n",
       " 'Island BBQ Chicken',\n",
       " 'Island Beef Steak',\n",
       " 'Korean BBQ Beef',\n",
       " 'Krinkle Cut Fries',\n",
       " 'Kung Pao Sauce',\n",
       " 'Meatball Bar',\n",
       " 'Meatballs',\n",
       " 'Orange Glazed Pork',\n",
       " 'Peanut Kung Pao Chicken',\n",
       " 'Penne',\n",
       " 'Pizza Special',\n",
       " 'Pizza with Gochujang BBQ Chicken',\n",
       " 'Pizza with Potato, Sausage and Cheese',\n",
       " 'Portabello Tofu Fried Rice',\n",
       " 'Rosemary Roasted Pork Loin',\n",
       " 'Sausage Patties',\n",
       " 'Sesame Chili Ginger Beef',\n",
       " 'Sesame Chow Mein Noodles',\n",
       " 'Sesame Yakisoba Noodles',\n",
       " 'Spam Fried Rice',\n",
       " 'Spicy Beef Stew From the Bayou',\n",
       " 'Spicy Double Sausage Pizza',\n",
       " 'Steak Cut Fries',\n",
       " 'Steamed Brown Rice',\n",
       " 'Steamed Rice',\n",
       " 'Sticky Rice',\n",
       " 'Strawberry Crunch Muffin',\n",
       " 'Sweet & Sour Tofu',\n",
       " 'Sweet and Sour Shrimp',\n",
       " 'Szechuan Sweet Chili Chicken',\n",
       " 'Szechuan Sweet Chili Sauce',\n",
       " 'Tator Tots',\n",
       " 'Teriyaki \"Chicken\" Stir Fry',\n",
       " 'Teriyaki Chicken Shoyu',\n",
       " 'Teriyaki Sauce (Gluten Free)',\n",
       " 'Teriyaki Tofu',\n",
       " 'Turkey Sausage Patty',\n",
       " 'Yogurt Cheesecake']"
      ]
     },
     "execution_count": 16,
     "metadata": {},
     "output_type": "execute_result"
    }
   ],
   "source": [
    "FoodTools.always_like()"
   ]
  },
  {
   "cell_type": "code",
   "execution_count": null,
   "metadata": {},
   "outputs": [],
   "source": []
  },
  {
   "cell_type": "code",
   "execution_count": null,
   "metadata": {},
   "outputs": [],
   "source": []
  }
 ],
 "metadata": {
  "kernelspec": {
   "display_name": "Python 3",
   "language": "python",
   "name": "python3"
  },
  "language_info": {
   "codemirror_mode": {
    "name": "ipython",
    "version": 3
   },
   "file_extension": ".py",
   "mimetype": "text/x-python",
   "name": "python",
   "nbconvert_exporter": "python",
   "pygments_lexer": "ipython3",
   "version": "3.6.6"
  }
 },
 "nbformat": 4,
 "nbformat_minor": 2
}
