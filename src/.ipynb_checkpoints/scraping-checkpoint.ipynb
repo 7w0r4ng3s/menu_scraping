{
 "cells": [
  {
   "cell_type": "code",
   "execution_count": 3,
   "metadata": {},
   "outputs": [],
   "source": [
    "# import dependencies\n",
    "import os\n",
    "import io\n",
    "import bs4\n",
    "import requests\n",
    "from bs4 import BeautifulSoup\n",
    "from urllib.parse import urljoin\n",
    "# from selenium import webdriver\n",
    "# from lxml import html\n",
    "import csv\n",
    "from datetime import datetime\n",
    "from pytz import timezone\n",
    "import pandas as pd\n",
    "import FoodTools"
   ]
  },
  {
   "cell_type": "code",
   "execution_count": 4,
   "metadata": {},
   "outputs": [],
   "source": [
    "# url of ucsc college 9 & 10 dining hall\n",
    "url = 'https://nutrition.sa.ucsc.edu/nutframe.asp?sName=UC+Santa+Cruz+Dining&locationNum=40&locationName=Colleges+Nine+%26+Ten+Dining+Hall&naFlag=1'"
   ]
  },
  {
   "cell_type": "code",
   "execution_count": 5,
   "metadata": {},
   "outputs": [],
   "source": [
    "# scrap the menu data from the webpage\n",
    "# since the menu data is cannot be scrapped from the html file directly\n",
    "# we have to make additional requests to get the frame page contents \n",
    "with requests.Session() as session:\n",
    "    response = session.get(url)\n",
    "    soup = BeautifulSoup(response.content, 'html.parser')\n",
    "\n",
    "    for frame in soup.select(\"frameset frame\"):\n",
    "        frame_url = urljoin(url, frame[\"src\"])\n",
    "        response = session.get(frame_url)\n",
    "        frame_soup = BeautifulSoup(response.content, 'html.parser') \n",
    "        # print(frame_soup.prettify())"
   ]
  },
  {
   "cell_type": "code",
   "execution_count": 6,
   "metadata": {},
   "outputs": [],
   "source": [
    "# extract both the meal name and food name from html\n",
    "meal_name = frame_soup.find_all('div', attrs={'class': 'menusampmeals'})\n",
    "food_name = frame_soup.find_all('div', attrs={'class': 'menusamprecipes'})"
   ]
  },
  {
   "cell_type": "code",
   "execution_count": 7,
   "metadata": {},
   "outputs": [
    {
     "name": "stdout",
     "output_type": "stream",
     "text": [
      "['Breakfast', 'Lunch', 'Dinner', 'Late Night']\n",
      "Length:  4\n"
     ]
    }
   ],
   "source": [
    "# convert the name of the meal type in html form to a list form\n",
    "meal_type = [item.string for item in meal_name]\n",
    "print(meal_type)\n",
    "print('Length: ', len(meal_type))"
   ]
  },
  {
   "cell_type": "code",
   "execution_count": 8,
   "metadata": {},
   "outputs": [
    {
     "name": "stdout",
     "output_type": "stream",
     "text": [
      "['Belgian Waffles', 'Black Beans', 'Cage Free Scrambled Eggs', 'French Toast Sticks', 'Hard-boiled Cage Free Eggs', 'Natural BridgesTofu Scramble', 'Oatmeal Gluten-Free', 'Soyrizo and Potato', 'Spicy Gold Potatoes', 'Blueberry Muffin', 'Muffin Orange Cranberry', 'Three-Berry Coffee Cake', 'Vegan Peanut Granola', 'Bell Peppers', 'Cage Free Eggs', 'Cage Free Omelette Bar', 'Cheddar Cheese', 'Feta Cheese', 'Fresh Organic Spinach', 'Fresh Tomato', 'Jalapeno', 'Onions', 'Oven Roasted Turkey', 'Sliced Olived', 'Smoked Ham', 'Chicken Ortega Soup', 'Tuscan Vegetable Soup', 'Miso Glazed Line Caught Salmon', 'Oven Roasted Chicken Thigh', 'Sesame Chili Ginger Beef', 'Spicy Szechuan Eggplant', 'Yakisoba Stir-Fried Noodles', 'BLT Pizza', 'Cheese Pizza', 'Sticky Rice', 'Steamed Seasonal Vegetables', 'Blueberry Turnovers', 'Rice Krispy Treats', 'Cajun Bayou Bar', 'Cajun Rice', 'Chicken Tenders', 'Chipotle BBQ Sauce', 'Creole Style Red Beans and Vegetables', 'Jalapeno Corn Cakes', 'Sausage Andouille', 'Spicy Cajun Gravy', 'Chicken Ortega Soup', 'Tuscan Vegetable Soup', 'Garlic Mashed Yukon Golds', 'Garlic Roast Beef', 'Oven Roasted Chicken Thigh', 'Steamed Rice', 'BLT Pizza', 'Cheese Pizza', 'Peanut Pad Thai with Tofu', 'Steamed Seasonal Vegetables', 'Cheese Quesadilla', 'Hot Dog Chili Cheese', 'Tator Tots', 'Red Velvet Cake', 'UCSC Bakery French Rolls', 'BBQ Shredded Pork', 'Chicken Tenders', 'Chipotle Gardein Strips', 'Mac & Cheese Bar Condiments', 'Mac and Cheese Bar', 'Macaroni & Cheese', 'Roasted Vegetables in Balsamic Mustard Vinaigrette', 'Vegan Macaroni & Cheese', 'Oven Roasted Chicken Thigh', 'Sauteed Seasonal Vegetable', 'Steamed Rice', 'Sweet & Sour Tofu', 'Sweet and Sour Chicken', 'BLT Pizza', 'Cheese Pizza', 'Chicken Nuggets', 'French Fries', 'Tahitian Chicken Wrap', 'Tahitian Plant Based Wrap', 'Charro Beans', 'Cheese Sauce', 'Condiments', 'Nachos Bar', 'Taqueria Chicken', 'Taqueria Ground Beef', 'Tortilla Chips']\n",
      "Length:  87\n"
     ]
    }
   ],
   "source": [
    "# convert the food name in html form to a list form\n",
    "food_list = [item.string for item in food_name]\n",
    "print(food_list)\n",
    "print('Length: ', len(food_list))"
   ]
  },
  {
   "cell_type": "code",
   "execution_count": 9,
   "metadata": {},
   "outputs": [
    {
     "name": "stdout",
     "output_type": "stream",
     "text": [
      "['BBQ Shredded Pork', 'BLT Pizza', 'Belgian Waffles', 'Bell Peppers', 'Black Beans', 'Blueberry Muffin', 'Blueberry Turnovers', 'Cage Free Eggs', 'Cage Free Omelette Bar', 'Cage Free Scrambled Eggs', 'Cajun Bayou Bar', 'Cajun Rice', 'Charro Beans', 'Cheddar Cheese', 'Cheese Pizza', 'Cheese Quesadilla', 'Cheese Sauce', 'Chicken Nuggets', 'Chicken Ortega Soup', 'Chicken Tenders', 'Chipotle BBQ Sauce', 'Chipotle Gardein Strips', 'Condiments', 'Creole Style Red Beans and Vegetables', 'Feta Cheese', 'French Fries', 'French Toast Sticks', 'Fresh Organic Spinach', 'Fresh Tomato', 'Garlic Mashed Yukon Golds', 'Garlic Roast Beef', 'Hard-boiled Cage Free Eggs', 'Hot Dog Chili Cheese', 'Jalapeno', 'Jalapeno Corn Cakes', 'Mac & Cheese Bar Condiments', 'Mac and Cheese Bar', 'Macaroni & Cheese', 'Miso Glazed Line Caught Salmon', 'Muffin Orange Cranberry', 'Nachos Bar', 'Natural BridgesTofu Scramble', 'Oatmeal Gluten-Free', 'Onions', 'Oven Roasted Chicken Thigh', 'Oven Roasted Turkey', 'Peanut Pad Thai with Tofu', 'Red Velvet Cake', 'Rice Krispy Treats', 'Roasted Vegetables in Balsamic Mustard Vinaigrette', 'Sausage Andouille', 'Sauteed Seasonal Vegetable', 'Sesame Chili Ginger Beef', 'Sliced Olived', 'Smoked Ham', 'Soyrizo and Potato', 'Spicy Cajun Gravy', 'Spicy Gold Potatoes', 'Spicy Szechuan Eggplant', 'Steamed Rice', 'Steamed Seasonal Vegetables', 'Sticky Rice', 'Sweet & Sour Tofu', 'Sweet and Sour Chicken', 'Tahitian Chicken Wrap', 'Tahitian Plant Based Wrap', 'Taqueria Chicken', 'Taqueria Ground Beef', 'Tator Tots', 'Three-Berry Coffee Cake', 'Tortilla Chips', 'Tuscan Vegetable Soup', 'UCSC Bakery French Rolls', 'Vegan Macaroni & Cheese', 'Vegan Peanut Granola', 'Yakisoba Stir-Fried Noodles']\n",
      "Sorted length:  76\n"
     ]
    }
   ],
   "source": [
    "# In case of dupliate food name, the list should be converted to a set\n",
    "# sort\n",
    "food_list = sorted(list(set(food_list)))\n",
    "print(food_list)\n",
    "print('Sorted length: ', len(food_list))"
   ]
  },
  {
   "cell_type": "code",
   "execution_count": 10,
   "metadata": {
    "scrolled": true
   },
   "outputs": [
    {
     "name": "stdout",
     "output_type": "stream",
     "text": [
      "BBQ Shredded Pork\n",
      "1\n",
      "BLT Pizza\n",
      "0\n",
      "Belgian Waffles\n",
      "0\n",
      "Bell Peppers\n",
      "0\n",
      "Black Beans\n",
      "0\n",
      "Blueberry Muffin\n",
      "0\n",
      "Blueberry Turnovers\n",
      "0\n",
      "Cage Free Eggs\n",
      "0\n",
      "Cage Free Omelette Bar\n",
      "0\n",
      "Cage Free Scrambled Eggs\n",
      "1\n",
      "Cajun Bayou Bar\n",
      "0\n",
      "Cajun Rice\n",
      "0\n",
      "Charro Beans\n",
      "0\n",
      "Cheddar Cheese\n",
      "0\n",
      "Cheese Pizza\n",
      "0\n",
      "Cheese Quesadilla\n",
      "0\n",
      "Cheese Sauce\n",
      "0\n",
      "Chicken Nuggets\n",
      "1\n",
      "Chicken Ortega Soup\n",
      "0\n",
      "Chicken Tenders\n",
      "1\n",
      "Chipotle BBQ Sauce\n",
      "0\n",
      "Chipotle Gardein Strips\n",
      "0\n",
      "Condiments\n",
      "0\n",
      "Creole Style Red Beans and Vegetables\n",
      "0\n",
      "Feta Cheese\n",
      "0\n",
      "French Fries\n",
      "1\n",
      "French Toast Sticks\n",
      "0\n",
      "Fresh Organic Spinach\n",
      "0\n",
      "Fresh Tomato\n",
      "0\n",
      "Garlic Mashed Yukon Golds\n",
      "0\n",
      "Garlic Roast Beef\n",
      "0\n",
      "Hard-boiled Cage Free Eggs\n",
      "0\n",
      "Hot Dog Chili Cheese\n",
      "0\n",
      "Jalapeno\n",
      "0\n",
      "Jalapeno Corn Cakes\n",
      "0\n",
      "Mac & Cheese Bar Condiments\n",
      "0\n",
      "Mac and Cheese Bar\n",
      "0\n",
      "Macaroni & Cheese\n",
      "0\n",
      "Miso Glazed Line Caught Salmon\n",
      "0\n",
      "Muffin Orange Cranberry\n",
      "0\n",
      "Nachos Bar\n",
      "0\n",
      "Natural BridgesTofu Scramble\n",
      "0\n",
      "Oatmeal Gluten-Free\n",
      "0\n",
      "Onions\n",
      "0\n",
      "Oven Roasted Chicken Thigh\n",
      "0\n",
      "Oven Roasted Turkey\n",
      "0\n",
      "Peanut Pad Thai with Tofu\n",
      "0\n",
      "Red Velvet Cake\n",
      "0\n",
      "Rice Krispy Treats\n",
      "0\n",
      "Roasted Vegetables in Balsamic Mustard Vinaigrette\n",
      "0\n",
      "Sausage Andouille\n",
      "0\n",
      "Sauteed Seasonal Vegetable\n",
      "0\n",
      "Sesame Chili Ginger Beef\n",
      "0\n",
      "Sliced Olived\n",
      "0\n",
      "Smoked Ham\n",
      "1\n",
      "Soyrizo and Potato\n",
      "0\n",
      "Spicy Cajun Gravy\n",
      "0\n",
      "Spicy Gold Potatoes\n",
      "0\n",
      "Spicy Szechuan Eggplant\n",
      "0\n",
      "Steamed Rice\n",
      "1\n",
      "Steamed Seasonal Vegetables\n",
      "0\n",
      "Sticky Rice\n",
      "1\n",
      "Sweet & Sour Tofu\n",
      "0\n",
      "Sweet and Sour Chicken\n",
      "0\n",
      "Tahitian Chicken Wrap\n",
      "0\n",
      "Tahitian Plant Based Wrap\n",
      "0\n",
      "Taqueria Chicken\n",
      "0\n",
      "Taqueria Ground Beef\n",
      "0\n",
      "Tator Tots\n",
      "1\n",
      "Three-Berry Coffee Cake\n",
      "0\n",
      "Tortilla Chips\n",
      "0\n",
      "Tuscan Vegetable Soup\n",
      "0\n",
      "UCSC Bakery French Rolls\n",
      "0\n",
      "Vegan Macaroni & Cheese\n",
      "0\n",
      "Vegan Peanut Granola\n",
      "0\n",
      "Yakisoba Stir-Fried Noodles\n",
      "0\n",
      "[1, 0, 0, 0, 0, 0, 0, 0, 0, 1, 0, 0, 0, 0, 0, 0, 0, 1, 0, 1, 0, 0, 0, 0, 0, 1, 0, 0, 0, 0, 0, 0, 0, 0, 0, 0, 0, 0, 0, 0, 0, 0, 0, 0, 0, 0, 0, 0, 0, 0, 0, 0, 0, 0, 1, 0, 0, 0, 0, 1, 0, 1, 0, 0, 0, 0, 0, 0, 1, 0, 0, 0, 0, 0, 0, 0]\n",
      "Preference length:  76\n"
     ]
    }
   ],
   "source": [
    "# preference list, labeled by myself\n",
    "# pref_1 = [1, 1, 1, 0, 0, 1, 0, 0, 0, 1, 1, 0, 0, 1, 0, 0, 0, 0, 0, 1, 1, 0, 0, 0, 0, 1, 0, 0, 0 ]\n",
    "# pref_2 = [1, 1, 1, 1, 0, 0, 1, 1, 1, 1, 1, 0, 0, 1, 0, 0, 0, 0, 1, 0, 0, 1, 1, 1, 0, 0, 0]\n",
    "# pref_3 = [0, 1, 1, 1, 0, 0, 0, 0, 0, 1, 1, 1, 1, 0, 0, 0, 1, 1, 0, 1, 0, 0, 0, 1]\n",
    "# pref_4 = [0, 0, 1, 1, 0, 0, 1, 1, 1, 0, 1, 0, 0, 0, 0, 1, 0, 0, 1, 1, 0, 1, 1, 1, 0, 0, 1, 0, 1, 0, 1, 1, 1, 0, 0]\n",
    "# pref_5 = [1, 0, 1, 0, 0, 0, 1, 1, 0, 1, 0, 0, 0, 0, 1, 0, 0, 0, 0, 0, 1, 0, 0, 1, 0, 0, 1, 0, 0, 1, 0, 1, 0]\n",
    "pref = []\n",
    "for i in food_list:\n",
    "    print(i)\n",
    "    preference = int(input())\n",
    "    if preference != 0 and preference != 1:\n",
    "        print('Incrorrect input')\n",
    "        break\n",
    "    pref.append(preference)\n",
    "print(pref)\n",
    "print('Preference length: ', len(pref))"
   ]
  },
  {
   "cell_type": "code",
   "execution_count": 11,
   "metadata": {},
   "outputs": [
    {
     "name": "stdout",
     "output_type": "stream",
     "text": [
      "Current US/Pacific time:  2018-10-04\n"
     ]
    }
   ],
   "source": [
    "# timezone setting\n",
    "us_pacific = timezone('US/Pacific')\n",
    "time = datetime.now(us_pacific)\n",
    "us_time = time.strftime('%Y-%m-%d')\n",
    "print('Current US/Pacific time: ', us_time)"
   ]
  },
  {
   "cell_type": "code",
   "execution_count": 12,
   "metadata": {},
   "outputs": [
    {
     "name": "stdout",
     "output_type": "stream",
     "text": [
      "Current path:  /Users/7w0r4ng3s/Documents/menu_scraping/data/2018-10-04.csv\n"
     ]
    }
   ],
   "source": [
    "# write the food list to a csv file\n",
    "path = '/Users/7w0r4ng3s/Documents/menu_scraping/data/{}.csv'.format(us_time)\n",
    "print('Current path: ', path)\n",
    "path_2 = '/Users/7w0r4ng3s/Documents/menu_scraping/data/'"
   ]
  },
  {
   "cell_type": "code",
   "execution_count": 13,
   "metadata": {},
   "outputs": [
    {
     "name": "stdout",
     "output_type": "stream",
     "text": [
      "write_csv: COMPLETED\n",
      "add_column_name: COMPLETED\n"
     ]
    }
   ],
   "source": [
    "def write_data():\n",
    "    with open(path, \"w\") as output:\n",
    "        writer = csv.writer(output, lineterminator='\\n')\n",
    "        for key, val in zip(food_list, pref):\n",
    "            writer.writerow([key, val])\n",
    "    print('write_csv: COMPLETED')\n",
    "    # add index and column names\n",
    "    df = pd.read_csv(path, names=['food', 'pref'])\n",
    "    df.index.names = ['index']\n",
    "    df.to_csv(path)\n",
    "    print('add_column_name: COMPLETED')\n",
    "    \n",
    "write_data()"
   ]
  },
  {
   "cell_type": "code",
   "execution_count": 14,
   "metadata": {},
   "outputs": [],
   "source": [
    "def append_data():\n",
    "    df1 = pd.read_csv('../Data.csv', index_col='index')\n",
    "    df1.index.names = ['index']\n",
    "    df2 = pd.read_csv(path, index_col='index')\n",
    "    df3 = df1.append(df2).reset_index()\n",
    "    df3 = df3.drop('index', 1).sort_values('food').reset_index().drop('index', 1)\n",
    "    df3.index.names = ['index']\n",
    "    df3.to_csv('Data.csv')\n",
    "    \n",
    "append_data()"
   ]
  },
  {
   "cell_type": "code",
   "execution_count": 15,
   "metadata": {},
   "outputs": [
    {
     "name": "stdout",
     "output_type": "stream",
     "text": [
      "Search food: chicken\n",
      "Do you mean:\n",
      "1 Argentinian Roasted Chicken\n",
      "2 BBQ Ginger Soy Chicken\n",
      "3 Big Island Chicken Stir Fry\n",
      "4 Bombay Chicken Pizza\n",
      "5 Buffalo Chicken Pizza\n",
      "6 Cajun Honey Glazed Chicken Breast\n",
      "7 Caramelized Chipotle Chicken\n",
      "8 Char Siu Chicken\n",
      "9 Chicken Adobo\n",
      "10 Chicken Apple Sausage\n",
      "11 Chicken Bacon\n",
      "12 Chicken Breast Milanese\n",
      "13 Chicken Club Pizza\n",
      "14 Chicken Gravy\n",
      "15 Chicken Honey Mustard\n",
      "16 Chicken Korma\n",
      "17 Chicken Mango Sausage\n",
      "18 Chicken Noodle Soup\n",
      "19 Chicken Nuggets\n",
      "20 Chicken Ortega Soup\n",
      "21 Chicken Pozole\n",
      "22 Chicken Sofrito\n",
      "23 Chicken Tenders\n",
      "24 Chicken Teriyaki Stir Fry\n",
      "25 Chicken Tikka Masala\n",
      "26 Chicken Tortilla Soup\n",
      "27 Cuban Banana BBQ'd Chicken\n",
      "28 Fried Chicken\n",
      "29 Grilled Huli Huli Chicken\n",
      "30 Halal Chicken Patty Sandwich\n",
      "31 Hanalei Pizza with Chicken and Bacon\n",
      "32 Harissa Roasted Chicken\n",
      "33 Island BBQ Chicken\n",
      "34 Italian Roasted Chicken\n",
      "35 Madras Chicken\n",
      "36 Middle East Apple Roasted Chicken\n",
      "37 Orange Glazed Vegan Chicken\n",
      "38 Oven Roasted Allergen Free Chicken Thigh\n",
      "39 Oven Roasted Chicken Thigh\n",
      "40 Peanut Kung Pao Chicken\n",
      "41 Pineapple Chicken Curry\n",
      "42 Pizza with Gochujang BBQ Chicken\n",
      "43 Ranch Chicken Sandwich with Bacon\n",
      "44 Sizzling Buffalo Chicken Salad\n",
      "45 Spicy Vegan Chicken and Broccoli Stir Fry\n",
      "46 Sun Dried Tomato Crusted Chicken Breast\n",
      "47 Szechuan Sweet Chili Chicken\n",
      "48 Tandoori Chicken\n",
      "49 Taqueria Chicken\n",
      "50 Teriyaki \"Chicken\" Stir Fry\n",
      "51 Teriyaki Chicken Shoyu\n",
      "52 Thai Coconut Curry Chicken Soup\n",
      "53 Vegan Chicken and Hummus Wrap\n",
      "\n",
      "Enter the index: 1\n",
      "--------------------------------------------------------------------------------\n",
      "Out of 1 time(s), you like [Argentinian Roasted Chicken] 0 time(s).\n",
      "--------------------------------------------------------------------------------\n"
     ]
    },
    {
     "data": {
      "text/plain": [
       "0.0"
      ]
     },
     "execution_count": 15,
     "metadata": {},
     "output_type": "execute_result"
    }
   ],
   "source": [
    "FoodTools.search()"
   ]
  },
  {
   "cell_type": "code",
   "execution_count": 16,
   "metadata": {},
   "outputs": [
    {
     "data": {
      "text/plain": [
       "['Armenian Salad',\n",
       " 'Atomic Cheese Sauce',\n",
       " 'Bar Indian',\n",
       " 'Bell Peppers',\n",
       " 'Black Beans',\n",
       " 'Bread Bun',\n",
       " 'Burger Turkey',\n",
       " 'Cage Free Eggs',\n",
       " 'Cage Free Omelette Bar',\n",
       " 'Cheddar Cheese',\n",
       " 'Cheese Ravioli',\n",
       " 'Condiments',\n",
       " 'Creamy Broccoli Cheddar Soup',\n",
       " 'Feta Cheese',\n",
       " 'Fresh Organic Spinach',\n",
       " 'Hawaiian Coleslaw',\n",
       " 'Jalapeno',\n",
       " 'Mexican Rice',\n",
       " 'Oatmeal Gluten-Free',\n",
       " 'Onions',\n",
       " 'Original Naan',\n",
       " 'Oven Roasted Chicken Thigh',\n",
       " 'Pepperoni Pizza',\n",
       " 'Roasted Corn',\n",
       " 'Roasted Seasonal Vegetables',\n",
       " 'Roasted Vegetables',\n",
       " 'Sauteed Mushrooms',\n",
       " 'Sauteed Seasonal Vegetable',\n",
       " 'Sliced Olived',\n",
       " 'Steamed Seasonal Vegetables',\n",
       " 'Stir Fry Vegetables',\n",
       " 'Tuscan Vegetable Soup',\n",
       " 'Vegan Malibu Burger',\n",
       " 'Vegan Peanut Granola',\n",
       " 'Vegan Tenders']"
      ]
     },
     "execution_count": 16,
     "metadata": {},
     "output_type": "execute_result"
    }
   ],
   "source": [
    "FoodTools.never_eat()"
   ]
  },
  {
   "cell_type": "code",
   "execution_count": 17,
   "metadata": {},
   "outputs": [
    {
     "data": {
      "text/plain": [
       "['Apple Pancakes',\n",
       " 'Asian Flank Steak w/Teriyaki',\n",
       " 'Asian Pork Spareribs',\n",
       " 'BAR Hot Dog',\n",
       " 'BBQ Beef Brisket',\n",
       " 'BBQ Shredded Pork',\n",
       " 'Bacon',\n",
       " 'Baja Fish Tacos',\n",
       " 'Baked Potatoes with Toppings',\n",
       " 'Banana and Coconut Pancakes',\n",
       " 'Bar Pasta',\n",
       " 'Blueberry Cheese Ring',\n",
       " 'Blueberry Pancakes',\n",
       " 'Bombay Chicken Pizza',\n",
       " 'Boston Cream Cake',\n",
       " 'Buffalo Chicken Pizza',\n",
       " 'Burger Beef',\n",
       " 'Buttermilk Pancakes',\n",
       " 'Cage Free Scrambled Eggs',\n",
       " 'California Pasta',\n",
       " 'Char Siu Chicken',\n",
       " 'Char Siu Sauce',\n",
       " 'Char Siu Seitan',\n",
       " 'Cheese Enchiladas',\n",
       " 'Chicken Bacon',\n",
       " 'Chicken Club Pizza',\n",
       " 'Chicken Mango Sausage',\n",
       " 'Chicken Noodle Soup',\n",
       " 'Chicken Nuggets',\n",
       " 'Chicken Tenders',\n",
       " 'Chicken Teriyaki Stir Fry',\n",
       " 'Chili with Beef',\n",
       " 'Chipotle BBQ Sauce',\n",
       " 'Crispy Bacon',\n",
       " 'Curly Fries',\n",
       " 'French Fries',\n",
       " 'French Toast Sticks',\n",
       " 'Fried Chicken',\n",
       " 'Garlic Fries',\n",
       " 'Hanalei Pizza with Chicken and Bacon',\n",
       " 'Hash Brown Patty',\n",
       " 'Home Style Ground Beef Chili',\n",
       " 'Hot Dog All Beef',\n",
       " 'Island BBQ Chicken',\n",
       " 'Island Beef Steak',\n",
       " 'Korean BBQ Beef',\n",
       " 'Krinkle Cut Fries',\n",
       " 'Kung Pao Sauce',\n",
       " 'Meatball Bar',\n",
       " 'Meatballs',\n",
       " 'Orange Glazed Pork',\n",
       " 'Peanut Kung Pao Chicken',\n",
       " 'Penne',\n",
       " 'Pizza Special',\n",
       " 'Pizza with Gochujang BBQ Chicken',\n",
       " 'Pizza with Potato, Sausage and Cheese',\n",
       " 'Portabello Tofu Fried Rice',\n",
       " 'Rosemary Roasted Pork Loin',\n",
       " 'Sausage Patties',\n",
       " 'Sesame Chili Ginger Beef',\n",
       " 'Sesame Chow Mein Noodles',\n",
       " 'Sesame Yakisoba Noodles',\n",
       " 'Spam Fried Rice',\n",
       " 'Spicy Beef Stew From the Bayou',\n",
       " 'Spicy Double Sausage Pizza',\n",
       " 'Steak Cut Fries',\n",
       " 'Steamed Brown Rice',\n",
       " 'Steamed Rice',\n",
       " 'Sticky Rice',\n",
       " 'Strawberry Crunch Muffin',\n",
       " 'Sweet & Sour Tofu',\n",
       " 'Sweet and Sour Shrimp',\n",
       " 'Szechuan Sweet Chili Chicken',\n",
       " 'Szechuan Sweet Chili Sauce',\n",
       " 'Tator Tots',\n",
       " 'Teriyaki \"Chicken\" Stir Fry',\n",
       " 'Teriyaki Chicken Shoyu',\n",
       " 'Teriyaki Sauce (Gluten Free)',\n",
       " 'Teriyaki Tofu',\n",
       " 'Turkey Sausage Patty',\n",
       " 'Yogurt Cheesecake']"
      ]
     },
     "execution_count": 17,
     "metadata": {},
     "output_type": "execute_result"
    }
   ],
   "source": [
    "FoodTools.always_like()"
   ]
  },
  {
   "cell_type": "code",
   "execution_count": null,
   "metadata": {},
   "outputs": [],
   "source": []
  },
  {
   "cell_type": "code",
   "execution_count": null,
   "metadata": {},
   "outputs": [],
   "source": []
  }
 ],
 "metadata": {
  "kernelspec": {
   "display_name": "Python 3",
   "language": "python",
   "name": "python3"
  },
  "language_info": {
   "codemirror_mode": {
    "name": "ipython",
    "version": 3
   },
   "file_extension": ".py",
   "mimetype": "text/x-python",
   "name": "python",
   "nbconvert_exporter": "python",
   "pygments_lexer": "ipython3",
   "version": "3.6.6"
  }
 },
 "nbformat": 4,
 "nbformat_minor": 2
}
