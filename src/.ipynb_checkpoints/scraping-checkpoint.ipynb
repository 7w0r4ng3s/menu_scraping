{
 "cells": [
  {
   "cell_type": "code",
   "execution_count": 3,
   "metadata": {},
   "outputs": [],
   "source": [
    "# import dependencies\n",
    "import os\n",
    "import io\n",
    "import bs4\n",
    "import requests\n",
    "from bs4 import BeautifulSoup\n",
    "from urllib.parse import urljoin\n",
    "# from selenium import webdriver\n",
    "# from lxml import html\n",
    "import csv\n",
    "from datetime import datetime\n",
    "from pytz import timezone\n",
    "import pandas as pd\n",
    "import FoodTools"
   ]
  },
  {
   "cell_type": "code",
   "execution_count": 4,
   "metadata": {},
   "outputs": [],
   "source": [
    "# url of ucsc college 9 & 10 dining hall\n",
    "url = 'https://nutrition.sa.ucsc.edu/nutframe.asp?sName=UC+Santa+Cruz+Dining&locationNum=40&locationName=Colleges+Nine+%26+Ten+Dining+Hall&naFlag=1'"
   ]
  },
  {
   "cell_type": "code",
   "execution_count": 5,
   "metadata": {},
   "outputs": [],
   "source": [
    "# scrap the menu data from the webpage\n",
    "# since the menu data is cannot be scrapped from the html file directly\n",
    "# we have to make additional requests to get the frame page contents \n",
    "with requests.Session() as session:\n",
    "    response = session.get(url)\n",
    "    soup = BeautifulSoup(response.content, 'html.parser')\n",
    "\n",
    "    for frame in soup.select(\"frameset frame\"):\n",
    "        frame_url = urljoin(url, frame[\"src\"])\n",
    "        response = session.get(frame_url)\n",
    "        frame_soup = BeautifulSoup(response.content, 'html.parser') \n",
    "        # print(frame_soup.prettify())"
   ]
  },
  {
   "cell_type": "code",
   "execution_count": 6,
   "metadata": {},
   "outputs": [],
   "source": [
    "# extract both the meal name and food name from html\n",
    "meal_name = frame_soup.find_all('div', attrs={'class': 'menusampmeals'})\n",
    "food_name = frame_soup.find_all('div', attrs={'class': 'menusamprecipes'})"
   ]
  },
  {
   "cell_type": "code",
   "execution_count": 7,
   "metadata": {},
   "outputs": [
    {
     "name": "stdout",
     "output_type": "stream",
     "text": [
      "['Breakfast', 'Lunch', 'Dinner', 'Late Night']\n",
      "Length:  4\n"
     ]
    }
   ],
   "source": [
    "# convert the name of the meal type in html form to a list form\n",
    "meal_type = [item.string for item in meal_name]\n",
    "print(meal_type)\n",
    "print('Length: ', len(meal_type))"
   ]
  },
  {
   "cell_type": "code",
   "execution_count": 8,
   "metadata": {},
   "outputs": [
    {
     "name": "stdout",
     "output_type": "stream",
     "text": [
      "['Belgian Waffles', 'Cage Free Scrambled Eggs', 'French Waffles', 'Hard-boiled Cage Free Eggs', 'Natural BridgesTofu Scramble', 'Oatmeal Gluten-Free', 'Papas Fritas', 'Turkey Sausage Patty', 'Chocolate Chip Muffin', 'Cinnamon Roll', 'Strawberry Almond Muffin', 'Vegan Peanut Granola', 'Bell Peppers', 'Cage Free Eggs', 'Cage Free Omelette Bar', 'Cheddar Cheese', 'Feta Cheese', 'Fresh Organic Spinach', 'Fresh Tomato', 'Jalapeno', 'Onions', 'Oven Roasted Turkey', 'Sliced Olived', 'Smoked Ham', 'Cream of Asparagus Soup', 'Thai Coconut Curry Chicken Soup', 'Oven Roasted Chicken Thigh', 'Portabello Tofu Fried Rice', 'Steamed Rice', 'Sustainable Pacific Rockfish Vera Cruz', 'Cheese Pizza', 'Hawaiian Pizza', 'Black Beans', 'Cilantro Lemon Rice', 'Roasted Seasonal Vegetables', 'Sweet Potato Fries', 'Cream Cheese Brownie', 'Bar Pasta', 'Cheese Ravioli', 'Cheese and Garlic Breadsticks', 'Condiments', 'Creamy Alfredo Sauce', 'Marinara Sauce', 'Penne', 'Chicken Nuggets', 'Butternut Squash Bisque', 'Thai Coconut Curry Chicken Soup', \"General Tso's Chicken\", \"General Tso's Tofu\", 'Oven Roasted Chicken Thigh', 'Cheese Pizza', 'Hawaiian Pizza', 'Sticky Rice', 'Roasted Seasonal Vegetables', 'Baja Burger', 'Krinkle Cut Fries', 'Cream Cheese Brownie', 'UCSC Bakery French Rolls', 'Vegan Apple Strudel', 'Black Beans', 'Carribbean Bar', 'Coconut Basmati Rice', 'Condiments', 'Fried Plantains', 'Pork Carnitas', 'Roasted Butternut Squash', 'Sugar and Spice Roasted Yams', 'Vegan Spicy Garbanzo Curry', 'Asian Flank Steak w/Teriyaki', 'Cheese Tortellini', 'Oven Roasted Chicken Thigh', 'Roasted Seasonal Vegetables', 'Steamed Rice', 'Cheese Pizza', 'Hawaiian Pizza', 'Roasted Red Potatoes Garlic Herb', 'Bar Pasta', 'Cheese Ravioli', 'Cheese and Garlic Breadsticks', 'Chicken Breast Milanese', 'Creamy Alfredo Sauce', 'Marinara Sauce', 'Penne']\n",
      "Length:  83\n"
     ]
    }
   ],
   "source": [
    "# convert the food name in html form to a list form\n",
    "food_list = [item.string for item in food_name]\n",
    "print(food_list)\n",
    "print('Length: ', len(food_list))"
   ]
  },
  {
   "cell_type": "code",
   "execution_count": 9,
   "metadata": {},
   "outputs": [
    {
     "name": "stdout",
     "output_type": "stream",
     "text": [
      "['Asian Flank Steak w/Teriyaki', 'Baja Burger', 'Bar Pasta', 'Belgian Waffles', 'Bell Peppers', 'Black Beans', 'Butternut Squash Bisque', 'Cage Free Eggs', 'Cage Free Omelette Bar', 'Cage Free Scrambled Eggs', 'Carribbean Bar', 'Cheddar Cheese', 'Cheese Pizza', 'Cheese Ravioli', 'Cheese Tortellini', 'Cheese and Garlic Breadsticks', 'Chicken Breast Milanese', 'Chicken Nuggets', 'Chocolate Chip Muffin', 'Cilantro Lemon Rice', 'Cinnamon Roll', 'Coconut Basmati Rice', 'Condiments', 'Cream Cheese Brownie', 'Cream of Asparagus Soup', 'Creamy Alfredo Sauce', 'Feta Cheese', 'French Waffles', 'Fresh Organic Spinach', 'Fresh Tomato', 'Fried Plantains', \"General Tso's Chicken\", \"General Tso's Tofu\", 'Hard-boiled Cage Free Eggs', 'Hawaiian Pizza', 'Jalapeno', 'Krinkle Cut Fries', 'Marinara Sauce', 'Natural BridgesTofu Scramble', 'Oatmeal Gluten-Free', 'Onions', 'Oven Roasted Chicken Thigh', 'Oven Roasted Turkey', 'Papas Fritas', 'Penne', 'Pork Carnitas', 'Portabello Tofu Fried Rice', 'Roasted Butternut Squash', 'Roasted Red Potatoes Garlic Herb', 'Roasted Seasonal Vegetables', 'Sliced Olived', 'Smoked Ham', 'Steamed Rice', 'Sticky Rice', 'Strawberry Almond Muffin', 'Sugar and Spice Roasted Yams', 'Sustainable Pacific Rockfish Vera Cruz', 'Sweet Potato Fries', 'Thai Coconut Curry Chicken Soup', 'Turkey Sausage Patty', 'UCSC Bakery French Rolls', 'Vegan Apple Strudel', 'Vegan Peanut Granola', 'Vegan Spicy Garbanzo Curry']\n",
      "Sorted length:  64\n"
     ]
    }
   ],
   "source": [
    "# In case of dupliate food name, the list should be converted to a set\n",
    "# sort\n",
    "food_list = sorted(list(set(food_list)))\n",
    "print(food_list)\n",
    "print('Sorted length: ', len(food_list))"
   ]
  },
  {
   "cell_type": "code",
   "execution_count": 10,
   "metadata": {
    "scrolled": true
   },
   "outputs": [
    {
     "name": "stdout",
     "output_type": "stream",
     "text": [
      "Asian Flank Steak w/Teriyaki\n",
      "1\n",
      "Baja Burger\n",
      "0\n",
      "Bar Pasta\n",
      "1\n",
      "Belgian Waffles\n",
      "0\n",
      "Bell Peppers\n",
      "0\n",
      "Black Beans\n",
      "0\n",
      "Butternut Squash Bisque\n",
      "0\n",
      "Cage Free Eggs\n",
      "0\n",
      "Cage Free Omelette Bar\n",
      "0\n",
      "Cage Free Scrambled Eggs\n",
      "1\n",
      "Carribbean Bar\n",
      "0\n",
      "Cheddar Cheese\n",
      "0\n",
      "Cheese Pizza\n",
      "1\n",
      "Cheese Ravioli\n",
      "0\n",
      "Cheese Tortellini\n",
      "0\n",
      "Cheese and Garlic Breadsticks\n",
      "0\n",
      "Chicken Breast Milanese\n",
      "0\n",
      "Chicken Nuggets\n",
      "1\n",
      "Chocolate Chip Muffin\n",
      "0\n",
      "Cilantro Lemon Rice\n",
      "0\n",
      "Cinnamon Roll\n",
      "0\n",
      "Coconut Basmati Rice\n",
      "0\n",
      "Condiments\n",
      "0\n",
      "Cream Cheese Brownie\n",
      "0\n",
      "Cream of Asparagus Soup\n",
      "0\n",
      "Creamy Alfredo Sauce\n",
      "0\n",
      "Feta Cheese\n",
      "0\n",
      "French Waffles\n",
      "0\n",
      "Fresh Organic Spinach\n",
      "0\n",
      "Fresh Tomato\n",
      "0\n",
      "Fried Plantains\n",
      "0\n",
      "General Tso's Chicken\n",
      "0\n",
      "General Tso's Tofu\n",
      "0\n",
      "Hard-boiled Cage Free Eggs\n",
      "0\n",
      "Hawaiian Pizza\n",
      "0\n",
      "Jalapeno\n",
      "0\n",
      "Krinkle Cut Fries\n",
      "1\n",
      "Marinara Sauce\n",
      "0\n",
      "Natural BridgesTofu Scramble\n",
      "0\n",
      "Oatmeal Gluten-Free\n",
      "0\n",
      "Onions\n",
      "0\n",
      "Oven Roasted Chicken Thigh\n",
      "0\n",
      "Oven Roasted Turkey\n",
      "1\n",
      "Papas Fritas\n",
      "0\n",
      "Penne\n",
      "1\n",
      "Pork Carnitas\n",
      "0\n",
      "Portabello Tofu Fried Rice\n",
      "0\n",
      "Roasted Butternut Squash\n",
      "0\n",
      "Roasted Red Potatoes Garlic Herb\n",
      "0\n",
      "Roasted Seasonal Vegetables\n",
      "0\n",
      "Sliced Olived\n",
      "0\n",
      "Smoked Ham\n",
      "1\n",
      "Steamed Rice\n",
      "1\n",
      "Sticky Rice\n",
      "1\n",
      "Strawberry Almond Muffin\n",
      "0\n",
      "Sugar and Spice Roasted Yams\n",
      "0\n",
      "Sustainable Pacific Rockfish Vera Cruz\n",
      "0\n",
      "Sweet Potato Fries\n",
      "0\n",
      "Thai Coconut Curry Chicken Soup\n",
      "0\n",
      "Turkey Sausage Patty\n",
      "1\n",
      "UCSC Bakery French Rolls\n",
      "0\n",
      "Vegan Apple Strudel\n",
      "0\n",
      "Vegan Peanut Granola\n",
      "0\n",
      "Vegan Spicy Garbanzo Curry\n",
      "0\n",
      "[1, 0, 1, 0, 0, 0, 0, 0, 0, 1, 0, 0, 1, 0, 0, 0, 0, 1, 0, 0, 0, 0, 0, 0, 0, 0, 0, 0, 0, 0, 0, 0, 0, 0, 0, 0, 1, 0, 0, 0, 0, 0, 1, 0, 1, 0, 0, 0, 0, 0, 0, 1, 1, 1, 0, 0, 0, 0, 0, 1, 0, 0, 0, 0]\n",
      "Preference length:  64\n"
     ]
    }
   ],
   "source": [
    "# preference list, labeled by myself\n",
    "# pref_1 = [1, 1, 1, 0, 0, 1, 0, 0, 0, 1, 1, 0, 0, 1, 0, 0, 0, 0, 0, 1, 1, 0, 0, 0, 0, 1, 0, 0, 0 ]\n",
    "# pref_2 = [1, 1, 1, 1, 0, 0, 1, 1, 1, 1, 1, 0, 0, 1, 0, 0, 0, 0, 1, 0, 0, 1, 1, 1, 0, 0, 0]\n",
    "# pref_3 = [0, 1, 1, 1, 0, 0, 0, 0, 0, 1, 1, 1, 1, 0, 0, 0, 1, 1, 0, 1, 0, 0, 0, 1]\n",
    "# pref_4 = [0, 0, 1, 1, 0, 0, 1, 1, 1, 0, 1, 0, 0, 0, 0, 1, 0, 0, 1, 1, 0, 1, 1, 1, 0, 0, 1, 0, 1, 0, 1, 1, 1, 0, 0]\n",
    "# pref_5 = [1, 0, 1, 0, 0, 0, 1, 1, 0, 1, 0, 0, 0, 0, 1, 0, 0, 0, 0, 0, 1, 0, 0, 1, 0, 0, 1, 0, 0, 1, 0, 1, 0]\n",
    "pref = []\n",
    "for i in food_list:\n",
    "    print(i)\n",
    "    preference = int(input())\n",
    "    if preference != 0 and preference != 1:\n",
    "        print('Incrorrect input')\n",
    "        break\n",
    "    pref.append(preference)\n",
    "print(pref)\n",
    "print('Preference length: ', len(pref))"
   ]
  },
  {
   "cell_type": "code",
   "execution_count": 11,
   "metadata": {},
   "outputs": [
    {
     "name": "stdout",
     "output_type": "stream",
     "text": [
      "Current US/Pacific time:  2018-10-02\n"
     ]
    }
   ],
   "source": [
    "# timezone setting\n",
    "us_pacific = timezone('US/Pacific')\n",
    "time = datetime.now(us_pacific)\n",
    "us_time = time.strftime('%Y-%m-%d')\n",
    "print('Current US/Pacific time: ', us_time)"
   ]
  },
  {
   "cell_type": "code",
   "execution_count": 12,
   "metadata": {},
   "outputs": [
    {
     "name": "stdout",
     "output_type": "stream",
     "text": [
      "Current path:  /Users/7w0r4ng3s/Documents/menu_scraping/data/2018-10-02.csv\n"
     ]
    }
   ],
   "source": [
    "# write the food list to a csv file\n",
    "path = '/Users/7w0r4ng3s/Documents/menu_scraping/data/{}.csv'.format(us_time)\n",
    "print('Current path: ', path)\n",
    "path_2 = '/Users/7w0r4ng3s/Documents/menu_scraping/data/'"
   ]
  },
  {
   "cell_type": "code",
   "execution_count": 13,
   "metadata": {},
   "outputs": [
    {
     "name": "stdout",
     "output_type": "stream",
     "text": [
      "write_csv: COMPLETED\n",
      "add_column_name: COMPLETED\n"
     ]
    }
   ],
   "source": [
    "def write_data():\n",
    "    with open(path, \"w\") as output:\n",
    "        writer = csv.writer(output, lineterminator='\\n')\n",
    "        for key, val in zip(food_list, pref):\n",
    "            writer.writerow([key, val])\n",
    "    print('write_csv: COMPLETED')\n",
    "    # add index and column names\n",
    "    df = pd.read_csv(path, names=['food', 'pref'])\n",
    "    df.index.names = ['index']\n",
    "    df.to_csv(path)\n",
    "    print('add_column_name: COMPLETED')\n",
    "    \n",
    "write_data()"
   ]
  },
  {
   "cell_type": "code",
   "execution_count": 14,
   "metadata": {},
   "outputs": [],
   "source": [
    "# def merge_data():\n",
    "#     # TODO: Figure out a way to get rid of the unnamed: 0 column\n",
    "#     # TODO: Modify merge_data() so that new data can be append to data.csv\n",
    "#     files = [f for f in os.listdir('.') if os.path.isfile(f)]\n",
    "\n",
    "#     merged = []\n",
    "\n",
    "#     for f in files:\n",
    "#         filename, ext = os.path.splitext(f)\n",
    "#         if ext == '.csv':\n",
    "#             read = pd.read_csv(f)\n",
    "#             merged.append(read)\n",
    "\n",
    "#     result = pd.concat(merged)\n",
    "#     result.to_csv('data.csv')\n",
    "    \n",
    "# merge_data()"
   ]
  },
  {
   "cell_type": "code",
   "execution_count": 16,
   "metadata": {},
   "outputs": [],
   "source": [
    "def append_data():\n",
    "    df1 = pd.read_csv('../Data.csv', index_col='index')\n",
    "    df1.index.names = ['index']\n",
    "    df2 = pd.read_csv(path, index_col='index')\n",
    "    df3 = df1.append(df2).reset_index()\n",
    "    df3 = df3.drop('index', 1).sort_values('food').reset_index().drop('index', 1)\n",
    "    df3.index.names = ['index']\n",
    "    df3.to_csv('Data.csv')\n",
    "    \n",
    "append_data()"
   ]
  },
  {
   "cell_type": "code",
   "execution_count": null,
   "metadata": {},
   "outputs": [],
   "source": [
    "FoodTools.search()"
   ]
  },
  {
   "cell_type": "code",
   "execution_count": 17,
   "metadata": {},
   "outputs": [
    {
     "data": {
      "text/plain": [
       "['Atomic Cheese Sauce',\n",
       " 'Bar Indian',\n",
       " 'Bell Peppers',\n",
       " 'Black Beans',\n",
       " 'Bread Bun',\n",
       " 'Burger Turkey',\n",
       " 'Cage Free Eggs',\n",
       " 'Cage Free Omelette Bar',\n",
       " 'Cheddar Cheese',\n",
       " 'Condiments',\n",
       " 'Feta Cheese',\n",
       " 'Fresh Organic Spinach',\n",
       " 'Hawaiian Coleslaw',\n",
       " 'Jalapeno',\n",
       " 'Mexican Rice',\n",
       " 'Oatmeal Gluten-Free',\n",
       " 'Onions',\n",
       " 'Original Naan',\n",
       " 'Oven Roasted Chicken Thigh',\n",
       " 'Pepperoni Pizza',\n",
       " 'Roasted Corn',\n",
       " 'Roasted Seasonal Vegetables',\n",
       " 'Roasted Vegetables',\n",
       " 'Sauteed Mushrooms',\n",
       " 'Sliced Olived',\n",
       " 'Steamed Seasonal Vegetables',\n",
       " 'Stir Fry Vegetables',\n",
       " 'Tuscan Vegetable Soup',\n",
       " 'Vegan Malibu Burger',\n",
       " 'Vegan Peanut Granola',\n",
       " 'Vegan Tenders']"
      ]
     },
     "execution_count": 17,
     "metadata": {},
     "output_type": "execute_result"
    }
   ],
   "source": [
    "FoodTools.never_eat()"
   ]
  },
  {
   "cell_type": "code",
   "execution_count": null,
   "metadata": {},
   "outputs": [],
   "source": []
  }
 ],
 "metadata": {
  "kernelspec": {
   "display_name": "Python 3",
   "language": "python",
   "name": "python3"
  },
  "language_info": {
   "codemirror_mode": {
    "name": "ipython",
    "version": 3
   },
   "file_extension": ".py",
   "mimetype": "text/x-python",
   "name": "python",
   "nbconvert_exporter": "python",
   "pygments_lexer": "ipython3",
   "version": "3.6.6"
  }
 },
 "nbformat": 4,
 "nbformat_minor": 2
}
