{
 "cells": [
  {
   "cell_type": "code",
   "execution_count": 1,
   "metadata": {},
   "outputs": [],
   "source": [
    "import pandas as pd\n",
    "\n",
    "# read the csv file and make a unique list of foods\n",
    "df = pd.read_csv('Data.csv').drop('index', 1)\n",
    "foods = list(df['food'].unique()) # a list of unique foods\n",
    "\n",
    "# return the number of times a food appears and the number of time you like it\n",
    "def search():\n",
    "    food_name = input('Search food: ') # works whether you type it uppercase or lowercase\n",
    "    if food_name in foods:\n",
    "        new_df = df.loc[df['food'] == food_name]\n",
    "        total = new_df['food'].count() # total times the food appears\n",
    "        like = new_df.iloc[:, 1].sum(0) # number of times you like it\n",
    "        # TODO: add preference evaluation\n",
    "        print('-' * 50)\n",
    "        print(f'Out of {total} time(s), you like {food_name} {like} time(s).')\n",
    "        print('-' * 50)\n",
    "        \n",
    "    elif food_name not in foods:\n",
    "        tmp = [] # a list to store possible foods\n",
    "        \"\"\"if the user type a part of a food name\n",
    "        it will return the possible food names\"\"\"\n",
    "        \n",
    "        [tmp.append(item) for item in foods if food_name.lower() in item.lower()] # possible food list\n",
    "        l = [i+1 for i in list(range(len(tmp)))] # index list\n",
    "\n",
    "        if len(tmp) == 0:\n",
    "            print(f'No result related to {food_name}. Please try again.')\n",
    "            return None\n",
    "\n",
    "        print('Do you mean:')\n",
    "\n",
    "        food_dict = dict(zip(l, tmp))\n",
    "        for i in food_dict.keys():\n",
    "            print(i, food_dict[i])\n",
    "        print()\n",
    "\n",
    "        # choose the desired food name again\n",
    "        choice = int(input('Enter the index: '))\n",
    "        new_df = df.loc[df['food'] == food_dict[choice]]\n",
    "        total = new_df['food'].count() # total times the food appears\n",
    "        like = new_df.iloc[:, 1].sum(0) # number of times you like it\n",
    "        score = like / total\n",
    "\n",
    "        print('-' * 80)\n",
    "        print(f'Out of {total} time(s), you like [{food_dict[choice]}] {like} time(s).')\n",
    "        print('-' * 80)"
   ]
  },
  {
   "cell_type": "code",
   "execution_count": null,
   "metadata": {},
   "outputs": [],
   "source": [
    "search()"
   ]
  },
  {
   "cell_type": "code",
   "execution_count": 3,
   "metadata": {},
   "outputs": [
    {
     "name": "stdout",
     "output_type": "stream",
     "text": [
      "Search food: egg\n",
      "Do you mean:\n",
      "1 Avocado Toast with Spicy Fried Egg\n",
      "2 Cage Free Eggs\n",
      "3 Cage Free Scrambled Eggs\n",
      "4 Egg O'Bagel\n",
      "5 Eggs Benedict\n",
      "6 Filipino Vegan Eggplant Pancit\n",
      "7 Hard-boiled Cage Free Eggs\n",
      "8 Middle Eastern Shakshuka Eggs\n",
      "9 Veggie Fried Rice\n",
      "10 Veggie Supreme Pizza\n",
      "\n",
      "Enter the index: 4\n",
      "--------------------------------------------------------------------------------\n",
      "Out of 1 time(s), you like [Egg O'Bagel] 0 time(s).\n",
      "--------------------------------------------------------------------------------\n"
     ]
    }
   ],
   "source": [
    "score = search()"
   ]
  },
  {
   "cell_type": "code",
   "execution_count": 17,
   "metadata": {},
   "outputs": [],
   "source": []
  },
  {
   "cell_type": "code",
   "execution_count": 11,
   "metadata": {},
   "outputs": [],
   "source": [
    "def report(food_name):\n",
    "    new_df = df.loc[df['food'] == food_name]\n",
    "    total = new_df['food'].count() # total times the food appears\n",
    "    like = new_df.iloc[:, 1].sum(0) # number of times you like it\n",
    "    food_score = like / total\n",
    "    print('[{}] score: '.format(food_name), food_score)\n",
    "    # a simple food preference evaluation to a specific food\n",
    "    if food_score > 0.5:\n",
    "        print('You like [{food_name}] over half of the time.')\n",
    "    elif food_score < 0.5:\n",
    "        print('You like [{food_name}] below half of the time.')\n",
    "    else:\n",
    "        print('50-50')"
   ]
  },
  {
   "cell_type": "code",
   "execution_count": 12,
   "metadata": {},
   "outputs": [
    {
     "name": "stdout",
     "output_type": "stream",
     "text": [
      "[Mac & Cheese] score:  0.5\n",
      "50-50\n"
     ]
    }
   ],
   "source": [
    "report('Mac & Cheese')"
   ]
  },
  {
   "cell_type": "code",
   "execution_count": 13,
   "metadata": {},
   "outputs": [],
   "source": [
    "# an algorithm which calculates a 'food value'\n",
    "# food value - a value evaluating the likelihood you will like the menu of one day\n",
    "# based on the food preference database"
   ]
  },
  {
   "cell_type": "code",
   "execution_count": 22,
   "metadata": {},
   "outputs": [],
   "source": [
    "def never_eat():\n",
    "    never = []\n",
    "    for food in foods:\n",
    "        df_food = df.loc[df['food'] == food] # dataframe of the specific food\n",
    "        if df_food['food'].count() >= 3:\n",
    "            if df_food['pref'].sum() == 0:\n",
    "                never.append(food)\n",
    "    return never"
   ]
  },
  {
   "cell_type": "code",
   "execution_count": 23,
   "metadata": {},
   "outputs": [
    {
     "data": {
      "text/plain": [
       "['Armenian Salad',\n",
       " 'Atomic Cheese Sauce',\n",
       " 'BAR Wings',\n",
       " 'BBQ Wings',\n",
       " 'Bar Indian',\n",
       " 'Bar Taqueria',\n",
       " 'Basmati Rice Pullao',\n",
       " 'Bell Peppers',\n",
       " 'Black Beans',\n",
       " 'Braised Kale with Crispy Shallots',\n",
       " 'Bread Bun',\n",
       " 'Burger Turkey',\n",
       " 'Cage Free Eggs',\n",
       " 'Cage Free Omelette Bar',\n",
       " 'Cheddar Cheese',\n",
       " 'Cheese Ravioli',\n",
       " \"Chef's Special\",\n",
       " 'Cilantro Flatbread with Red Onions and Mushrooms',\n",
       " 'Condiments',\n",
       " 'Corn Tortillas',\n",
       " 'Creamy Alfredo Sauce',\n",
       " 'Creamy Broccoli Cheddar Soup',\n",
       " 'Feta Cheese',\n",
       " 'Fresh Organic Spinach',\n",
       " 'Hawaiian Coleslaw',\n",
       " \"Hot 'N Spicy Wings\",\n",
       " 'Jalapeno',\n",
       " 'Masala Vegetables',\n",
       " 'Mexican Rice',\n",
       " 'N.E.Clam Chowder',\n",
       " 'Oatmeal Gluten-Free',\n",
       " 'Onions',\n",
       " 'Original Naan',\n",
       " 'Oven Roasted Chicken Thigh',\n",
       " 'Pepperoni Pizza',\n",
       " 'Roasted Corn',\n",
       " 'Roasted Seasonal Vegetables',\n",
       " 'Roasted Vegetables',\n",
       " 'Sauteed Mushrooms',\n",
       " 'Sauteed Seasonal Vegetable',\n",
       " 'Sliced Olived',\n",
       " 'Steamed Seasonal Vegetables',\n",
       " 'Stir Fry Vegetables',\n",
       " 'Teriyaki Glaze Wings',\n",
       " 'Tuscan Vegetable Soup',\n",
       " 'Vegan Baked Beans',\n",
       " 'Vegan Malibu Burger',\n",
       " 'Vegan Peanut Granola',\n",
       " 'Vegan Tenders']"
      ]
     },
     "execution_count": 23,
     "metadata": {},
     "output_type": "execute_result"
    }
   ],
   "source": [
    "never_eat()"
   ]
  },
  {
   "cell_type": "code",
   "execution_count": null,
   "metadata": {},
   "outputs": [],
   "source": []
  }
 ],
 "metadata": {
  "kernelspec": {
   "display_name": "Python 3",
   "language": "python",
   "name": "python3"
  },
  "language_info": {
   "codemirror_mode": {
    "name": "ipython",
    "version": 3
   },
   "file_extension": ".py",
   "mimetype": "text/x-python",
   "name": "python",
   "nbconvert_exporter": "python",
   "pygments_lexer": "ipython3",
   "version": "3.6.6"
  }
 },
 "nbformat": 4,
 "nbformat_minor": 2
}
